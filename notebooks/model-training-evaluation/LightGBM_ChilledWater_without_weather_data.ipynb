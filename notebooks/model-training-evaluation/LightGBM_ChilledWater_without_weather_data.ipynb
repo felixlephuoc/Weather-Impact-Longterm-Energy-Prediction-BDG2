{
 "cells": [
  {
   "cell_type": "code",
   "execution_count": 1,
   "metadata": {
    "collapsed": true,
    "executionInfo": {
     "elapsed": 621,
     "status": "ok",
     "timestamp": 1730568854985,
     "user": {
      "displayName": "Felix Le",
      "userId": "06899890425444909729"
     },
     "user_tz": -420
    },
    "id": "F29gYEY-sU4Y"
   },
   "outputs": [],
   "source": [
    "import time\n",
    "import pandas as pd\n",
    "import numpy as np\n",
    "import math\n",
    "import optuna\n",
    "import lightgbm as lgb\n",
    "from sklearn.preprocessing import MinMaxScaler, StandardScaler\n",
    "from sklearn.metrics import mean_squared_error, r2_score\n",
    "import matplotlib.pyplot as plt\n",
    "from pandas.tseries.offsets import DateOffset"
   ]
  },
  {
   "cell_type": "markdown",
   "metadata": {},
   "source": [
    "## Load datasets"
   ]
  },
  {
   "cell_type": "code",
   "execution_count": 2,
   "metadata": {
    "executionInfo": {
     "elapsed": 4502,
     "status": "ok",
     "timestamp": 1730568864452,
     "user": {
      "displayName": "Felix Le",
      "userId": "06899890425444909729"
     },
     "user_tz": -420
    },
    "id": "2ZuLFCAZsU4b"
   },
   "outputs": [],
   "source": [
    "# Load datasets\n",
    "# Train Data\n",
    "temp_df = pd.read_csv(\"../data/cleaned/train_wo_weather.csv\", nrows=0)  # Read only the header\n",
    "total_columns = len(temp_df.columns)\n",
    "columns_to_use = temp_df.columns[1:total_columns]\n",
    "train_data = pd.read_csv(\"../data/cleaned/train_wo_weather.csv\", usecols=columns_to_use)\n",
    "\n",
    "# Test Data\n",
    "test_data = pd.read_csv(\"../data/cleaned/test_wo_weather.csv\", usecols=columns_to_use)"
   ]
  },
  {
   "cell_type": "markdown",
   "metadata": {
    "id": "3FxWCwXYtlJv"
   },
   "source": [
    "## Process datasets"
   ]
  },
  {
   "cell_type": "code",
   "execution_count": null,
   "metadata": {
    "executionInfo": {
     "elapsed": 586,
     "status": "ok",
     "timestamp": 1730568869265,
     "user": {
      "displayName": "Felix Le",
      "userId": "06899890425444909729"
     },
     "user_tz": -420
    },
    "id": "2PhUIOTesU4b"
   },
   "outputs": [],
   "source": [
    "# *** Do not drop 'date' column yet ***\n",
    "train_data = train_data.drop(columns=['building_name', 'site_name', 'sqft'])\n",
    "test_data = test_data.drop(columns=['building_name', 'site_name', 'sqft'])\n",
    "\n",
    "# Convert 'date' column to datetime\n",
    "train_data['date'] = pd.to_datetime(train_data['date'])\n",
    "test_data['date'] = pd.to_datetime(test_data['date'])\n",
    "\n",
    "# Define the meters to filter by\n",
    "selected_meters = ['chilledwater', 'hotwater', 'electricity', 'gas']\n",
    "\n",
    "# Filter train and test data for selected meters\n",
    "train_data = train_data[train_data['meter'].isin(selected_meters)]\n",
    "test_data = test_data[test_data['meter'].isin(selected_meters)]\n",
    "\n",
    "\n",
    "\n",
    "# Building index on building_id for further assessment\n",
    "train_data.set_index('building_id', inplace=True)\n",
    "test_data.set_index('building_id', inplace=True)\n",
    "\n",
    "# Define features and types based on dataset\n",
    "numerical_features = ['sqm']\n",
    "categorical_features = ['sub_primaryspaceusage', 'site_id', 'weekday', 'month']\n",
    "\n",
    "results = []"
   ]
  },
  {
   "cell_type": "markdown",
   "metadata": {
    "id": "rF9G-3R-y74v"
   },
   "source": [
    "### Drop the columns that we may not use during training"
   ]
  },
  {
   "cell_type": "code",
   "execution_count": null,
   "metadata": {
    "executionInfo": {
     "elapsed": 360,
     "status": "ok",
     "timestamp": 1730568873223,
     "user": {
      "displayName": "Felix Le",
      "userId": "06899890425444909729"
     },
     "user_tz": -420
    },
    "id": "LbH3pMvsyFmR"
   },
   "outputs": [],
   "source": [
    "train_data.drop(columns=['primaryspaceusage', 'timezone', 'season'], inplace=True)\n",
    "test_data.drop(columns=['primaryspaceusage', 'timezone', 'season'], inplace=True)"
   ]
  },
  {
   "cell_type": "code",
   "execution_count": 5,
   "metadata": {
    "colab": {
     "base_uri": "https://localhost:8080/",
     "height": 344
    },
    "collapsed": true,
    "executionInfo": {
     "elapsed": 352,
     "status": "ok",
     "timestamp": 1730568874691,
     "user": {
      "displayName": "Felix Le",
      "userId": "06899890425444909729"
     },
     "user_tz": -420
    },
    "id": "YQnbxiTdtpuN",
    "outputId": "6ccade4c-f3be-4d9a-9dc9-002c7f5e7dc3"
   },
   "outputs": [
    {
     "data": {
      "text/html": [
       "<div>\n",
       "<style scoped>\n",
       "    .dataframe tbody tr th:only-of-type {\n",
       "        vertical-align: middle;\n",
       "    }\n",
       "\n",
       "    .dataframe tbody tr th {\n",
       "        vertical-align: top;\n",
       "    }\n",
       "\n",
       "    .dataframe thead th {\n",
       "        text-align: right;\n",
       "    }\n",
       "</style>\n",
       "<table border=\"1\" class=\"dataframe\">\n",
       "  <thead>\n",
       "    <tr style=\"text-align: right;\">\n",
       "      <th></th>\n",
       "      <th>meter</th>\n",
       "      <th>date</th>\n",
       "      <th>meter_reading</th>\n",
       "      <th>sub_primaryspaceusage</th>\n",
       "      <th>sqm</th>\n",
       "      <th>site_id</th>\n",
       "      <th>month</th>\n",
       "      <th>weekday</th>\n",
       "    </tr>\n",
       "    <tr>\n",
       "      <th>building_id</th>\n",
       "      <th></th>\n",
       "      <th></th>\n",
       "      <th></th>\n",
       "      <th></th>\n",
       "      <th></th>\n",
       "      <th></th>\n",
       "      <th></th>\n",
       "      <th></th>\n",
       "    </tr>\n",
       "  </thead>\n",
       "  <tbody>\n",
       "    <tr>\n",
       "      <th>1</th>\n",
       "      <td>electricity</td>\n",
       "      <td>2016-01-01</td>\n",
       "      <td>2.9050</td>\n",
       "      <td>Education</td>\n",
       "      <td>609.8</td>\n",
       "      <td>1</td>\n",
       "      <td>1</td>\n",
       "      <td>4</td>\n",
       "    </tr>\n",
       "    <tr>\n",
       "      <th>1</th>\n",
       "      <td>electricity</td>\n",
       "      <td>2016-01-02</td>\n",
       "      <td>2.7700</td>\n",
       "      <td>Education</td>\n",
       "      <td>609.8</td>\n",
       "      <td>1</td>\n",
       "      <td>1</td>\n",
       "      <td>5</td>\n",
       "    </tr>\n",
       "    <tr>\n",
       "      <th>1</th>\n",
       "      <td>electricity</td>\n",
       "      <td>2016-01-03</td>\n",
       "      <td>2.6725</td>\n",
       "      <td>Education</td>\n",
       "      <td>609.8</td>\n",
       "      <td>1</td>\n",
       "      <td>1</td>\n",
       "      <td>6</td>\n",
       "    </tr>\n",
       "    <tr>\n",
       "      <th>1</th>\n",
       "      <td>electricity</td>\n",
       "      <td>2016-01-04</td>\n",
       "      <td>4.5650</td>\n",
       "      <td>Education</td>\n",
       "      <td>609.8</td>\n",
       "      <td>1</td>\n",
       "      <td>1</td>\n",
       "      <td>0</td>\n",
       "    </tr>\n",
       "    <tr>\n",
       "      <th>1</th>\n",
       "      <td>electricity</td>\n",
       "      <td>2016-01-05</td>\n",
       "      <td>4.7825</td>\n",
       "      <td>Education</td>\n",
       "      <td>609.8</td>\n",
       "      <td>1</td>\n",
       "      <td>1</td>\n",
       "      <td>1</td>\n",
       "    </tr>\n",
       "  </tbody>\n",
       "</table>\n",
       "</div>"
      ],
      "text/plain": [
       "                   meter       date  meter_reading sub_primaryspaceusage  \\\n",
       "building_id                                                                \n",
       "1            electricity 2016-01-01         2.9050             Education   \n",
       "1            electricity 2016-01-02         2.7700             Education   \n",
       "1            electricity 2016-01-03         2.6725             Education   \n",
       "1            electricity 2016-01-04         4.5650             Education   \n",
       "1            electricity 2016-01-05         4.7825             Education   \n",
       "\n",
       "               sqm  site_id  month  weekday  \n",
       "building_id                                  \n",
       "1            609.8        1      1        4  \n",
       "1            609.8        1      1        5  \n",
       "1            609.8        1      1        6  \n",
       "1            609.8        1      1        0  \n",
       "1            609.8        1      1        1  "
      ]
     },
     "execution_count": 5,
     "metadata": {},
     "output_type": "execute_result"
    }
   ],
   "source": [
    "train_data.head()"
   ]
  },
  {
   "cell_type": "code",
   "execution_count": 6,
   "metadata": {
    "colab": {
     "base_uri": "https://localhost:8080/",
     "height": 344
    },
    "collapsed": true,
    "executionInfo": {
     "elapsed": 377,
     "status": "ok",
     "timestamp": 1730568877390,
     "user": {
      "displayName": "Felix Le",
      "userId": "06899890425444909729"
     },
     "user_tz": -420
    },
    "id": "zDkiEcB1tspg",
    "outputId": "ab92e354-eb4b-4d89-882c-35847eba72ea"
   },
   "outputs": [
    {
     "data": {
      "text/html": [
       "<div>\n",
       "<style scoped>\n",
       "    .dataframe tbody tr th:only-of-type {\n",
       "        vertical-align: middle;\n",
       "    }\n",
       "\n",
       "    .dataframe tbody tr th {\n",
       "        vertical-align: top;\n",
       "    }\n",
       "\n",
       "    .dataframe thead th {\n",
       "        text-align: right;\n",
       "    }\n",
       "</style>\n",
       "<table border=\"1\" class=\"dataframe\">\n",
       "  <thead>\n",
       "    <tr style=\"text-align: right;\">\n",
       "      <th></th>\n",
       "      <th>meter</th>\n",
       "      <th>date</th>\n",
       "      <th>meter_reading</th>\n",
       "      <th>sub_primaryspaceusage</th>\n",
       "      <th>sqm</th>\n",
       "      <th>site_id</th>\n",
       "      <th>month</th>\n",
       "      <th>weekday</th>\n",
       "    </tr>\n",
       "    <tr>\n",
       "      <th>building_id</th>\n",
       "      <th></th>\n",
       "      <th></th>\n",
       "      <th></th>\n",
       "      <th></th>\n",
       "      <th></th>\n",
       "      <th></th>\n",
       "      <th></th>\n",
       "      <th></th>\n",
       "    </tr>\n",
       "  </thead>\n",
       "  <tbody>\n",
       "    <tr>\n",
       "      <th>1</th>\n",
       "      <td>electricity</td>\n",
       "      <td>2017-01-01</td>\n",
       "      <td>2.1775</td>\n",
       "      <td>Education</td>\n",
       "      <td>609.8</td>\n",
       "      <td>1</td>\n",
       "      <td>1</td>\n",
       "      <td>6</td>\n",
       "    </tr>\n",
       "    <tr>\n",
       "      <th>1</th>\n",
       "      <td>electricity</td>\n",
       "      <td>2017-01-02</td>\n",
       "      <td>2.7925</td>\n",
       "      <td>Education</td>\n",
       "      <td>609.8</td>\n",
       "      <td>1</td>\n",
       "      <td>1</td>\n",
       "      <td>0</td>\n",
       "    </tr>\n",
       "    <tr>\n",
       "      <th>1</th>\n",
       "      <td>electricity</td>\n",
       "      <td>2017-01-03</td>\n",
       "      <td>7.1100</td>\n",
       "      <td>Education</td>\n",
       "      <td>609.8</td>\n",
       "      <td>1</td>\n",
       "      <td>1</td>\n",
       "      <td>1</td>\n",
       "    </tr>\n",
       "    <tr>\n",
       "      <th>1</th>\n",
       "      <td>electricity</td>\n",
       "      <td>2017-01-04</td>\n",
       "      <td>6.8450</td>\n",
       "      <td>Education</td>\n",
       "      <td>609.8</td>\n",
       "      <td>1</td>\n",
       "      <td>1</td>\n",
       "      <td>2</td>\n",
       "    </tr>\n",
       "    <tr>\n",
       "      <th>1</th>\n",
       "      <td>electricity</td>\n",
       "      <td>2017-01-05</td>\n",
       "      <td>3.9500</td>\n",
       "      <td>Education</td>\n",
       "      <td>609.8</td>\n",
       "      <td>1</td>\n",
       "      <td>1</td>\n",
       "      <td>3</td>\n",
       "    </tr>\n",
       "  </tbody>\n",
       "</table>\n",
       "</div>"
      ],
      "text/plain": [
       "                   meter       date  meter_reading sub_primaryspaceusage  \\\n",
       "building_id                                                                \n",
       "1            electricity 2017-01-01         2.1775             Education   \n",
       "1            electricity 2017-01-02         2.7925             Education   \n",
       "1            electricity 2017-01-03         7.1100             Education   \n",
       "1            electricity 2017-01-04         6.8450             Education   \n",
       "1            electricity 2017-01-05         3.9500             Education   \n",
       "\n",
       "               sqm  site_id  month  weekday  \n",
       "building_id                                  \n",
       "1            609.8        1      1        6  \n",
       "1            609.8        1      1        0  \n",
       "1            609.8        1      1        1  \n",
       "1            609.8        1      1        2  \n",
       "1            609.8        1      1        3  "
      ]
     },
     "execution_count": 6,
     "metadata": {},
     "output_type": "execute_result"
    }
   ],
   "source": [
    "test_data.head()"
   ]
  },
  {
   "cell_type": "code",
   "execution_count": 7,
   "metadata": {},
   "outputs": [
    {
     "name": "stdout",
     "output_type": "stream",
     "text": [
      "<class 'pandas.core.frame.DataFrame'>\n",
      "Index: 553758 entries, 1 to 924\n",
      "Data columns (total 8 columns):\n",
      " #   Column                 Non-Null Count   Dtype         \n",
      "---  ------                 --------------   -----         \n",
      " 0   meter                  553758 non-null  object        \n",
      " 1   date                   553758 non-null  datetime64[ns]\n",
      " 2   meter_reading          553758 non-null  float64       \n",
      " 3   sub_primaryspaceusage  553758 non-null  object        \n",
      " 4   sqm                    553758 non-null  float64       \n",
      " 5   site_id                553758 non-null  int64         \n",
      " 6   month                  553758 non-null  int64         \n",
      " 7   weekday                553758 non-null  int64         \n",
      "dtypes: datetime64[ns](1), float64(2), int64(3), object(2)\n",
      "memory usage: 38.0+ MB\n"
     ]
    }
   ],
   "source": [
    "train_data.info()"
   ]
  },
  {
   "cell_type": "code",
   "execution_count": 8,
   "metadata": {},
   "outputs": [
    {
     "name": "stdout",
     "output_type": "stream",
     "text": [
      "<class 'pandas.core.frame.DataFrame'>\n",
      "Index: 552245 entries, 1 to 924\n",
      "Data columns (total 8 columns):\n",
      " #   Column                 Non-Null Count   Dtype         \n",
      "---  ------                 --------------   -----         \n",
      " 0   meter                  552245 non-null  object        \n",
      " 1   date                   552245 non-null  datetime64[ns]\n",
      " 2   meter_reading          552245 non-null  float64       \n",
      " 3   sub_primaryspaceusage  552245 non-null  object        \n",
      " 4   sqm                    552245 non-null  float64       \n",
      " 5   site_id                552245 non-null  int64         \n",
      " 6   month                  552245 non-null  int64         \n",
      " 7   weekday                552245 non-null  int64         \n",
      "dtypes: datetime64[ns](1), float64(2), int64(3), object(2)\n",
      "memory usage: 37.9+ MB\n"
     ]
    }
   ],
   "source": [
    "test_data.info()"
   ]
  },
  {
   "cell_type": "code",
   "execution_count": 10,
   "metadata": {},
   "outputs": [
    {
     "data": {
      "text/plain": [
       "array(['electricity', 'chilledwater', 'gas', 'hotwater'], dtype=object)"
      ]
     },
     "execution_count": 10,
     "metadata": {},
     "output_type": "execute_result"
    }
   ],
   "source": [
    "unique_meters = train_data['meter'].unique()\n",
    "unique_meters"
   ]
  },
  {
   "cell_type": "markdown",
   "metadata": {},
   "source": [
    "## Select meter value (type of meter) used for modelling"
   ]
  },
  {
   "cell_type": "code",
   "execution_count": 11,
   "metadata": {},
   "outputs": [],
   "source": [
    "meter_value = 'hotwater'"
   ]
  },
  {
   "cell_type": "markdown",
   "metadata": {
    "id": "Gk-6J0FttxiG"
   },
   "source": [
    "## Define Evaluation metrics"
   ]
  },
  {
   "cell_type": "code",
   "execution_count": 12,
   "metadata": {
    "executionInfo": {
     "elapsed": 396,
     "status": "ok",
     "timestamp": 1730568885545,
     "user": {
      "displayName": "Felix Le",
      "userId": "06899890425444909729"
     },
     "user_tz": -420
    },
    "id": "OhGE8p96sU4d"
   },
   "outputs": [],
   "source": [
    "# Define custom evaluation metrics\n",
    "def root_mean_squared_error(y_true, y_pred):\n",
    "    mse = mean_squared_error(y_true, y_pred)\n",
    "    return math.sqrt(mse)\n",
    "\n",
    "def coefficient_of_variation_root_mean_squared_error(y_true, y_pred):\n",
    "    rmse = root_mean_squared_error(y_true, y_pred)\n",
    "    return rmse / np.mean(y_true) * 100\n",
    "\n",
    "def mean_bias_error(y_true, y_pred):\n",
    "    dif = y_true - y_pred\n",
    "    return np.mean(dif)\n",
    "\n",
    "def normalized_mean_bias_error(y_true, y_pred):\n",
    "    dif = y_true - y_pred\n",
    "    return (np.sum(dif) / (len(y_true) * np.mean(y_true))) * 100\n",
    "\n",
    "def r_squared(y_true, y_pred):\n",
    "    return r2_score(y_true, y_pred)"
   ]
  },
  {
   "cell_type": "markdown",
   "metadata": {},
   "source": [
    "## Data Preprocessing Functions for Model Training\n"
   ]
  },
  {
   "cell_type": "code",
   "execution_count": 13,
   "metadata": {},
   "outputs": [],
   "source": [
    "# Function to preprocess data\n",
    "def preprocess_data(X, y=None, fit_scaler=False, scaler=None, y_scaler=None):\n",
    "    # Convert categorical features to 'category' type\n",
    "    for cat_col in categorical_features:\n",
    "        X[cat_col] = X[cat_col].astype('category')\n",
    "\n",
    "    # Log-transform 'sqm' if it's a highly skewed feature\n",
    "    if 'sqm' in X.columns:\n",
    "        X['sqm'] = np.log1p(X['sqm'])\n",
    "\n",
    "    # Scale numerical features\n",
    "    if fit_scaler:\n",
    "        scaler = StandardScaler()\n",
    "        X[numerical_features] = scaler.fit_transform(X[numerical_features])\n",
    "        \n",
    "        if y is not None:\n",
    "            \n",
    "            # Cap y at the 99th percentile to handle outliers\n",
    "            cap_value = np.percentile(y, 99)\n",
    "            y = np.clip(y, None, cap_value)  # Cap extreme values\n",
    "            \n",
    "            # Log-transform and scale the target\n",
    "            y_log = np.log1p(y)\n",
    "            y_scaler = StandardScaler()\n",
    "            y_scaled = y_scaler.fit_transform(y_log.values.reshape(-1, 1)).flatten()\n",
    "            return X, y_scaled, scaler, y_scaler\n",
    "        else:\n",
    "            return X, scaler\n",
    "    else:\n",
    "        X[numerical_features] = scaler.transform(X[numerical_features])\n",
    "        \n",
    "        if y is not None:\n",
    "            # Log-transform and scale the target using the provided scaler\n",
    "            y_log = np.log1p(y)\n",
    "            y_scaled = y_scaler.transform(y_log.values.reshape(-1, 1)).flatten()\n",
    "            return X, y_scaled\n",
    "        else:\n",
    "            return X"
   ]
  },
  {
   "cell_type": "markdown",
   "metadata": {
    "id": "pPB_FaFOxtDC"
   },
   "source": [
    "## Training Models"
   ]
  },
  {
   "cell_type": "markdown",
   "metadata": {
    "id": "-iE_JNoYxvuA"
   },
   "source": [
    "### Process training data (2016)"
   ]
  },
  {
   "cell_type": "code",
   "execution_count": 14,
   "metadata": {},
   "outputs": [
    {
     "name": "stdout",
     "output_type": "stream",
     "text": [
      "==============  Processing meter value: hotwater =====================\n"
     ]
    }
   ],
   "source": [
    "print(f\"==============  Processing meter value: {meter_value} =====================\")\n",
    "# Filter data and preprocess\n",
    "meter_filter = train_data['meter'] == meter_value\n",
    "X_meter = train_data.loc[meter_filter].drop(columns=['meter_reading', 'meter', 'date'])\n",
    "y_meter = train_data.loc[meter_filter, 'meter_reading']\n",
    "\n",
    "X_train_full_processed, y_train_full_scaled, scaler, y_scaler = preprocess_data(\n",
    "    X_meter.copy(), y_meter, fit_scaler=True\n",
    ")\n",
    "\n",
    "for col in categorical_features:\n",
    "    X_train_full_processed[col] = X_train_full_processed[col].astype('category')"
   ]
  },
  {
   "cell_type": "code",
   "execution_count": 15,
   "metadata": {},
   "outputs": [
    {
     "data": {
      "text/html": [
       "<div>\n",
       "<style scoped>\n",
       "    .dataframe tbody tr th:only-of-type {\n",
       "        vertical-align: middle;\n",
       "    }\n",
       "\n",
       "    .dataframe tbody tr th {\n",
       "        vertical-align: top;\n",
       "    }\n",
       "\n",
       "    .dataframe thead th {\n",
       "        text-align: right;\n",
       "    }\n",
       "</style>\n",
       "<table border=\"1\" class=\"dataframe\">\n",
       "  <thead>\n",
       "    <tr style=\"text-align: right;\">\n",
       "      <th></th>\n",
       "      <th>sub_primaryspaceusage</th>\n",
       "      <th>sqm</th>\n",
       "      <th>site_id</th>\n",
       "      <th>month</th>\n",
       "      <th>weekday</th>\n",
       "    </tr>\n",
       "    <tr>\n",
       "      <th>building_id</th>\n",
       "      <th></th>\n",
       "      <th></th>\n",
       "      <th></th>\n",
       "      <th></th>\n",
       "      <th></th>\n",
       "    </tr>\n",
       "  </thead>\n",
       "  <tbody>\n",
       "    <tr>\n",
       "      <th>68</th>\n",
       "      <td>Academic</td>\n",
       "      <td>0.584485</td>\n",
       "      <td>2</td>\n",
       "      <td>1</td>\n",
       "      <td>4</td>\n",
       "    </tr>\n",
       "    <tr>\n",
       "      <th>68</th>\n",
       "      <td>Academic</td>\n",
       "      <td>0.584485</td>\n",
       "      <td>2</td>\n",
       "      <td>1</td>\n",
       "      <td>5</td>\n",
       "    </tr>\n",
       "    <tr>\n",
       "      <th>68</th>\n",
       "      <td>Academic</td>\n",
       "      <td>0.584485</td>\n",
       "      <td>2</td>\n",
       "      <td>1</td>\n",
       "      <td>6</td>\n",
       "    </tr>\n",
       "    <tr>\n",
       "      <th>68</th>\n",
       "      <td>Academic</td>\n",
       "      <td>0.584485</td>\n",
       "      <td>2</td>\n",
       "      <td>1</td>\n",
       "      <td>0</td>\n",
       "    </tr>\n",
       "    <tr>\n",
       "      <th>68</th>\n",
       "      <td>Academic</td>\n",
       "      <td>0.584485</td>\n",
       "      <td>2</td>\n",
       "      <td>1</td>\n",
       "      <td>1</td>\n",
       "    </tr>\n",
       "  </tbody>\n",
       "</table>\n",
       "</div>"
      ],
      "text/plain": [
       "            sub_primaryspaceusage       sqm site_id month weekday\n",
       "building_id                                                      \n",
       "68                       Academic  0.584485       2     1       4\n",
       "68                       Academic  0.584485       2     1       5\n",
       "68                       Academic  0.584485       2     1       6\n",
       "68                       Academic  0.584485       2     1       0\n",
       "68                       Academic  0.584485       2     1       1"
      ]
     },
     "execution_count": 15,
     "metadata": {},
     "output_type": "execute_result"
    }
   ],
   "source": [
    "X_train_full_processed.head()"
   ]
  },
  {
   "cell_type": "code",
   "execution_count": 16,
   "metadata": {},
   "outputs": [
    {
     "name": "stdout",
     "output_type": "stream",
     "text": [
      "<class 'pandas.core.frame.DataFrame'>\n",
      "Index: 42822 entries, 68 to 886\n",
      "Data columns (total 5 columns):\n",
      " #   Column                 Non-Null Count  Dtype   \n",
      "---  ------                 --------------  -----   \n",
      " 0   sub_primaryspaceusage  42822 non-null  category\n",
      " 1   sqm                    42822 non-null  float64 \n",
      " 2   site_id                42822 non-null  category\n",
      " 3   month                  42822 non-null  category\n",
      " 4   weekday                42822 non-null  category\n",
      "dtypes: category(4), float64(1)\n",
      "memory usage: 837.8 KB\n"
     ]
    }
   ],
   "source": [
    "X_train_full_processed.info()"
   ]
  },
  {
   "cell_type": "markdown",
   "metadata": {},
   "source": [
    "### Process test data (2017)"
   ]
  },
  {
   "cell_type": "code",
   "execution_count": 17,
   "metadata": {},
   "outputs": [],
   "source": [
    "meter_filter = test_data['meter'] == meter_value\n",
    "X_test_meter = test_data.loc[meter_filter].drop(columns=['meter_reading', 'meter', 'date'])\n",
    "y_test_meter = test_data.loc[meter_filter, 'meter_reading']\n",
    "\n",
    "X_test_processed, y_test_scaled = preprocess_data(\n",
    "    X_test_meter.copy(), y_test_meter, fit_scaler=False, scaler=scaler, y_scaler=y_scaler  \n",
    ")  # Must use the same scaler as the training set to prevent data leakage\n",
    "\n",
    "# Ensure that categorical columns in X_test_processed have the same levels as in X_train_processed\n",
    "for col in categorical_features:\n",
    "    X_test_processed[col] = X_test_processed[col].astype('category')"
   ]
  },
  {
   "cell_type": "code",
   "execution_count": 18,
   "metadata": {},
   "outputs": [
    {
     "data": {
      "text/html": [
       "<div>\n",
       "<style scoped>\n",
       "    .dataframe tbody tr th:only-of-type {\n",
       "        vertical-align: middle;\n",
       "    }\n",
       "\n",
       "    .dataframe tbody tr th {\n",
       "        vertical-align: top;\n",
       "    }\n",
       "\n",
       "    .dataframe thead th {\n",
       "        text-align: right;\n",
       "    }\n",
       "</style>\n",
       "<table border=\"1\" class=\"dataframe\">\n",
       "  <thead>\n",
       "    <tr style=\"text-align: right;\">\n",
       "      <th></th>\n",
       "      <th>sub_primaryspaceusage</th>\n",
       "      <th>sqm</th>\n",
       "      <th>site_id</th>\n",
       "      <th>month</th>\n",
       "      <th>weekday</th>\n",
       "    </tr>\n",
       "    <tr>\n",
       "      <th>building_id</th>\n",
       "      <th></th>\n",
       "      <th></th>\n",
       "      <th></th>\n",
       "      <th></th>\n",
       "      <th></th>\n",
       "    </tr>\n",
       "  </thead>\n",
       "  <tbody>\n",
       "    <tr>\n",
       "      <th>68</th>\n",
       "      <td>Academic</td>\n",
       "      <td>0.584485</td>\n",
       "      <td>2</td>\n",
       "      <td>1</td>\n",
       "      <td>6</td>\n",
       "    </tr>\n",
       "    <tr>\n",
       "      <th>68</th>\n",
       "      <td>Academic</td>\n",
       "      <td>0.584485</td>\n",
       "      <td>2</td>\n",
       "      <td>1</td>\n",
       "      <td>0</td>\n",
       "    </tr>\n",
       "    <tr>\n",
       "      <th>68</th>\n",
       "      <td>Academic</td>\n",
       "      <td>0.584485</td>\n",
       "      <td>2</td>\n",
       "      <td>1</td>\n",
       "      <td>1</td>\n",
       "    </tr>\n",
       "    <tr>\n",
       "      <th>68</th>\n",
       "      <td>Academic</td>\n",
       "      <td>0.584485</td>\n",
       "      <td>2</td>\n",
       "      <td>1</td>\n",
       "      <td>2</td>\n",
       "    </tr>\n",
       "    <tr>\n",
       "      <th>68</th>\n",
       "      <td>Academic</td>\n",
       "      <td>0.584485</td>\n",
       "      <td>2</td>\n",
       "      <td>1</td>\n",
       "      <td>3</td>\n",
       "    </tr>\n",
       "  </tbody>\n",
       "</table>\n",
       "</div>"
      ],
      "text/plain": [
       "            sub_primaryspaceusage       sqm site_id month weekday\n",
       "building_id                                                      \n",
       "68                       Academic  0.584485       2     1       6\n",
       "68                       Academic  0.584485       2     1       0\n",
       "68                       Academic  0.584485       2     1       1\n",
       "68                       Academic  0.584485       2     1       2\n",
       "68                       Academic  0.584485       2     1       3"
      ]
     },
     "execution_count": 18,
     "metadata": {},
     "output_type": "execute_result"
    }
   ],
   "source": [
    "X_test_processed.head()"
   ]
  },
  {
   "cell_type": "code",
   "execution_count": 19,
   "metadata": {},
   "outputs": [
    {
     "name": "stdout",
     "output_type": "stream",
     "text": [
      "<class 'pandas.core.frame.DataFrame'>\n",
      "Index: 42705 entries, 68 to 886\n",
      "Data columns (total 5 columns):\n",
      " #   Column                 Non-Null Count  Dtype   \n",
      "---  ------                 --------------  -----   \n",
      " 0   sub_primaryspaceusage  42705 non-null  category\n",
      " 1   sqm                    42705 non-null  float64 \n",
      " 2   site_id                42705 non-null  category\n",
      " 3   month                  42705 non-null  category\n",
      " 4   weekday                42705 non-null  category\n",
      "dtypes: category(4), float64(1)\n",
      "memory usage: 835.5 KB\n"
     ]
    }
   ],
   "source": [
    "X_test_processed.info() "
   ]
  },
  {
   "cell_type": "markdown",
   "metadata": {},
   "source": [
    "### Define Parameters\n",
    "\n",
    "* Ideally, we would use the parameters obtained from the model optimization process described above.\n",
    "* However, to save time, we’ve opted to skip the hyperparameter tuning step and instead directly define a set of parameters."
   ]
  },
  {
   "cell_type": "code",
   "execution_count": 20,
   "metadata": {},
   "outputs": [],
   "source": [
    "best_params = {\n",
    "    'num_leaves': 1000,                # Reduce to limit complexity\n",
    "    'learning_rate': 0.01,           # Lower learning rate\n",
    "    'max_bin': 512,                   # Reduce max_bin\n",
    "    'lambda_l1': 0.01,                 # Add L1 regularization\n",
    "    'lambda_l2': 0.01,                 # Add L2 regularization\n",
    "    'min_child_samples': 20,          # Increase min_child_samples\n",
    "    'max_depth': 15,                  # Limit max_depth\n",
    "}"
   ]
  },
  {
   "cell_type": "markdown",
   "metadata": {},
   "source": [
    "### Define functions to train the model"
   ]
  },
  {
   "cell_type": "code",
   "execution_count": 21,
   "metadata": {},
   "outputs": [],
   "source": [
    "# Custom callback to log progress with estimated remaining time\n",
    "class TimeEstimatorCallback:\n",
    "    def __init__(self, num_boost_round, display_interval=50):\n",
    "        self.num_boost_round = num_boost_round\n",
    "        self.display_interval = display_interval\n",
    "        self.start_time = None\n",
    "\n",
    "    def __call__(self, env):\n",
    "        if env.iteration == 0:\n",
    "            self.start_time = time.time()\n",
    "        \n",
    "        if env.iteration % self.display_interval == 0:\n",
    "            elapsed_time = time.time() - self.start_time\n",
    "            average_time_per_iter = elapsed_time / (env.iteration + 1)\n",
    "            remaining_iters = self.num_boost_round - env.iteration\n",
    "            estimated_remaining_time = remaining_iters * average_time_per_iter\n",
    "            \n",
    "            # Check if evaluation results are available\n",
    "            if env.evaluation_result_list:\n",
    "                rmse = env.evaluation_result_list[0][2]\n",
    "                print(f\"[Iteration {env.iteration}] RMSE: {rmse:.4f} \"\n",
    "                      f\"| Elapsed: {elapsed_time:.2f}s \"\n",
    "                      f\"| Estimated Remaining: {estimated_remaining_time:.2f}s\")\n",
    "            else:\n",
    "                print(f\"[Iteration {env.iteration}] No evaluation results \"\n",
    "                      f\"| Elapsed: {elapsed_time:.2f}s \"\n",
    "                      f\"| Estimated Remaining: {estimated_remaining_time:.2f}s\")\n",
    "\n",
    "# Function to train the final model with tuned parameters (no validation set)\n",
    "def train_final_model(X_train, y_train, best_params):\n",
    "    final_params = {\n",
    "        'objective': 'regression',\n",
    "        'metric': 'rmse',\n",
    "        'boosting_type': 'gbdt',\n",
    "        'device': 'cpu',\n",
    "        'verbosity': -1,\n",
    "    }\n",
    "    final_params.update(best_params)\n",
    "\n",
    "    # Create the LightGBM training dataset\n",
    "    lgb_train = lgb.Dataset(X_train, label=y_train, categorical_feature=categorical_features)\n",
    "    \n",
    "    num_boost_round = 1000\n",
    "\n",
    "    # Train the model only on the training set, without validation logging\n",
    "    model = lgb.train(\n",
    "        final_params,\n",
    "        lgb_train,\n",
    "        num_boost_round=num_boost_round,\n",
    "        valid_sets=[lgb_train],  # Only use the training set here\n",
    "        callbacks=[\n",
    "            lgb.log_evaluation(100),            # Log training metrics every 100 rounds\n",
    "            TimeEstimatorCallback(num_boost_round, 100)  # Estimate time every 50 iterations\n",
    "        ]\n",
    "    )\n",
    "\n",
    "    return model"
   ]
  },
  {
   "cell_type": "markdown",
   "metadata": {},
   "source": [
    "### Train the model"
   ]
  },
  {
   "cell_type": "code",
   "execution_count": 22,
   "metadata": {
    "colab": {
     "base_uri": "https://localhost:8080/",
     "height": 237
    },
    "collapsed": true,
    "executionInfo": {
     "elapsed": 395,
     "status": "error",
     "timestamp": 1730577281776,
     "user": {
      "displayName": "Felix Le",
      "userId": "06899890425444909729"
     },
     "user_tz": -420
    },
    "id": "ERGFbEX_-g2v",
    "outputId": "6c6ec7c9-7d47-40bb-dc10-8745ce54b2fb"
   },
   "outputs": [
    {
     "name": "stdout",
     "output_type": "stream",
     "text": [
      "========== Training the final model ==========================\n",
      "[Iteration 0] RMSE: 0.9917 | Elapsed: 0.00s | Estimated Remaining: 0.01s\n",
      "[100]\ttraining's rmse: 0.504234\n",
      "[Iteration 100] RMSE: 0.5016 | Elapsed: 0.82s | Estimated Remaining: 7.32s\n",
      "[200]\ttraining's rmse: 0.36589\n",
      "[Iteration 200] RMSE: 0.3653 | Elapsed: 3.84s | Estimated Remaining: 15.28s\n",
      "[300]\ttraining's rmse: 0.329579\n",
      "[Iteration 300] RMSE: 0.3294 | Elapsed: 24.40s | Estimated Remaining: 56.74s\n",
      "[400]\ttraining's rmse: 0.316685\n",
      "[Iteration 400] RMSE: 0.3166 | Elapsed: 29.45s | Estimated Remaining: 44.06s\n",
      "[500]\ttraining's rmse: 0.311282\n",
      "[Iteration 500] RMSE: 0.3112 | Elapsed: 305.22s | Estimated Remaining: 304.61s\n",
      "[600]\ttraining's rmse: 0.307781\n",
      "[Iteration 600] RMSE: 0.3077 | Elapsed: 441.23s | Estimated Remaining: 293.67s\n",
      "[700]\ttraining's rmse: 0.305607\n",
      "[Iteration 700] RMSE: 0.3056 | Elapsed: 469.19s | Estimated Remaining: 200.79s\n",
      "[800]\ttraining's rmse: 0.304031\n",
      "[Iteration 800] RMSE: 0.3040 | Elapsed: 484.58s | Estimated Remaining: 120.99s\n",
      "[900]\ttraining's rmse: 0.302726\n",
      "[Iteration 900] RMSE: 0.3027 | Elapsed: 487.37s | Estimated Remaining: 54.09s\n",
      "[1000]\ttraining's rmse: 0.301912\n"
     ]
    }
   ],
   "source": [
    "print(\"========== Training the final model ==========================\")\n",
    "\n",
    "final_model = train_final_model(X_train_full_processed, y_train_full_scaled, best_params)"
   ]
  },
  {
   "cell_type": "code",
   "execution_count": 23,
   "metadata": {},
   "outputs": [
    {
     "data": {
      "image/png": "[encoded data removed]",
      "text/plain": [
       "<Figure size 640x480 with 1 Axes>"
      ]
     },
     "metadata": {},
     "output_type": "display_data"
    }
   ],
   "source": [
    "# Plot the feature importance\n",
    "ax = lgb.plot_importance(final_model, max_num_features=20, importance_type='gain')\n",
    "plt.title(f\"Feature Importance for Meter {meter_value}\")\n",
    "plt.show()"
   ]
  },
  {
   "cell_type": "markdown",
   "metadata": {},
   "source": [
    "## Check Model Performance on training dataset"
   ]
  },
  {
   "cell_type": "markdown",
   "metadata": {},
   "source": [
    "### Define functions to evaluate model"
   ]
  },
  {
   "cell_type": "code",
   "execution_count": 24,
   "metadata": {},
   "outputs": [],
   "source": [
    "def evaluate_model(model, X_test, y_test, y_scaler):\n",
    "    # Get predictions\n",
    "    y_pred_scaled = model.predict(X_test)\n",
    "    y_pred_log = y_scaler.inverse_transform(y_pred_scaled.reshape(-1, 1))\n",
    "    y_pred = np.expm1(y_pred_log).flatten()  # Transform back from log scale\n",
    "\n",
    "    # Since y_test is already in original scale, no transformation needed\n",
    "    y_true = y_test\n",
    "\n",
    "    # Calculate metrics\n",
    "    rmse = root_mean_squared_error(y_true, y_pred)\n",
    "    cvrmse = coefficient_of_variation_root_mean_squared_error(y_true, y_pred)\n",
    "    mbe = mean_bias_error(y_true, y_pred)\n",
    "    nmbe = normalized_mean_bias_error(y_true, y_pred)\n",
    "    r2 = r_squared(y_true, y_pred)\n",
    "\n",
    "    # Create the results DataFrame including X_test features\n",
    "    results_df = pd.DataFrame(X_test).copy()\n",
    "    results_df['y_true'] = y_true\n",
    "    results_df['y_pred'] = y_pred\n",
    "\n",
    "    return rmse, cvrmse, nmbe, mbe, r2, results_df"
   ]
  },
  {
   "cell_type": "markdown",
   "metadata": {},
   "source": [
    "### Evaluate model on training dataset"
   ]
  },
  {
   "cell_type": "code",
   "execution_count": 26,
   "metadata": {},
   "outputs": [
    {
     "name": "stdout",
     "output_type": "stream",
     "text": [
      "Evaluating the model on training set\n",
      "Results for meter hotwater on train set:\n",
      "       RMSE=1161511.8963,\n",
      "       CV-RMSE=121.6145 %,\n",
      "       NMBE=15.0602 %,\n",
      "       MBE=143836.4209,\n",
      "       R2=0.7428\n"
     ]
    }
   ],
   "source": [
    "print(\"Evaluating the model on training set\")\n",
    "# Evaluate the model\n",
    "rmse, cvrmse, nmbe, mbe, r2, results_df_training = evaluate_model(final_model, X_train_full_processed, y_meter, y_scaler)\n",
    "\n",
    "# append metrics to \n",
    "results_training = []\n",
    "results_training.append({\n",
    "    'meter_value': meter_value,\n",
    "    'best_params': best_params,\n",
    "    'rmse': rmse,\n",
    "    'cv-rmse': cvrmse,\n",
    "    'nmbe': nmbe,\n",
    "})\n",
    "\n",
    "print(f\"Results for meter {meter_value} on train set:\\n \\\n",
    "      RMSE={round(rmse, 4)},\\n \\\n",
    "      CV-RMSE={round(cvrmse, 4)} %,\\n \\\n",
    "      NMBE={round(nmbe, 4)} %,\\n \\\n",
    "      MBE={round(mbe, 4)},\\n \\\n",
    "      R2={round(r2, 4)}\")\n"
   ]
  },
  {
   "cell_type": "markdown",
   "metadata": {},
   "source": [
    "### Visualize Prediction versus Actual on training set"
   ]
  },
  {
   "cell_type": "code",
   "execution_count": 27,
   "metadata": {},
   "outputs": [
    {
     "data": {
      "image/png": "[encoded data removed]",
      "text/plain": [
       "<Figure size 1200x600 with 1 Axes>"
      ]
     },
     "metadata": {},
     "output_type": "display_data"
    }
   ],
   "source": [
    "plt.figure(figsize=(12, 6))\n",
    "\n",
    "# Use contrasting colors and adjust the line width for better visibility\n",
    "plt.plot(results_df_training['y_true'], label=\"Actual\", color=\"blue\", alpha=0.6, linewidth=1.5)\n",
    "plt.plot(results_df_training['y_pred'], label=\"Predicted\", color=\"orange\", alpha=0.6, linewidth=1.5)\n",
    "\n",
    "plt.xlabel(\"Sample\")\n",
    "plt.ylabel(\"Value\")\n",
    "plt.legend()\n",
    "plt.title(\"Actual vs. Predicted Values\")\n",
    "plt.grid(True, linestyle='--', alpha=0.5)  # Add a light grid for better readability\n",
    "\n",
    "plt.show()"
   ]
  },
  {
   "cell_type": "markdown",
   "metadata": {
    "id": "bK4QwaZZAoc_"
   },
   "source": [
    "## Evaluate model on test set"
   ]
  },
  {
   "cell_type": "code",
   "execution_count": 28,
   "metadata": {
    "id": "wEx5MgKS_FLL"
   },
   "outputs": [
    {
     "name": "stdout",
     "output_type": "stream",
     "text": [
      "Evaluating the model on test set\n",
      "Results for meter hotwater on train set:\n",
      "       RMSE=2104897.2871,\n",
      "       CV-RMSE=220.3821 %,\n",
      "       NMBE=15.1536 %,\n",
      "       MBE=144733.8057,\n",
      "       R2=0.3649\n"
     ]
    }
   ],
   "source": [
    "print(\"Evaluating the model on test set\")\n",
    "# Evaluate the model\n",
    "rmse, cvrmse, nmbe, mbe,r2 ,results_df = evaluate_model(final_model, X_test_processed, y_test_meter, y_scaler)\n",
    "\n",
    "# append metrics to \n",
    "results.append({\n",
    "    'meter_value': meter_value,\n",
    "    'best_params': best_params,\n",
    "    'rmse': rmse,\n",
    "    'cv-rmse': cvrmse,\n",
    "    'nmbe': nmbe,\n",
    "    'r2_score': r2\n",
    "})\n",
    "\n",
    "print(f\"Results for meter {meter_value} on train set:\\n \\\n",
    "      RMSE={round(rmse, 4)},\\n \\\n",
    "      CV-RMSE={round(cvrmse, 4)} %,\\n \\\n",
    "      NMBE={round(nmbe, 4)} %,\\n \\\n",
    "      MBE={round(mbe, 4)},\\n \\\n",
    "      R2={round(r2, 4)}\")"
   ]
  },
  {
   "cell_type": "code",
   "execution_count": 29,
   "metadata": {},
   "outputs": [
    {
     "data": {
      "text/html": [
       "<div>\n",
       "<style scoped>\n",
       "    .dataframe tbody tr th:only-of-type {\n",
       "        vertical-align: middle;\n",
       "    }\n",
       "\n",
       "    .dataframe tbody tr th {\n",
       "        vertical-align: top;\n",
       "    }\n",
       "\n",
       "    .dataframe thead th {\n",
       "        text-align: right;\n",
       "    }\n",
       "</style>\n",
       "<table border=\"1\" class=\"dataframe\">\n",
       "  <thead>\n",
       "    <tr style=\"text-align: right;\">\n",
       "      <th></th>\n",
       "      <th>sub_primaryspaceusage</th>\n",
       "      <th>sqm</th>\n",
       "      <th>site_id</th>\n",
       "      <th>month</th>\n",
       "      <th>weekday</th>\n",
       "      <th>y_true</th>\n",
       "      <th>y_pred</th>\n",
       "    </tr>\n",
       "    <tr>\n",
       "      <th>building_id</th>\n",
       "      <th></th>\n",
       "      <th></th>\n",
       "      <th></th>\n",
       "      <th></th>\n",
       "      <th></th>\n",
       "      <th></th>\n",
       "      <th></th>\n",
       "    </tr>\n",
       "  </thead>\n",
       "  <tbody>\n",
       "    <tr>\n",
       "      <th>379</th>\n",
       "      <td>Office</td>\n",
       "      <td>0.678378</td>\n",
       "      <td>7</td>\n",
       "      <td>6</td>\n",
       "      <td>4</td>\n",
       "      <td>0.000000e+00</td>\n",
       "      <td>-9.205688e-02</td>\n",
       "    </tr>\n",
       "    <tr>\n",
       "      <th>238</th>\n",
       "      <td>Academic</td>\n",
       "      <td>0.141318</td>\n",
       "      <td>5</td>\n",
       "      <td>7</td>\n",
       "      <td>5</td>\n",
       "      <td>5.334900e+00</td>\n",
       "      <td>7.283264e-01</td>\n",
       "    </tr>\n",
       "    <tr>\n",
       "      <th>292</th>\n",
       "      <td>Office</td>\n",
       "      <td>-1.061631</td>\n",
       "      <td>6</td>\n",
       "      <td>11</td>\n",
       "      <td>2</td>\n",
       "      <td>2.546216e+06</td>\n",
       "      <td>1.673628e+06</td>\n",
       "    </tr>\n",
       "    <tr>\n",
       "      <th>365</th>\n",
       "      <td>College Laboratory</td>\n",
       "      <td>-0.093778</td>\n",
       "      <td>7</td>\n",
       "      <td>2</td>\n",
       "      <td>5</td>\n",
       "      <td>1.262593e+05</td>\n",
       "      <td>1.096706e+05</td>\n",
       "    </tr>\n",
       "    <tr>\n",
       "      <th>885</th>\n",
       "      <td>Office</td>\n",
       "      <td>0.991760</td>\n",
       "      <td>15</td>\n",
       "      <td>1</td>\n",
       "      <td>0</td>\n",
       "      <td>0.000000e+00</td>\n",
       "      <td>6.067354e+03</td>\n",
       "    </tr>\n",
       "    <tr>\n",
       "      <th>286</th>\n",
       "      <td>Office</td>\n",
       "      <td>-1.598199</td>\n",
       "      <td>6</td>\n",
       "      <td>6</td>\n",
       "      <td>4</td>\n",
       "      <td>9.495500e+05</td>\n",
       "      <td>8.880621e+05</td>\n",
       "    </tr>\n",
       "    <tr>\n",
       "      <th>334</th>\n",
       "      <td>College Classroom</td>\n",
       "      <td>-0.157603</td>\n",
       "      <td>7</td>\n",
       "      <td>12</td>\n",
       "      <td>2</td>\n",
       "      <td>0.000000e+00</td>\n",
       "      <td>3.079595e+02</td>\n",
       "    </tr>\n",
       "    <tr>\n",
       "      <th>347</th>\n",
       "      <td>College Laboratory</td>\n",
       "      <td>-1.189720</td>\n",
       "      <td>7</td>\n",
       "      <td>12</td>\n",
       "      <td>0</td>\n",
       "      <td>9.791543e+04</td>\n",
       "      <td>4.123550e+05</td>\n",
       "    </tr>\n",
       "    <tr>\n",
       "      <th>371</th>\n",
       "      <td>Office</td>\n",
       "      <td>-0.518497</td>\n",
       "      <td>7</td>\n",
       "      <td>10</td>\n",
       "      <td>1</td>\n",
       "      <td>6.871226e+03</td>\n",
       "      <td>1.427602e+04</td>\n",
       "    </tr>\n",
       "    <tr>\n",
       "      <th>279</th>\n",
       "      <td>Office</td>\n",
       "      <td>-0.575918</td>\n",
       "      <td>6</td>\n",
       "      <td>11</td>\n",
       "      <td>0</td>\n",
       "      <td>1.873016e+06</td>\n",
       "      <td>1.113505e+06</td>\n",
       "    </tr>\n",
       "  </tbody>\n",
       "</table>\n",
       "</div>"
      ],
      "text/plain": [
       "            sub_primaryspaceusage       sqm site_id month weekday  \\\n",
       "building_id                                                         \n",
       "379                        Office  0.678378       7     6       4   \n",
       "238                      Academic  0.141318       5     7       5   \n",
       "292                        Office -1.061631       6    11       2   \n",
       "365            College Laboratory -0.093778       7     2       5   \n",
       "885                        Office  0.991760      15     1       0   \n",
       "286                        Office -1.598199       6     6       4   \n",
       "334             College Classroom -0.157603       7    12       2   \n",
       "347            College Laboratory -1.189720       7    12       0   \n",
       "371                        Office -0.518497       7    10       1   \n",
       "279                        Office -0.575918       6    11       0   \n",
       "\n",
       "                   y_true        y_pred  \n",
       "building_id                              \n",
       "379          0.000000e+00 -9.205688e-02  \n",
       "238          5.334900e+00  7.283264e-01  \n",
       "292          2.546216e+06  1.673628e+06  \n",
       "365          1.262593e+05  1.096706e+05  \n",
       "885          0.000000e+00  6.067354e+03  \n",
       "286          9.495500e+05  8.880621e+05  \n",
       "334          0.000000e+00  3.079595e+02  \n",
       "347          9.791543e+04  4.123550e+05  \n",
       "371          6.871226e+03  1.427602e+04  \n",
       "279          1.873016e+06  1.113505e+06  "
      ]
     },
     "execution_count": 29,
     "metadata": {},
     "output_type": "execute_result"
    }
   ],
   "source": [
    "results_df.sample(10)"
   ]
  },
  {
   "cell_type": "markdown",
   "metadata": {},
   "source": [
    "### Visualize actual versus predictions on test set"
   ]
  },
  {
   "cell_type": "code",
   "execution_count": null,
   "metadata": {},
   "outputs": [
    {
     "data": {
      "image/png": "[encoded data removed]",
      "text/plain": [
       "<Figure size 1200x800 with 1 Axes>"
      ]
     },
     "metadata": {},
     "output_type": "display_data"
    },
    {
     "ename": "",
     "evalue": "",
     "output_type": "error",
     "traceback": [
      "\u001b[1;31mThe Kernel crashed while executing code in the current cell or a previous cell. \n",
      "\u001b[1;31mPlease review the code in the cell(s) to identify a possible cause of the failure. \n",
      "\u001b[1;31mClick <a href='https://aka.ms/vscodeJupyterKernelCrash'>here</a> for more info. \n",
      "\u001b[1;31mView Jupyter <a href='command:jupyter.viewOutput'>log</a> for further details."
     ]
    }
   ],
   "source": [
    "plt.figure(figsize=(12, 8))\n",
    "\n",
    "# Use contrasting colors and adjust the line width for better visibility\n",
    "plt.plot(results_df['y_true'], label=\"Actual\", color=\"blue\", alpha=0.6, linewidth=1.5)\n",
    "plt.plot(results_df['y_pred'], label=\"Predicted\", color=\"orange\", alpha=0.6, linewidth=1.5)\n",
    "\n",
    "plt.xlabel(\"Sample\")\n",
    "plt.ylabel(\"Value\")\n",
    "plt.legend()\n",
    "plt.title(\"Actual vs. Predicted Values\")\n",
    "plt.grid(True, linestyle='--', alpha=0.5)  # Add a light grid for better readability\n",
    "\n",
    "plt.show()"
   ]
  }
 ],
 "metadata": {
  "accelerator": "GPU",
  "colab": {
   "gpuType": "T4",
   "provenance": []
  },
  "kernelspec": {
   "display_name": "env",
   "language": "python",
   "name": "python3"
  },
  "language_info": {
   "codemirror_mode": {
    "name": "ipython",
    "version": 3
   },
   "file_extension": ".py",
   "mimetype": "text/x-python",
   "name": "python",
   "nbconvert_exporter": "python",
   "pygments_lexer": "ipython3",
   "version": "3.10.12"
  }
 },
 "nbformat": 4,
 "nbformat_minor": 0
}
