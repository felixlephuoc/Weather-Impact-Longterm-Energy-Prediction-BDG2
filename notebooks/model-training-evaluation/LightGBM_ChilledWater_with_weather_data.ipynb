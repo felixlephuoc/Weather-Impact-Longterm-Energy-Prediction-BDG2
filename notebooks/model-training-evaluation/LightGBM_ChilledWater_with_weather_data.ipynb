{
 "cells": [
  {
   "cell_type": "code",
   "execution_count": 30,
   "metadata": {
    "collapsed": true,
    "executionInfo": {
     "elapsed": 621,
     "status": "ok",
     "timestamp": 1730568854985,
     "user": {
      "displayName": "Felix Le",
      "userId": "06899890425444909729"
     },
     "user_tz": -420
    },
    "id": "F29gYEY-sU4Y"
   },
   "outputs": [],
   "source": [
    "import time\n",
    "import pandas as pd\n",
    "import numpy as np\n",
    "import math\n",
    "import optuna\n",
    "import lightgbm as lgb\n",
    "from sklearn.preprocessing import MinMaxScaler, StandardScaler\n",
    "from sklearn.metrics import mean_squared_error, r2_score\n",
    "import matplotlib.pyplot as plt\n",
    "from pandas.tseries.offsets import DateOffset"
   ]
  },
  {
   "cell_type": "markdown",
   "metadata": {},
   "source": [
    "## Load datasets"
   ]
  },
  {
   "cell_type": "code",
   "execution_count": 2,
   "metadata": {
    "executionInfo": {
     "elapsed": 4502,
     "status": "ok",
     "timestamp": 1730568864452,
     "user": {
      "displayName": "Felix Le",
      "userId": "06899890425444909729"
     },
     "user_tz": -420
    },
    "id": "2ZuLFCAZsU4b"
   },
   "outputs": [],
   "source": [
    "# Load datasets\n",
    "# Train Data\n",
    "temp_df = pd.read_csv(\"../data/cleaned/train.csv\", nrows=0)  # Read only the header\n",
    "total_columns = len(temp_df.columns)\n",
    "columns_to_use = temp_df.columns[1:total_columns]\n",
    "train_data = pd.read_csv(\"../data/cleaned/train.csv\", usecols=columns_to_use)\n",
    "\n",
    "# Test Data\n",
    "test_data = pd.read_csv(\"../data/cleaned/test.csv\", usecols=columns_to_use)"
   ]
  },
  {
   "cell_type": "markdown",
   "metadata": {
    "id": "3FxWCwXYtlJv"
   },
   "source": [
    "## Process datasets"
   ]
  },
  {
   "cell_type": "code",
   "execution_count": 3,
   "metadata": {
    "executionInfo": {
     "elapsed": 586,
     "status": "ok",
     "timestamp": 1730568869265,
     "user": {
      "displayName": "Felix Le",
      "userId": "06899890425444909729"
     },
     "user_tz": -420
    },
    "id": "2PhUIOTesU4b"
   },
   "outputs": [],
   "source": [
    "# *** Do not drop 'date' column yet ***\n",
    "train_data = train_data.drop(columns=['building_name', 'site_name', 'sqft'])\n",
    "test_data = test_data.drop(columns=['building_name', 'site_name', 'sqft'])\n",
    "\n",
    "# Convert 'date' column to datetime\n",
    "train_data['date'] = pd.to_datetime(train_data['date'])\n",
    "test_data['date'] = pd.to_datetime(test_data['date'])\n",
    "\n",
    "# Define the meters to filter by\n",
    "selected_meters = ['chilledwater', 'hotwater', 'electricity', 'gas']\n",
    "\n",
    "# Filter train and test data for selected meters\n",
    "train_data = train_data[train_data['meter'].isin(selected_meters)]\n",
    "test_data = test_data[test_data['meter'].isin(selected_meters)]\n",
    "\n",
    "\n",
    "\n",
    "# Building index on building_id for further assessment\n",
    "train_data.set_index('building_id', inplace=True)\n",
    "test_data.set_index('building_id', inplace=True)\n",
    "\n",
    "# Define features and types based on dataset\n",
    "numerical_features = ['sqm', 'airTemperature']\n",
    "categorical_features = ['sub_primaryspaceusage', 'site_id', 'weekday', 'month']\n",
    "\n",
    "results = []"
   ]
  },
  {
   "cell_type": "markdown",
   "metadata": {
    "id": "rF9G-3R-y74v"
   },
   "source": [
    "### Drop the columns that we may not use during training"
   ]
  },
  {
   "cell_type": "code",
   "execution_count": 4,
   "metadata": {
    "executionInfo": {
     "elapsed": 360,
     "status": "ok",
     "timestamp": 1730568873223,
     "user": {
      "displayName": "Felix Le",
      "userId": "06899890425444909729"
     },
     "user_tz": -420
    },
    "id": "LbH3pMvsyFmR"
   },
   "outputs": [],
   "source": [
    "train_data.drop(columns=['primaryspaceusage', 'timezone', 'season'], inplace=True)\n",
    "test_data.drop(columns=['primaryspaceusage', 'timezone', 'season'], inplace=True)"
   ]
  },
  {
   "cell_type": "code",
   "execution_count": 5,
   "metadata": {
    "colab": {
     "base_uri": "https://localhost:8080/",
     "height": 344
    },
    "collapsed": true,
    "executionInfo": {
     "elapsed": 352,
     "status": "ok",
     "timestamp": 1730568874691,
     "user": {
      "displayName": "Felix Le",
      "userId": "06899890425444909729"
     },
     "user_tz": -420
    },
    "id": "YQnbxiTdtpuN",
    "outputId": "6ccade4c-f3be-4d9a-9dc9-002c7f5e7dc3"
   },
   "outputs": [
    {
     "data": {
      "text/html": [
       "<div>\n",
       "<style scoped>\n",
       "    .dataframe tbody tr th:only-of-type {\n",
       "        vertical-align: middle;\n",
       "    }\n",
       "\n",
       "    .dataframe tbody tr th {\n",
       "        vertical-align: top;\n",
       "    }\n",
       "\n",
       "    .dataframe thead th {\n",
       "        text-align: right;\n",
       "    }\n",
       "</style>\n",
       "<table border=\"1\" class=\"dataframe\">\n",
       "  <thead>\n",
       "    <tr style=\"text-align: right;\">\n",
       "      <th></th>\n",
       "      <th>meter</th>\n",
       "      <th>date</th>\n",
       "      <th>meter_reading</th>\n",
       "      <th>sub_primaryspaceusage</th>\n",
       "      <th>sqm</th>\n",
       "      <th>airTemperature</th>\n",
       "      <th>month</th>\n",
       "      <th>weekday</th>\n",
       "      <th>site_id</th>\n",
       "    </tr>\n",
       "    <tr>\n",
       "      <th>building_id</th>\n",
       "      <th></th>\n",
       "      <th></th>\n",
       "      <th></th>\n",
       "      <th></th>\n",
       "      <th></th>\n",
       "      <th></th>\n",
       "      <th></th>\n",
       "      <th></th>\n",
       "      <th></th>\n",
       "    </tr>\n",
       "  </thead>\n",
       "  <tbody>\n",
       "    <tr>\n",
       "      <th>1</th>\n",
       "      <td>electricity</td>\n",
       "      <td>2016-01-01</td>\n",
       "      <td>2.9050</td>\n",
       "      <td>Education</td>\n",
       "      <td>609.8</td>\n",
       "      <td>5.246861</td>\n",
       "      <td>1</td>\n",
       "      <td>4</td>\n",
       "      <td>1</td>\n",
       "    </tr>\n",
       "    <tr>\n",
       "      <th>1</th>\n",
       "      <td>electricity</td>\n",
       "      <td>2016-01-02</td>\n",
       "      <td>2.7700</td>\n",
       "      <td>Education</td>\n",
       "      <td>609.8</td>\n",
       "      <td>5.993973</td>\n",
       "      <td>1</td>\n",
       "      <td>5</td>\n",
       "      <td>1</td>\n",
       "    </tr>\n",
       "    <tr>\n",
       "      <th>1</th>\n",
       "      <td>electricity</td>\n",
       "      <td>2016-01-03</td>\n",
       "      <td>2.6725</td>\n",
       "      <td>Education</td>\n",
       "      <td>609.8</td>\n",
       "      <td>5.660314</td>\n",
       "      <td>1</td>\n",
       "      <td>6</td>\n",
       "      <td>1</td>\n",
       "    </tr>\n",
       "    <tr>\n",
       "      <th>1</th>\n",
       "      <td>electricity</td>\n",
       "      <td>2016-01-04</td>\n",
       "      <td>4.5650</td>\n",
       "      <td>Education</td>\n",
       "      <td>609.8</td>\n",
       "      <td>5.048507</td>\n",
       "      <td>1</td>\n",
       "      <td>0</td>\n",
       "      <td>1</td>\n",
       "    </tr>\n",
       "    <tr>\n",
       "      <th>1</th>\n",
       "      <td>electricity</td>\n",
       "      <td>2016-01-05</td>\n",
       "      <td>4.7825</td>\n",
       "      <td>Education</td>\n",
       "      <td>609.8</td>\n",
       "      <td>4.745567</td>\n",
       "      <td>1</td>\n",
       "      <td>1</td>\n",
       "      <td>1</td>\n",
       "    </tr>\n",
       "  </tbody>\n",
       "</table>\n",
       "</div>"
      ],
      "text/plain": [
       "                   meter       date  meter_reading sub_primaryspaceusage  \\\n",
       "building_id                                                                \n",
       "1            electricity 2016-01-01         2.9050             Education   \n",
       "1            electricity 2016-01-02         2.7700             Education   \n",
       "1            electricity 2016-01-03         2.6725             Education   \n",
       "1            electricity 2016-01-04         4.5650             Education   \n",
       "1            electricity 2016-01-05         4.7825             Education   \n",
       "\n",
       "               sqm  airTemperature  month  weekday  site_id  \n",
       "building_id                                                  \n",
       "1            609.8        5.246861      1        4        1  \n",
       "1            609.8        5.993973      1        5        1  \n",
       "1            609.8        5.660314      1        6        1  \n",
       "1            609.8        5.048507      1        0        1  \n",
       "1            609.8        4.745567      1        1        1  "
      ]
     },
     "execution_count": 5,
     "metadata": {},
     "output_type": "execute_result"
    }
   ],
   "source": [
    "train_data.head()"
   ]
  },
  {
   "cell_type": "code",
   "execution_count": 6,
   "metadata": {
    "colab": {
     "base_uri": "https://localhost:8080/",
     "height": 344
    },
    "collapsed": true,
    "executionInfo": {
     "elapsed": 377,
     "status": "ok",
     "timestamp": 1730568877390,
     "user": {
      "displayName": "Felix Le",
      "userId": "06899890425444909729"
     },
     "user_tz": -420
    },
    "id": "zDkiEcB1tspg",
    "outputId": "ab92e354-eb4b-4d89-882c-35847eba72ea"
   },
   "outputs": [
    {
     "data": {
      "text/html": [
       "<div>\n",
       "<style scoped>\n",
       "    .dataframe tbody tr th:only-of-type {\n",
       "        vertical-align: middle;\n",
       "    }\n",
       "\n",
       "    .dataframe tbody tr th {\n",
       "        vertical-align: top;\n",
       "    }\n",
       "\n",
       "    .dataframe thead th {\n",
       "        text-align: right;\n",
       "    }\n",
       "</style>\n",
       "<table border=\"1\" class=\"dataframe\">\n",
       "  <thead>\n",
       "    <tr style=\"text-align: right;\">\n",
       "      <th></th>\n",
       "      <th>meter</th>\n",
       "      <th>date</th>\n",
       "      <th>meter_reading</th>\n",
       "      <th>sub_primaryspaceusage</th>\n",
       "      <th>sqm</th>\n",
       "      <th>airTemperature</th>\n",
       "      <th>month</th>\n",
       "      <th>weekday</th>\n",
       "      <th>site_id</th>\n",
       "    </tr>\n",
       "    <tr>\n",
       "      <th>building_id</th>\n",
       "      <th></th>\n",
       "      <th></th>\n",
       "      <th></th>\n",
       "      <th></th>\n",
       "      <th></th>\n",
       "      <th></th>\n",
       "      <th></th>\n",
       "      <th></th>\n",
       "      <th></th>\n",
       "    </tr>\n",
       "  </thead>\n",
       "  <tbody>\n",
       "    <tr>\n",
       "      <th>1</th>\n",
       "      <td>electricity</td>\n",
       "      <td>2017-01-01</td>\n",
       "      <td>2.1775</td>\n",
       "      <td>Education</td>\n",
       "      <td>609.8</td>\n",
       "      <td>6.313140</td>\n",
       "      <td>1</td>\n",
       "      <td>6</td>\n",
       "      <td>1</td>\n",
       "    </tr>\n",
       "    <tr>\n",
       "      <th>1</th>\n",
       "      <td>electricity</td>\n",
       "      <td>2017-01-02</td>\n",
       "      <td>2.7925</td>\n",
       "      <td>Education</td>\n",
       "      <td>609.8</td>\n",
       "      <td>5.297363</td>\n",
       "      <td>1</td>\n",
       "      <td>0</td>\n",
       "      <td>1</td>\n",
       "    </tr>\n",
       "    <tr>\n",
       "      <th>1</th>\n",
       "      <td>electricity</td>\n",
       "      <td>2017-01-03</td>\n",
       "      <td>7.1100</td>\n",
       "      <td>Education</td>\n",
       "      <td>609.8</td>\n",
       "      <td>5.970330</td>\n",
       "      <td>1</td>\n",
       "      <td>1</td>\n",
       "      <td>1</td>\n",
       "    </tr>\n",
       "    <tr>\n",
       "      <th>1</th>\n",
       "      <td>electricity</td>\n",
       "      <td>2017-01-04</td>\n",
       "      <td>6.8450</td>\n",
       "      <td>Education</td>\n",
       "      <td>609.8</td>\n",
       "      <td>5.959649</td>\n",
       "      <td>1</td>\n",
       "      <td>2</td>\n",
       "      <td>1</td>\n",
       "    </tr>\n",
       "    <tr>\n",
       "      <th>1</th>\n",
       "      <td>electricity</td>\n",
       "      <td>2017-01-05</td>\n",
       "      <td>3.9500</td>\n",
       "      <td>Education</td>\n",
       "      <td>609.8</td>\n",
       "      <td>1.717660</td>\n",
       "      <td>1</td>\n",
       "      <td>3</td>\n",
       "      <td>1</td>\n",
       "    </tr>\n",
       "  </tbody>\n",
       "</table>\n",
       "</div>"
      ],
      "text/plain": [
       "                   meter       date  meter_reading sub_primaryspaceusage  \\\n",
       "building_id                                                                \n",
       "1            electricity 2017-01-01         2.1775             Education   \n",
       "1            electricity 2017-01-02         2.7925             Education   \n",
       "1            electricity 2017-01-03         7.1100             Education   \n",
       "1            electricity 2017-01-04         6.8450             Education   \n",
       "1            electricity 2017-01-05         3.9500             Education   \n",
       "\n",
       "               sqm  airTemperature  month  weekday  site_id  \n",
       "building_id                                                  \n",
       "1            609.8        6.313140      1        6        1  \n",
       "1            609.8        5.297363      1        0        1  \n",
       "1            609.8        5.970330      1        1        1  \n",
       "1            609.8        5.959649      1        2        1  \n",
       "1            609.8        1.717660      1        3        1  "
      ]
     },
     "execution_count": 6,
     "metadata": {},
     "output_type": "execute_result"
    }
   ],
   "source": [
    "test_data.head()"
   ]
  },
  {
   "cell_type": "code",
   "execution_count": 7,
   "metadata": {},
   "outputs": [
    {
     "name": "stdout",
     "output_type": "stream",
     "text": [
      "<class 'pandas.core.frame.DataFrame'>\n",
      "Index: 553758 entries, 1 to 924\n",
      "Data columns (total 9 columns):\n",
      " #   Column                 Non-Null Count   Dtype         \n",
      "---  ------                 --------------   -----         \n",
      " 0   meter                  553758 non-null  object        \n",
      " 1   date                   553758 non-null  datetime64[ns]\n",
      " 2   meter_reading          553758 non-null  float64       \n",
      " 3   sub_primaryspaceusage  553758 non-null  object        \n",
      " 4   sqm                    553758 non-null  float64       \n",
      " 5   airTemperature         553758 non-null  float64       \n",
      " 6   month                  553758 non-null  int64         \n",
      " 7   weekday                553758 non-null  int64         \n",
      " 8   site_id                553758 non-null  int64         \n",
      "dtypes: datetime64[ns](1), float64(3), int64(3), object(2)\n",
      "memory usage: 42.2+ MB\n"
     ]
    }
   ],
   "source": [
    "train_data.info()"
   ]
  },
  {
   "cell_type": "code",
   "execution_count": 8,
   "metadata": {},
   "outputs": [
    {
     "name": "stdout",
     "output_type": "stream",
     "text": [
      "<class 'pandas.core.frame.DataFrame'>\n",
      "Index: 551785 entries, 1 to 924\n",
      "Data columns (total 9 columns):\n",
      " #   Column                 Non-Null Count   Dtype         \n",
      "---  ------                 --------------   -----         \n",
      " 0   meter                  551785 non-null  object        \n",
      " 1   date                   551785 non-null  datetime64[ns]\n",
      " 2   meter_reading          551785 non-null  float64       \n",
      " 3   sub_primaryspaceusage  551785 non-null  object        \n",
      " 4   sqm                    551785 non-null  float64       \n",
      " 5   airTemperature         551785 non-null  float64       \n",
      " 6   month                  551785 non-null  int64         \n",
      " 7   weekday                551785 non-null  int64         \n",
      " 8   site_id                551785 non-null  int64         \n",
      "dtypes: datetime64[ns](1), float64(3), int64(3), object(2)\n",
      "memory usage: 42.1+ MB\n"
     ]
    }
   ],
   "source": [
    "test_data.info()"
   ]
  },
  {
   "cell_type": "code",
   "execution_count": 9,
   "metadata": {},
   "outputs": [
    {
     "data": {
      "text/plain": [
       "count    553758.000000\n",
       "mean         14.194236\n",
       "std           6.803782\n",
       "min           0.167459\n",
       "25%           7.845055\n",
       "50%          13.906962\n",
       "75%          20.964912\n",
       "max          25.487445\n",
       "Name: airTemperature, dtype: float64"
      ]
     },
     "execution_count": 9,
     "metadata": {},
     "output_type": "execute_result"
    }
   ],
   "source": [
    "train_data['airTemperature'].describe()"
   ]
  },
  {
   "cell_type": "code",
   "execution_count": 10,
   "metadata": {},
   "outputs": [
    {
     "data": {
      "text/plain": [
       "array(['electricity', 'chilledwater', 'gas', 'hotwater'], dtype=object)"
      ]
     },
     "execution_count": 10,
     "metadata": {},
     "output_type": "execute_result"
    }
   ],
   "source": [
    "unique_meters = train_data['meter'].unique()\n",
    "unique_meters"
   ]
  },
  {
   "cell_type": "markdown",
   "metadata": {},
   "source": [
    "## Select meter value (type of meter) used for modelling"
   ]
  },
  {
   "cell_type": "code",
   "execution_count": 15,
   "metadata": {},
   "outputs": [],
   "source": [
    "meter_value = 'hotwater'"
   ]
  },
  {
   "cell_type": "markdown",
   "metadata": {
    "id": "Gk-6J0FttxiG"
   },
   "source": [
    "## Define Evaluation metrics"
   ]
  },
  {
   "cell_type": "code",
   "execution_count": 12,
   "metadata": {
    "executionInfo": {
     "elapsed": 396,
     "status": "ok",
     "timestamp": 1730568885545,
     "user": {
      "displayName": "Felix Le",
      "userId": "06899890425444909729"
     },
     "user_tz": -420
    },
    "id": "OhGE8p96sU4d"
   },
   "outputs": [],
   "source": [
    "# Define custom evaluation metrics\n",
    "def root_mean_squared_error(y_true, y_pred):\n",
    "    mse = mean_squared_error(y_true, y_pred)\n",
    "    return math.sqrt(mse)\n",
    "\n",
    "def coefficient_of_variation_root_mean_squared_error(y_true, y_pred):\n",
    "    rmse = root_mean_squared_error(y_true, y_pred)\n",
    "    return rmse / np.mean(y_true) * 100\n",
    "\n",
    "def mean_bias_error(y_true, y_pred):\n",
    "    dif = y_true - y_pred\n",
    "    return np.mean(dif)\n",
    "\n",
    "def normalized_mean_bias_error(y_true, y_pred):\n",
    "    dif = y_true - y_pred\n",
    "    return (np.sum(dif) / (len(y_true) * np.mean(y_true))) * 100\n",
    "\n",
    "def r_squared(y_true, y_pred):\n",
    "    return r2_score(y_true, y_pred)"
   ]
  },
  {
   "cell_type": "markdown",
   "metadata": {},
   "source": [
    "## Data Preprocessing Functions for Model Training\n"
   ]
  },
  {
   "cell_type": "code",
   "execution_count": 14,
   "metadata": {},
   "outputs": [],
   "source": [
    "# Function to preprocess data\n",
    "def preprocess_data(X, y=None, fit_scaler=False, scaler=None, y_scaler=None):\n",
    "    # Convert categorical features to 'category' type\n",
    "    for cat_col in categorical_features:\n",
    "        X[cat_col] = X[cat_col].astype('category')\n",
    "\n",
    "    # Log-transform 'sqm' if it's a highly skewed feature\n",
    "    if 'sqm' in X.columns:\n",
    "        X['sqm'] = np.log1p(X['sqm'])\n",
    "\n",
    "    # Scale numerical features\n",
    "    if fit_scaler:\n",
    "        scaler = StandardScaler()\n",
    "        X[numerical_features] = scaler.fit_transform(X[numerical_features])\n",
    "        \n",
    "        if y is not None:\n",
    "            \n",
    "            # Cap y at the 99th percentile to handle outliers\n",
    "            cap_value = np.percentile(y, 99)\n",
    "            y = np.clip(y, None, cap_value)  # Cap extreme values\n",
    "            \n",
    "            # Log-transform and scale the target\n",
    "            y_log = np.log1p(y)\n",
    "            y_scaler = StandardScaler()\n",
    "            y_scaled = y_scaler.fit_transform(y_log.values.reshape(-1, 1)).flatten()\n",
    "            return X, y_scaled, scaler, y_scaler\n",
    "        else:\n",
    "            return X, scaler\n",
    "    else:\n",
    "        X[numerical_features] = scaler.transform(X[numerical_features])\n",
    "        \n",
    "        if y is not None:\n",
    "            # Log-transform and scale the target using the provided scaler\n",
    "            y_log = np.log1p(y)\n",
    "            y_scaled = y_scaler.transform(y_log.values.reshape(-1, 1)).flatten()\n",
    "            return X, y_scaled\n",
    "        else:\n",
    "            return X"
   ]
  },
  {
   "cell_type": "markdown",
   "metadata": {
    "id": "R8GWsHWgt5UK"
   },
   "source": [
    "## Model Optimization: Hyper-parameter Tuning Using Optuna"
   ]
  },
  {
   "cell_type": "code",
   "execution_count": 13,
   "metadata": {
    "executionInfo": {
     "elapsed": 382,
     "status": "ok",
     "timestamp": 1730571338546,
     "user": {
      "displayName": "Felix Le",
      "userId": "06899890425444909729"
     },
     "user_tz": -420
    },
    "id": "g7i32kIvsU4d"
   },
   "outputs": [],
   "source": [
    "# Optuna objective function for hyperparameter tuning\n",
    "def objective(trial, X_train, y_train, X_valid, y_valid):\n",
    "    param = {\n",
    "        'objective': 'regression',\n",
    "        'metric': 'rmse',\n",
    "        \"random_state\": 42,\n",
    "        'boosting_type': 'gbdt',\n",
    "        'device': 'cpu',\n",
    "        'verbosity': -1,\n",
    "        'lambda_l1': trial.suggest_float('lambda_l1', 1e-8, 10.0, log=True),\n",
    "        'lambda_l2': trial.suggest_float('lambda_l2', 1e-8, 10.0, log=True),\n",
    "        'num_leaves': trial.suggest_int('num_leaves', 2000, 3000),\n",
    "        'feature_fraction': trial.suggest_float('feature_fraction', 0.4, 1.0),\n",
    "        'bagging_fraction': trial.suggest_float('bagging_fraction', 0.4, 1.0),\n",
    "        'bagging_freq': trial.suggest_int('bagging_freq', 1, 7),\n",
    "        'min_child_samples': trial.suggest_int('min_child_samples', 1, 50),\n",
    "        'learning_rate': 0.01,\n",
    "        'max_depth': trial.suggest_int('max_depth', 100, 500),\n",
    "        'max_bin': trial.suggest_int('max_bin', 500, 1000)\n",
    "    }\n",
    "\n",
    "    lgb_train = lgb.Dataset(X_train,\n",
    "                            label=y_train,\n",
    "                            categorical_feature=categorical_features)\n",
    "    lgb_valid = lgb.Dataset(X_valid,\n",
    "                            label=y_valid,\n",
    "                            categorical_feature=categorical_features,\n",
    "                            reference=lgb_train)\n",
    "\n",
    "    model = lgb.train(\n",
    "        param,\n",
    "        lgb_train,\n",
    "        valid_sets=[lgb_valid],\n",
    "        num_boost_round=1000,\n",
    "        callbacks=[\n",
    "        lgb.early_stopping(stopping_rounds=50),\n",
    "        lgb.log_evaluation(10)\n",
    "        ]\n",
    "    )\n",
    "\n",
    "    preds = model.predict(X_valid, num_iteration=model.best_iteration)\n",
    "    rmse = mean_squared_error(y_valid, preds, squared=False)\n",
    "    return rmse\n",
    "\n",
    "\n",
    "n_trials = 50\n",
    "def progress_callback(study, trial):\n",
    "    # Calculate the progress percentage\n",
    "    progress = (len(study.trials) / n_trials) * 100\n",
    "    print(f\"Progress: {progress:.2f}% - Trial {len(study.trials)} of {n_trials}\")\n"
   ]
  },
  {
   "cell_type": "markdown",
   "metadata": {},
   "source": [
    "#### Process data for model optimization"
   ]
  },
  {
   "cell_type": "code",
   "execution_count": 16,
   "metadata": {},
   "outputs": [
    {
     "name": "stdout",
     "output_type": "stream",
     "text": [
      "==============  Processing meter value: hotwater =====================\n"
     ]
    }
   ],
   "source": [
    "print(f\"==============  Processing meter value: {meter_value} =====================\")\n",
    "# Filter data and preprocess\n",
    "meter_filter = train_data['meter'] == meter_value\n",
    "X_meter = train_data.loc[meter_filter].drop(columns=['meter_reading', 'meter', 'date'])\n",
    "y_meter = train_data.loc[meter_filter, 'meter_reading']\n",
    "\n",
    "\n",
    "# Split Train set (2016) to train and validation set\n",
    "split_index = int(len(X_meter) * 0.8)\n",
    "X_train_meter = X_meter.iloc[:split_index]\n",
    "X_valid_meter = X_meter.iloc[split_index:]\n",
    "y_train_meter = y_meter.iloc[:split_index]\n",
    "y_valid_meter = y_meter.iloc[split_index:]\n",
    "\n",
    "X_train_processed, y_train_scaled, scaler, y_scaler = preprocess_data(\n",
    "     X_train_meter.copy(), y_train_meter, fit_scaler=True\n",
    ")\n",
    "X_valid_processed, y_valid_scaled = preprocess_data(\n",
    "     X_valid_meter.copy(), y_valid_meter, fit_scaler=False, scaler=scaler, y_scaler=y_scaler\n",
    ")"
   ]
  },
  {
   "cell_type": "code",
   "execution_count": 17,
   "metadata": {},
   "outputs": [
    {
     "name": "stderr",
     "output_type": "stream",
     "text": [
      "[I 2024-11-04 23:30:58,051] A new study created in memory with name: no-name-23dca3e2-7d1f-45e8-9f49-ba49dbe47f7a\n"
     ]
    },
    {
     "name": "stdout",
     "output_type": "stream",
     "text": [
      "================= Tunning hyperparameters with Optuna...=====================\n",
      "Training until validation scores don't improve for 50 rounds\n",
      "[10]\tvalid_0's rmse: 0.901979\n",
      "[20]\tvalid_0's rmse: 0.895302\n",
      "[30]\tvalid_0's rmse: 0.876039\n",
      "[40]\tvalid_0's rmse: 0.853747\n",
      "[50]\tvalid_0's rmse: 0.841116\n",
      "[60]\tvalid_0's rmse: 0.828624\n",
      "[70]\tvalid_0's rmse: 0.819086\n",
      "[80]\tvalid_0's rmse: 0.822418\n",
      "[90]\tvalid_0's rmse: 0.821837\n",
      "[100]\tvalid_0's rmse: 0.816027\n",
      "[110]\tvalid_0's rmse: 0.810206\n",
      "[120]\tvalid_0's rmse: 0.801818\n",
      "[130]\tvalid_0's rmse: 0.797123\n",
      "[140]\tvalid_0's rmse: 0.792623\n",
      "[150]\tvalid_0's rmse: 0.791275\n",
      "[160]\tvalid_0's rmse: 0.786419\n",
      "[170]\tvalid_0's rmse: 0.780027\n",
      "[180]\tvalid_0's rmse: 0.772166\n",
      "[190]\tvalid_0's rmse: 0.771899\n",
      "[200]\tvalid_0's rmse: 0.772152\n",
      "[210]\tvalid_0's rmse: 0.770104\n",
      "[220]\tvalid_0's rmse: 0.769131\n",
      "[230]\tvalid_0's rmse: 0.766578\n",
      "[240]\tvalid_0's rmse: 0.764139\n",
      "[250]\tvalid_0's rmse: 0.76381\n",
      "[260]\tvalid_0's rmse: 0.762828\n",
      "[270]\tvalid_0's rmse: 0.760461\n",
      "[280]\tvalid_0's rmse: 0.759537\n",
      "[290]\tvalid_0's rmse: 0.757997\n",
      "[300]\tvalid_0's rmse: 0.757192\n",
      "[310]\tvalid_0's rmse: 0.75577\n",
      "[320]\tvalid_0's rmse: 0.755891\n",
      "[330]\tvalid_0's rmse: 0.754585\n",
      "[340]\tvalid_0's rmse: 0.754298\n",
      "[350]\tvalid_0's rmse: 0.753783\n",
      "[360]\tvalid_0's rmse: 0.752552\n",
      "[370]\tvalid_0's rmse: 0.751898\n",
      "[380]\tvalid_0's rmse: 0.75073\n",
      "[390]\tvalid_0's rmse: 0.750438\n",
      "[400]\tvalid_0's rmse: 0.750113\n",
      "[410]\tvalid_0's rmse: 0.75002\n",
      "[420]\tvalid_0's rmse: 0.750106\n",
      "[430]\tvalid_0's rmse: 0.749202\n",
      "[440]\tvalid_0's rmse: 0.748846\n",
      "[450]\tvalid_0's rmse: 0.748822\n",
      "[460]\tvalid_0's rmse: 0.748756\n",
      "[470]\tvalid_0's rmse: 0.748417\n",
      "[480]\tvalid_0's rmse: 0.748142\n",
      "[490]\tvalid_0's rmse: 0.747894\n",
      "[500]\tvalid_0's rmse: 0.747871\n",
      "[510]\tvalid_0's rmse: 0.747993\n",
      "[520]\tvalid_0's rmse: 0.747996\n",
      "[530]\tvalid_0's rmse: 0.747905\n",
      "[540]\tvalid_0's rmse: 0.747934\n",
      "[550]\tvalid_0's rmse: 0.747918\n",
      "[560]\tvalid_0's rmse: 0.747785\n",
      "[570]\tvalid_0's rmse: 0.747646\n",
      "[580]\tvalid_0's rmse: 0.747614\n",
      "[590]\tvalid_0's rmse: 0.747509\n",
      "[600]\tvalid_0's rmse: 0.747325\n",
      "[610]\tvalid_0's rmse: 0.747716\n",
      "[620]\tvalid_0's rmse: 0.747815\n",
      "[630]\tvalid_0's rmse: 0.747893\n",
      "[640]\tvalid_0's rmse: 0.747987\n",
      "Early stopping, best iteration is:\n",
      "[599]\tvalid_0's rmse: 0.74731\n"
     ]
    },
    {
     "name": "stderr",
     "output_type": "stream",
     "text": [
      "[I 2024-11-04 23:31:02,991] Trial 0 finished with value: 0.7473096769208166 and parameters: {'lambda_l1': 8.125712615571022, 'lambda_l2': 5.51597563815243e-06, 'num_leaves': 2010, 'feature_fraction': 0.5245142849896918, 'bagging_fraction': 0.731198360610995, 'bagging_freq': 1, 'min_child_samples': 6, 'max_depth': 109, 'max_bin': 748}. Best is trial 0 with value: 0.7473096769208166.\n"
     ]
    },
    {
     "name": "stdout",
     "output_type": "stream",
     "text": [
      "Progress: 2.00% - Trial 1 of 50\n"
     ]
    },
    {
     "name": "stderr",
     "output_type": "stream",
     "text": [
      "[W 2024-11-04 23:31:20,317] Trial 1 failed with parameters: {'lambda_l1': 0.03863964892644698, 'lambda_l2': 6.2037649647442485, 'num_leaves': 2770, 'feature_fraction': 0.4556871229120653, 'bagging_fraction': 0.9160765541281659, 'bagging_freq': 4, 'min_child_samples': 41, 'max_depth': 369, 'max_bin': 621} because of the following error: KeyboardInterrupt().\n",
      "Traceback (most recent call last):\n",
      "  File \"/mnt/d/akl_assgn/Weather-Impact-Longterm-Energy-Prediction-BDG2/env/lib/python3.10/site-packages/optuna/study/_optimize.py\", line 197, in _run_trial\n",
      "    value_or_values = func(trial)\n",
      "  File \"/tmp/ipykernel_1067/2261370492.py\", line 4, in <lambda>\n",
      "    study.optimize(lambda trial: objective(trial, X_train_processed, y_train_scaled, X_valid_processed, y_valid_scaled),\n",
      "  File \"/tmp/ipykernel_1067/3185113118.py\", line 30, in objective\n",
      "    model = lgb.train(\n",
      "  File \"/mnt/d/akl_assgn/Weather-Impact-Longterm-Energy-Prediction-BDG2/env/lib/python3.10/site-packages/lightgbm/engine.py\", line 266, in train\n",
      "    booster.update(fobj=fobj)\n",
      "  File \"/mnt/d/akl_assgn/Weather-Impact-Longterm-Energy-Prediction-BDG2/env/lib/python3.10/site-packages/lightgbm/basic.py\", line 3557, in update\n",
      "    _safe_call(_LIB.LGBM_BoosterUpdateOneIter(\n",
      "KeyboardInterrupt\n",
      "[W 2024-11-04 23:31:20,416] Trial 1 failed with value None.\n"
     ]
    },
    {
     "ename": "KeyboardInterrupt",
     "evalue": "",
     "output_type": "error",
     "traceback": [
      "\u001b[0;31m---------------------------------------------------------------------------\u001b[0m",
      "\u001b[0;31mKeyboardInterrupt\u001b[0m                         Traceback (most recent call last)",
      "Cell \u001b[0;32mIn[17], line 4\u001b[0m\n\u001b[1;32m      2\u001b[0m \u001b[38;5;66;03m# Hyperparameter tuning with Optuna\u001b[39;00m\n\u001b[1;32m      3\u001b[0m study \u001b[38;5;241m=\u001b[39m optuna\u001b[38;5;241m.\u001b[39mcreate_study(direction\u001b[38;5;241m=\u001b[39m\u001b[38;5;124m'\u001b[39m\u001b[38;5;124mminimize\u001b[39m\u001b[38;5;124m'\u001b[39m)\n\u001b[0;32m----> 4\u001b[0m \u001b[43mstudy\u001b[49m\u001b[38;5;241;43m.\u001b[39;49m\u001b[43moptimize\u001b[49m\u001b[43m(\u001b[49m\u001b[38;5;28;43;01mlambda\u001b[39;49;00m\u001b[43m \u001b[49m\u001b[43mtrial\u001b[49m\u001b[43m:\u001b[49m\u001b[43m \u001b[49m\u001b[43mobjective\u001b[49m\u001b[43m(\u001b[49m\u001b[43mtrial\u001b[49m\u001b[43m,\u001b[49m\u001b[43m \u001b[49m\u001b[43mX_train_processed\u001b[49m\u001b[43m,\u001b[49m\u001b[43m \u001b[49m\u001b[43my_train_scaled\u001b[49m\u001b[43m,\u001b[49m\u001b[43m \u001b[49m\u001b[43mX_valid_processed\u001b[49m\u001b[43m,\u001b[49m\u001b[43m \u001b[49m\u001b[43my_valid_scaled\u001b[49m\u001b[43m)\u001b[49m\u001b[43m,\u001b[49m\n\u001b[1;32m      5\u001b[0m \u001b[43m                \u001b[49m\u001b[43mn_trials\u001b[49m\u001b[38;5;241;43m=\u001b[39;49m\u001b[43mn_trials\u001b[49m\u001b[43m,\u001b[49m\n\u001b[1;32m      6\u001b[0m \u001b[43m                \u001b[49m\u001b[43mcallbacks\u001b[49m\u001b[38;5;241;43m=\u001b[39;49m\u001b[43m[\u001b[49m\u001b[43mprogress_callback\u001b[49m\u001b[43m]\u001b[49m\u001b[43m)\u001b[49m\n\u001b[1;32m      7\u001b[0m best_params \u001b[38;5;241m=\u001b[39m study\u001b[38;5;241m.\u001b[39mbest_params\n\u001b[1;32m      9\u001b[0m \u001b[38;5;28mprint\u001b[39m(\u001b[38;5;124mf\u001b[39m\u001b[38;5;124m\"\u001b[39m\u001b[38;5;124m================= Best parameters found by Optuna:\u001b[39m\u001b[38;5;132;01m{\u001b[39;00mbest_params\u001b[38;5;132;01m}\u001b[39;00m\u001b[38;5;124m ============\u001b[39m\u001b[38;5;124m\"\u001b[39m)\n",
      "File \u001b[0;32m/mnt/d/akl_assgn/Weather-Impact-Longterm-Energy-Prediction-BDG2/env/lib/python3.10/site-packages/optuna/study/study.py:475\u001b[0m, in \u001b[0;36mStudy.optimize\u001b[0;34m(self, func, n_trials, timeout, n_jobs, catch, callbacks, gc_after_trial, show_progress_bar)\u001b[0m\n\u001b[1;32m    373\u001b[0m \u001b[38;5;28;01mdef\u001b[39;00m \u001b[38;5;21moptimize\u001b[39m(\n\u001b[1;32m    374\u001b[0m     \u001b[38;5;28mself\u001b[39m,\n\u001b[1;32m    375\u001b[0m     func: ObjectiveFuncType,\n\u001b[0;32m   (...)\u001b[0m\n\u001b[1;32m    382\u001b[0m     show_progress_bar: \u001b[38;5;28mbool\u001b[39m \u001b[38;5;241m=\u001b[39m \u001b[38;5;28;01mFalse\u001b[39;00m,\n\u001b[1;32m    383\u001b[0m ) \u001b[38;5;241m-\u001b[39m\u001b[38;5;241m>\u001b[39m \u001b[38;5;28;01mNone\u001b[39;00m:\n\u001b[1;32m    384\u001b[0m \u001b[38;5;250m    \u001b[39m\u001b[38;5;124;03m\"\"\"Optimize an objective function.\u001b[39;00m\n\u001b[1;32m    385\u001b[0m \n\u001b[1;32m    386\u001b[0m \u001b[38;5;124;03m    Optimization is done by choosing a suitable set of hyperparameter values from a given\u001b[39;00m\n\u001b[0;32m   (...)\u001b[0m\n\u001b[1;32m    473\u001b[0m \u001b[38;5;124;03m            If nested invocation of this method occurs.\u001b[39;00m\n\u001b[1;32m    474\u001b[0m \u001b[38;5;124;03m    \"\"\"\u001b[39;00m\n\u001b[0;32m--> 475\u001b[0m     \u001b[43m_optimize\u001b[49m\u001b[43m(\u001b[49m\n\u001b[1;32m    476\u001b[0m \u001b[43m        \u001b[49m\u001b[43mstudy\u001b[49m\u001b[38;5;241;43m=\u001b[39;49m\u001b[38;5;28;43mself\u001b[39;49m\u001b[43m,\u001b[49m\n\u001b[1;32m    477\u001b[0m \u001b[43m        \u001b[49m\u001b[43mfunc\u001b[49m\u001b[38;5;241;43m=\u001b[39;49m\u001b[43mfunc\u001b[49m\u001b[43m,\u001b[49m\n\u001b[1;32m    478\u001b[0m \u001b[43m        \u001b[49m\u001b[43mn_trials\u001b[49m\u001b[38;5;241;43m=\u001b[39;49m\u001b[43mn_trials\u001b[49m\u001b[43m,\u001b[49m\n\u001b[1;32m    479\u001b[0m \u001b[43m        \u001b[49m\u001b[43mtimeout\u001b[49m\u001b[38;5;241;43m=\u001b[39;49m\u001b[43mtimeout\u001b[49m\u001b[43m,\u001b[49m\n\u001b[1;32m    480\u001b[0m \u001b[43m        \u001b[49m\u001b[43mn_jobs\u001b[49m\u001b[38;5;241;43m=\u001b[39;49m\u001b[43mn_jobs\u001b[49m\u001b[43m,\u001b[49m\n\u001b[1;32m    481\u001b[0m \u001b[43m        \u001b[49m\u001b[43mcatch\u001b[49m\u001b[38;5;241;43m=\u001b[39;49m\u001b[38;5;28;43mtuple\u001b[39;49m\u001b[43m(\u001b[49m\u001b[43mcatch\u001b[49m\u001b[43m)\u001b[49m\u001b[43m \u001b[49m\u001b[38;5;28;43;01mif\u001b[39;49;00m\u001b[43m \u001b[49m\u001b[38;5;28;43misinstance\u001b[39;49m\u001b[43m(\u001b[49m\u001b[43mcatch\u001b[49m\u001b[43m,\u001b[49m\u001b[43m \u001b[49m\u001b[43mIterable\u001b[49m\u001b[43m)\u001b[49m\u001b[43m \u001b[49m\u001b[38;5;28;43;01melse\u001b[39;49;00m\u001b[43m \u001b[49m\u001b[43m(\u001b[49m\u001b[43mcatch\u001b[49m\u001b[43m,\u001b[49m\u001b[43m)\u001b[49m\u001b[43m,\u001b[49m\n\u001b[1;32m    482\u001b[0m \u001b[43m        \u001b[49m\u001b[43mcallbacks\u001b[49m\u001b[38;5;241;43m=\u001b[39;49m\u001b[43mcallbacks\u001b[49m\u001b[43m,\u001b[49m\n\u001b[1;32m    483\u001b[0m \u001b[43m        \u001b[49m\u001b[43mgc_after_trial\u001b[49m\u001b[38;5;241;43m=\u001b[39;49m\u001b[43mgc_after_trial\u001b[49m\u001b[43m,\u001b[49m\n\u001b[1;32m    484\u001b[0m \u001b[43m        \u001b[49m\u001b[43mshow_progress_bar\u001b[49m\u001b[38;5;241;43m=\u001b[39;49m\u001b[43mshow_progress_bar\u001b[49m\u001b[43m,\u001b[49m\n\u001b[1;32m    485\u001b[0m \u001b[43m    \u001b[49m\u001b[43m)\u001b[49m\n",
      "File \u001b[0;32m/mnt/d/akl_assgn/Weather-Impact-Longterm-Energy-Prediction-BDG2/env/lib/python3.10/site-packages/optuna/study/_optimize.py:63\u001b[0m, in \u001b[0;36m_optimize\u001b[0;34m(study, func, n_trials, timeout, n_jobs, catch, callbacks, gc_after_trial, show_progress_bar)\u001b[0m\n\u001b[1;32m     61\u001b[0m \u001b[38;5;28;01mtry\u001b[39;00m:\n\u001b[1;32m     62\u001b[0m     \u001b[38;5;28;01mif\u001b[39;00m n_jobs \u001b[38;5;241m==\u001b[39m \u001b[38;5;241m1\u001b[39m:\n\u001b[0;32m---> 63\u001b[0m         \u001b[43m_optimize_sequential\u001b[49m\u001b[43m(\u001b[49m\n\u001b[1;32m     64\u001b[0m \u001b[43m            \u001b[49m\u001b[43mstudy\u001b[49m\u001b[43m,\u001b[49m\n\u001b[1;32m     65\u001b[0m \u001b[43m            \u001b[49m\u001b[43mfunc\u001b[49m\u001b[43m,\u001b[49m\n\u001b[1;32m     66\u001b[0m \u001b[43m            \u001b[49m\u001b[43mn_trials\u001b[49m\u001b[43m,\u001b[49m\n\u001b[1;32m     67\u001b[0m \u001b[43m            \u001b[49m\u001b[43mtimeout\u001b[49m\u001b[43m,\u001b[49m\n\u001b[1;32m     68\u001b[0m \u001b[43m            \u001b[49m\u001b[43mcatch\u001b[49m\u001b[43m,\u001b[49m\n\u001b[1;32m     69\u001b[0m \u001b[43m            \u001b[49m\u001b[43mcallbacks\u001b[49m\u001b[43m,\u001b[49m\n\u001b[1;32m     70\u001b[0m \u001b[43m            \u001b[49m\u001b[43mgc_after_trial\u001b[49m\u001b[43m,\u001b[49m\n\u001b[1;32m     71\u001b[0m \u001b[43m            \u001b[49m\u001b[43mreseed_sampler_rng\u001b[49m\u001b[38;5;241;43m=\u001b[39;49m\u001b[38;5;28;43;01mFalse\u001b[39;49;00m\u001b[43m,\u001b[49m\n\u001b[1;32m     72\u001b[0m \u001b[43m            \u001b[49m\u001b[43mtime_start\u001b[49m\u001b[38;5;241;43m=\u001b[39;49m\u001b[38;5;28;43;01mNone\u001b[39;49;00m\u001b[43m,\u001b[49m\n\u001b[1;32m     73\u001b[0m \u001b[43m            \u001b[49m\u001b[43mprogress_bar\u001b[49m\u001b[38;5;241;43m=\u001b[39;49m\u001b[43mprogress_bar\u001b[49m\u001b[43m,\u001b[49m\n\u001b[1;32m     74\u001b[0m \u001b[43m        \u001b[49m\u001b[43m)\u001b[49m\n\u001b[1;32m     75\u001b[0m     \u001b[38;5;28;01melse\u001b[39;00m:\n\u001b[1;32m     76\u001b[0m         \u001b[38;5;28;01mif\u001b[39;00m n_jobs \u001b[38;5;241m==\u001b[39m \u001b[38;5;241m-\u001b[39m\u001b[38;5;241m1\u001b[39m:\n",
      "File \u001b[0;32m/mnt/d/akl_assgn/Weather-Impact-Longterm-Energy-Prediction-BDG2/env/lib/python3.10/site-packages/optuna/study/_optimize.py:160\u001b[0m, in \u001b[0;36m_optimize_sequential\u001b[0;34m(study, func, n_trials, timeout, catch, callbacks, gc_after_trial, reseed_sampler_rng, time_start, progress_bar)\u001b[0m\n\u001b[1;32m    157\u001b[0m         \u001b[38;5;28;01mbreak\u001b[39;00m\n\u001b[1;32m    159\u001b[0m \u001b[38;5;28;01mtry\u001b[39;00m:\n\u001b[0;32m--> 160\u001b[0m     frozen_trial \u001b[38;5;241m=\u001b[39m \u001b[43m_run_trial\u001b[49m\u001b[43m(\u001b[49m\u001b[43mstudy\u001b[49m\u001b[43m,\u001b[49m\u001b[43m \u001b[49m\u001b[43mfunc\u001b[49m\u001b[43m,\u001b[49m\u001b[43m \u001b[49m\u001b[43mcatch\u001b[49m\u001b[43m)\u001b[49m\n\u001b[1;32m    161\u001b[0m \u001b[38;5;28;01mfinally\u001b[39;00m:\n\u001b[1;32m    162\u001b[0m     \u001b[38;5;66;03m# The following line mitigates memory problems that can be occurred in some\u001b[39;00m\n\u001b[1;32m    163\u001b[0m     \u001b[38;5;66;03m# environments (e.g., services that use computing containers such as GitHub Actions).\u001b[39;00m\n\u001b[1;32m    164\u001b[0m     \u001b[38;5;66;03m# Please refer to the following PR for further details:\u001b[39;00m\n\u001b[1;32m    165\u001b[0m     \u001b[38;5;66;03m# https://github.com/optuna/optuna/pull/325.\u001b[39;00m\n\u001b[1;32m    166\u001b[0m     \u001b[38;5;28;01mif\u001b[39;00m gc_after_trial:\n",
      "File \u001b[0;32m/mnt/d/akl_assgn/Weather-Impact-Longterm-Energy-Prediction-BDG2/env/lib/python3.10/site-packages/optuna/study/_optimize.py:248\u001b[0m, in \u001b[0;36m_run_trial\u001b[0;34m(study, func, catch)\u001b[0m\n\u001b[1;32m    241\u001b[0m         \u001b[38;5;28;01massert\u001b[39;00m \u001b[38;5;28;01mFalse\u001b[39;00m, \u001b[38;5;124m\"\u001b[39m\u001b[38;5;124mShould not reach.\u001b[39m\u001b[38;5;124m\"\u001b[39m\n\u001b[1;32m    243\u001b[0m \u001b[38;5;28;01mif\u001b[39;00m (\n\u001b[1;32m    244\u001b[0m     frozen_trial\u001b[38;5;241m.\u001b[39mstate \u001b[38;5;241m==\u001b[39m TrialState\u001b[38;5;241m.\u001b[39mFAIL\n\u001b[1;32m    245\u001b[0m     \u001b[38;5;129;01mand\u001b[39;00m func_err \u001b[38;5;129;01mis\u001b[39;00m \u001b[38;5;129;01mnot\u001b[39;00m \u001b[38;5;28;01mNone\u001b[39;00m\n\u001b[1;32m    246\u001b[0m     \u001b[38;5;129;01mand\u001b[39;00m \u001b[38;5;129;01mnot\u001b[39;00m \u001b[38;5;28misinstance\u001b[39m(func_err, catch)\n\u001b[1;32m    247\u001b[0m ):\n\u001b[0;32m--> 248\u001b[0m     \u001b[38;5;28;01mraise\u001b[39;00m func_err\n\u001b[1;32m    249\u001b[0m \u001b[38;5;28;01mreturn\u001b[39;00m frozen_trial\n",
      "File \u001b[0;32m/mnt/d/akl_assgn/Weather-Impact-Longterm-Energy-Prediction-BDG2/env/lib/python3.10/site-packages/optuna/study/_optimize.py:197\u001b[0m, in \u001b[0;36m_run_trial\u001b[0;34m(study, func, catch)\u001b[0m\n\u001b[1;32m    195\u001b[0m \u001b[38;5;28;01mwith\u001b[39;00m get_heartbeat_thread(trial\u001b[38;5;241m.\u001b[39m_trial_id, study\u001b[38;5;241m.\u001b[39m_storage):\n\u001b[1;32m    196\u001b[0m     \u001b[38;5;28;01mtry\u001b[39;00m:\n\u001b[0;32m--> 197\u001b[0m         value_or_values \u001b[38;5;241m=\u001b[39m \u001b[43mfunc\u001b[49m\u001b[43m(\u001b[49m\u001b[43mtrial\u001b[49m\u001b[43m)\u001b[49m\n\u001b[1;32m    198\u001b[0m     \u001b[38;5;28;01mexcept\u001b[39;00m exceptions\u001b[38;5;241m.\u001b[39mTrialPruned \u001b[38;5;28;01mas\u001b[39;00m e:\n\u001b[1;32m    199\u001b[0m         \u001b[38;5;66;03m# TODO(mamu): Handle multi-objective cases.\u001b[39;00m\n\u001b[1;32m    200\u001b[0m         state \u001b[38;5;241m=\u001b[39m TrialState\u001b[38;5;241m.\u001b[39mPRUNED\n",
      "Cell \u001b[0;32mIn[17], line 4\u001b[0m, in \u001b[0;36m<lambda>\u001b[0;34m(trial)\u001b[0m\n\u001b[1;32m      2\u001b[0m \u001b[38;5;66;03m# Hyperparameter tuning with Optuna\u001b[39;00m\n\u001b[1;32m      3\u001b[0m study \u001b[38;5;241m=\u001b[39m optuna\u001b[38;5;241m.\u001b[39mcreate_study(direction\u001b[38;5;241m=\u001b[39m\u001b[38;5;124m'\u001b[39m\u001b[38;5;124mminimize\u001b[39m\u001b[38;5;124m'\u001b[39m)\n\u001b[0;32m----> 4\u001b[0m study\u001b[38;5;241m.\u001b[39moptimize(\u001b[38;5;28;01mlambda\u001b[39;00m trial: \u001b[43mobjective\u001b[49m\u001b[43m(\u001b[49m\u001b[43mtrial\u001b[49m\u001b[43m,\u001b[49m\u001b[43m \u001b[49m\u001b[43mX_train_processed\u001b[49m\u001b[43m,\u001b[49m\u001b[43m \u001b[49m\u001b[43my_train_scaled\u001b[49m\u001b[43m,\u001b[49m\u001b[43m \u001b[49m\u001b[43mX_valid_processed\u001b[49m\u001b[43m,\u001b[49m\u001b[43m \u001b[49m\u001b[43my_valid_scaled\u001b[49m\u001b[43m)\u001b[49m,\n\u001b[1;32m      5\u001b[0m                 n_trials\u001b[38;5;241m=\u001b[39mn_trials,\n\u001b[1;32m      6\u001b[0m                 callbacks\u001b[38;5;241m=\u001b[39m[progress_callback])\n\u001b[1;32m      7\u001b[0m best_params \u001b[38;5;241m=\u001b[39m study\u001b[38;5;241m.\u001b[39mbest_params\n\u001b[1;32m      9\u001b[0m \u001b[38;5;28mprint\u001b[39m(\u001b[38;5;124mf\u001b[39m\u001b[38;5;124m\"\u001b[39m\u001b[38;5;124m================= Best parameters found by Optuna:\u001b[39m\u001b[38;5;132;01m{\u001b[39;00mbest_params\u001b[38;5;132;01m}\u001b[39;00m\u001b[38;5;124m ============\u001b[39m\u001b[38;5;124m\"\u001b[39m)\n",
      "Cell \u001b[0;32mIn[13], line 30\u001b[0m, in \u001b[0;36mobjective\u001b[0;34m(trial, X_train, y_train, X_valid, y_valid)\u001b[0m\n\u001b[1;32m     22\u001b[0m lgb_train \u001b[38;5;241m=\u001b[39m lgb\u001b[38;5;241m.\u001b[39mDataset(X_train,\n\u001b[1;32m     23\u001b[0m                         label\u001b[38;5;241m=\u001b[39my_train,\n\u001b[1;32m     24\u001b[0m                         categorical_feature\u001b[38;5;241m=\u001b[39mcategorical_features)\n\u001b[1;32m     25\u001b[0m lgb_valid \u001b[38;5;241m=\u001b[39m lgb\u001b[38;5;241m.\u001b[39mDataset(X_valid,\n\u001b[1;32m     26\u001b[0m                         label\u001b[38;5;241m=\u001b[39my_valid,\n\u001b[1;32m     27\u001b[0m                         categorical_feature\u001b[38;5;241m=\u001b[39mcategorical_features,\n\u001b[1;32m     28\u001b[0m                         reference\u001b[38;5;241m=\u001b[39mlgb_train)\n\u001b[0;32m---> 30\u001b[0m model \u001b[38;5;241m=\u001b[39m \u001b[43mlgb\u001b[49m\u001b[38;5;241;43m.\u001b[39;49m\u001b[43mtrain\u001b[49m\u001b[43m(\u001b[49m\n\u001b[1;32m     31\u001b[0m \u001b[43m    \u001b[49m\u001b[43mparam\u001b[49m\u001b[43m,\u001b[49m\n\u001b[1;32m     32\u001b[0m \u001b[43m    \u001b[49m\u001b[43mlgb_train\u001b[49m\u001b[43m,\u001b[49m\n\u001b[1;32m     33\u001b[0m \u001b[43m    \u001b[49m\u001b[43mvalid_sets\u001b[49m\u001b[38;5;241;43m=\u001b[39;49m\u001b[43m[\u001b[49m\u001b[43mlgb_valid\u001b[49m\u001b[43m]\u001b[49m\u001b[43m,\u001b[49m\n\u001b[1;32m     34\u001b[0m \u001b[43m    \u001b[49m\u001b[43mnum_boost_round\u001b[49m\u001b[38;5;241;43m=\u001b[39;49m\u001b[38;5;241;43m1000\u001b[39;49m\u001b[43m,\u001b[49m\n\u001b[1;32m     35\u001b[0m \u001b[43m    \u001b[49m\u001b[43mcallbacks\u001b[49m\u001b[38;5;241;43m=\u001b[39;49m\u001b[43m[\u001b[49m\n\u001b[1;32m     36\u001b[0m \u001b[43m    \u001b[49m\u001b[43mlgb\u001b[49m\u001b[38;5;241;43m.\u001b[39;49m\u001b[43mearly_stopping\u001b[49m\u001b[43m(\u001b[49m\u001b[43mstopping_rounds\u001b[49m\u001b[38;5;241;43m=\u001b[39;49m\u001b[38;5;241;43m50\u001b[39;49m\u001b[43m)\u001b[49m\u001b[43m,\u001b[49m\n\u001b[1;32m     37\u001b[0m \u001b[43m    \u001b[49m\u001b[43mlgb\u001b[49m\u001b[38;5;241;43m.\u001b[39;49m\u001b[43mlog_evaluation\u001b[49m\u001b[43m(\u001b[49m\u001b[38;5;241;43m10\u001b[39;49m\u001b[43m)\u001b[49m\n\u001b[1;32m     38\u001b[0m \u001b[43m    \u001b[49m\u001b[43m]\u001b[49m\n\u001b[1;32m     39\u001b[0m \u001b[43m\u001b[49m\u001b[43m)\u001b[49m\n\u001b[1;32m     41\u001b[0m preds \u001b[38;5;241m=\u001b[39m model\u001b[38;5;241m.\u001b[39mpredict(X_valid, num_iteration\u001b[38;5;241m=\u001b[39mmodel\u001b[38;5;241m.\u001b[39mbest_iteration)\n\u001b[1;32m     42\u001b[0m rmse \u001b[38;5;241m=\u001b[39m mean_squared_error(y_valid, preds, squared\u001b[38;5;241m=\u001b[39m\u001b[38;5;28;01mFalse\u001b[39;00m)\n",
      "File \u001b[0;32m/mnt/d/akl_assgn/Weather-Impact-Longterm-Energy-Prediction-BDG2/env/lib/python3.10/site-packages/lightgbm/engine.py:266\u001b[0m, in \u001b[0;36mtrain\u001b[0;34m(params, train_set, num_boost_round, valid_sets, valid_names, feval, init_model, feature_name, categorical_feature, keep_training_booster, callbacks)\u001b[0m\n\u001b[1;32m    258\u001b[0m \u001b[38;5;28;01mfor\u001b[39;00m cb \u001b[38;5;129;01min\u001b[39;00m callbacks_before_iter:\n\u001b[1;32m    259\u001b[0m     cb(callback\u001b[38;5;241m.\u001b[39mCallbackEnv(model\u001b[38;5;241m=\u001b[39mbooster,\n\u001b[1;32m    260\u001b[0m                             params\u001b[38;5;241m=\u001b[39mparams,\n\u001b[1;32m    261\u001b[0m                             iteration\u001b[38;5;241m=\u001b[39mi,\n\u001b[1;32m    262\u001b[0m                             begin_iteration\u001b[38;5;241m=\u001b[39minit_iteration,\n\u001b[1;32m    263\u001b[0m                             end_iteration\u001b[38;5;241m=\u001b[39minit_iteration \u001b[38;5;241m+\u001b[39m num_boost_round,\n\u001b[1;32m    264\u001b[0m                             evaluation_result_list\u001b[38;5;241m=\u001b[39m\u001b[38;5;28;01mNone\u001b[39;00m))\n\u001b[0;32m--> 266\u001b[0m \u001b[43mbooster\u001b[49m\u001b[38;5;241;43m.\u001b[39;49m\u001b[43mupdate\u001b[49m\u001b[43m(\u001b[49m\u001b[43mfobj\u001b[49m\u001b[38;5;241;43m=\u001b[39;49m\u001b[43mfobj\u001b[49m\u001b[43m)\u001b[49m\n\u001b[1;32m    268\u001b[0m evaluation_result_list: List[_LGBM_BoosterEvalMethodResultType] \u001b[38;5;241m=\u001b[39m []\n\u001b[1;32m    269\u001b[0m \u001b[38;5;66;03m# check evaluation result.\u001b[39;00m\n",
      "File \u001b[0;32m/mnt/d/akl_assgn/Weather-Impact-Longterm-Energy-Prediction-BDG2/env/lib/python3.10/site-packages/lightgbm/basic.py:3557\u001b[0m, in \u001b[0;36mBooster.update\u001b[0;34m(self, train_set, fobj)\u001b[0m\n\u001b[1;32m   3555\u001b[0m \u001b[38;5;28;01mif\u001b[39;00m \u001b[38;5;28mself\u001b[39m\u001b[38;5;241m.\u001b[39m__set_objective_to_none:\n\u001b[1;32m   3556\u001b[0m     \u001b[38;5;28;01mraise\u001b[39;00m LightGBMError(\u001b[38;5;124m'\u001b[39m\u001b[38;5;124mCannot update due to null objective function.\u001b[39m\u001b[38;5;124m'\u001b[39m)\n\u001b[0;32m-> 3557\u001b[0m _safe_call(\u001b[43m_LIB\u001b[49m\u001b[38;5;241;43m.\u001b[39;49m\u001b[43mLGBM_BoosterUpdateOneIter\u001b[49m\u001b[43m(\u001b[49m\n\u001b[1;32m   3558\u001b[0m \u001b[43m    \u001b[49m\u001b[38;5;28;43mself\u001b[39;49m\u001b[38;5;241;43m.\u001b[39;49m\u001b[43m_handle\u001b[49m\u001b[43m,\u001b[49m\n\u001b[1;32m   3559\u001b[0m \u001b[43m    \u001b[49m\u001b[43mctypes\u001b[49m\u001b[38;5;241;43m.\u001b[39;49m\u001b[43mbyref\u001b[49m\u001b[43m(\u001b[49m\u001b[43mis_finished\u001b[49m\u001b[43m)\u001b[49m\u001b[43m)\u001b[49m)\n\u001b[1;32m   3560\u001b[0m \u001b[38;5;28mself\u001b[39m\u001b[38;5;241m.\u001b[39m__is_predicted_cur_iter \u001b[38;5;241m=\u001b[39m [\u001b[38;5;28;01mFalse\u001b[39;00m \u001b[38;5;28;01mfor\u001b[39;00m _ \u001b[38;5;129;01min\u001b[39;00m \u001b[38;5;28mrange\u001b[39m(\u001b[38;5;28mself\u001b[39m\u001b[38;5;241m.\u001b[39m__num_dataset)]\n\u001b[1;32m   3561\u001b[0m \u001b[38;5;28;01mreturn\u001b[39;00m is_finished\u001b[38;5;241m.\u001b[39mvalue \u001b[38;5;241m==\u001b[39m \u001b[38;5;241m1\u001b[39m\n",
      "\u001b[0;31mKeyboardInterrupt\u001b[0m: "
     ]
    }
   ],
   "source": [
    "print(\"================= Tunning hyperparameters with Optuna...=====================\")\n",
    "# Hyperparameter tuning with Optuna\n",
    "study = optuna.create_study(direction='minimize')\n",
    "study.optimize(lambda trial: objective(trial, X_train_processed, y_train_scaled, X_valid_processed, y_valid_scaled),\n",
    "                n_trials=n_trials,\n",
    "                callbacks=[progress_callback])\n",
    "best_params = study.best_params\n",
    "\n",
    "print(f\"================= Best parameters found by Optuna:{best_params} ============\")"
   ]
  },
  {
   "cell_type": "markdown",
   "metadata": {
    "id": "pPB_FaFOxtDC"
   },
   "source": [
    "## Training Models"
   ]
  },
  {
   "cell_type": "markdown",
   "metadata": {
    "id": "-iE_JNoYxvuA"
   },
   "source": [
    "### Process training data (2016)"
   ]
  },
  {
   "cell_type": "code",
   "execution_count": 26,
   "metadata": {},
   "outputs": [
    {
     "name": "stdout",
     "output_type": "stream",
     "text": [
      "==============  Processing meter value: hotwater =====================\n"
     ]
    }
   ],
   "source": [
    "print(f\"==============  Processing meter value: {meter_value} =====================\")\n",
    "# Filter data and preprocess\n",
    "meter_filter = train_data['meter'] == meter_value\n",
    "X_meter = train_data.loc[meter_filter].drop(columns=['meter_reading', 'meter', 'date'])\n",
    "y_meter = train_data.loc[meter_filter, 'meter_reading']\n",
    "\n",
    "X_train_full_processed, y_train_full_scaled, scaler, y_scaler = preprocess_data(\n",
    "    X_meter.copy(), y_meter, fit_scaler=True\n",
    ")\n",
    "\n",
    "for col in categorical_features:\n",
    "    X_train_full_processed[col] = X_train_full_processed[col].astype('category')"
   ]
  },
  {
   "cell_type": "code",
   "execution_count": 27,
   "metadata": {},
   "outputs": [
    {
     "data": {
      "text/html": [
       "<div>\n",
       "<style scoped>\n",
       "    .dataframe tbody tr th:only-of-type {\n",
       "        vertical-align: middle;\n",
       "    }\n",
       "\n",
       "    .dataframe tbody tr th {\n",
       "        vertical-align: top;\n",
       "    }\n",
       "\n",
       "    .dataframe thead th {\n",
       "        text-align: right;\n",
       "    }\n",
       "</style>\n",
       "<table border=\"1\" class=\"dataframe\">\n",
       "  <thead>\n",
       "    <tr style=\"text-align: right;\">\n",
       "      <th></th>\n",
       "      <th>sub_primaryspaceusage</th>\n",
       "      <th>sqm</th>\n",
       "      <th>airTemperature</th>\n",
       "      <th>month</th>\n",
       "      <th>weekday</th>\n",
       "      <th>site_id</th>\n",
       "    </tr>\n",
       "    <tr>\n",
       "      <th>building_id</th>\n",
       "      <th></th>\n",
       "      <th></th>\n",
       "      <th></th>\n",
       "      <th></th>\n",
       "      <th></th>\n",
       "      <th></th>\n",
       "    </tr>\n",
       "  </thead>\n",
       "  <tbody>\n",
       "    <tr>\n",
       "      <th>68</th>\n",
       "      <td>Academic</td>\n",
       "      <td>0.584485</td>\n",
       "      <td>-1.315060</td>\n",
       "      <td>1</td>\n",
       "      <td>4</td>\n",
       "      <td>2</td>\n",
       "    </tr>\n",
       "    <tr>\n",
       "      <th>68</th>\n",
       "      <td>Academic</td>\n",
       "      <td>0.584485</td>\n",
       "      <td>-1.205252</td>\n",
       "      <td>1</td>\n",
       "      <td>5</td>\n",
       "      <td>2</td>\n",
       "    </tr>\n",
       "    <tr>\n",
       "      <th>68</th>\n",
       "      <td>Academic</td>\n",
       "      <td>0.584485</td>\n",
       "      <td>-1.254292</td>\n",
       "      <td>1</td>\n",
       "      <td>6</td>\n",
       "      <td>2</td>\n",
       "    </tr>\n",
       "    <tr>\n",
       "      <th>68</th>\n",
       "      <td>Academic</td>\n",
       "      <td>0.584485</td>\n",
       "      <td>-1.344214</td>\n",
       "      <td>1</td>\n",
       "      <td>0</td>\n",
       "      <td>2</td>\n",
       "    </tr>\n",
       "    <tr>\n",
       "      <th>68</th>\n",
       "      <td>Academic</td>\n",
       "      <td>0.584485</td>\n",
       "      <td>-1.388739</td>\n",
       "      <td>1</td>\n",
       "      <td>1</td>\n",
       "      <td>2</td>\n",
       "    </tr>\n",
       "  </tbody>\n",
       "</table>\n",
       "</div>"
      ],
      "text/plain": [
       "            sub_primaryspaceusage       sqm  airTemperature month weekday  \\\n",
       "building_id                                                                 \n",
       "68                       Academic  0.584485       -1.315060     1       4   \n",
       "68                       Academic  0.584485       -1.205252     1       5   \n",
       "68                       Academic  0.584485       -1.254292     1       6   \n",
       "68                       Academic  0.584485       -1.344214     1       0   \n",
       "68                       Academic  0.584485       -1.388739     1       1   \n",
       "\n",
       "            site_id  \n",
       "building_id          \n",
       "68                2  \n",
       "68                2  \n",
       "68                2  \n",
       "68                2  \n",
       "68                2  "
      ]
     },
     "execution_count": 27,
     "metadata": {},
     "output_type": "execute_result"
    }
   ],
   "source": [
    "X_train_full_processed.head()"
   ]
  },
  {
   "cell_type": "code",
   "execution_count": 28,
   "metadata": {},
   "outputs": [
    {
     "name": "stdout",
     "output_type": "stream",
     "text": [
      "<class 'pandas.core.frame.DataFrame'>\n",
      "Index: 42822 entries, 68 to 886\n",
      "Data columns (total 6 columns):\n",
      " #   Column                 Non-Null Count  Dtype   \n",
      "---  ------                 --------------  -----   \n",
      " 0   sub_primaryspaceusage  42822 non-null  category\n",
      " 1   sqm                    42822 non-null  float64 \n",
      " 2   airTemperature         42822 non-null  float64 \n",
      " 3   month                  42822 non-null  category\n",
      " 4   weekday                42822 non-null  category\n",
      " 5   site_id                42822 non-null  category\n",
      "dtypes: category(4), float64(2)\n",
      "memory usage: 1.1 MB\n"
     ]
    }
   ],
   "source": [
    "X_train_full_processed.info()"
   ]
  },
  {
   "cell_type": "markdown",
   "metadata": {},
   "source": [
    "### Process test data (2017)"
   ]
  },
  {
   "cell_type": "code",
   "execution_count": 20,
   "metadata": {},
   "outputs": [],
   "source": [
    "meter_filter = test_data['meter'] == meter_value\n",
    "X_test_meter = test_data.loc[meter_filter].drop(columns=['meter_reading', 'meter', 'date'])\n",
    "y_test_meter = test_data.loc[meter_filter, 'meter_reading']\n",
    "\n",
    "X_test_processed, y_test_scaled = preprocess_data(\n",
    "    X_test_meter.copy(), y_test_meter, fit_scaler=False, scaler=scaler, y_scaler=y_scaler  \n",
    ")  # Must use the same scaler as the training set to prevent data leakage\n",
    "\n",
    "# Ensure that categorical columns in X_test_processed have the same levels as in X_train_processed\n",
    "for col in categorical_features:\n",
    "    X_test_processed[col] = X_test_processed[col].astype('category')"
   ]
  },
  {
   "cell_type": "code",
   "execution_count": 21,
   "metadata": {},
   "outputs": [
    {
     "data": {
      "text/html": [
       "<div>\n",
       "<style scoped>\n",
       "    .dataframe tbody tr th:only-of-type {\n",
       "        vertical-align: middle;\n",
       "    }\n",
       "\n",
       "    .dataframe tbody tr th {\n",
       "        vertical-align: top;\n",
       "    }\n",
       "\n",
       "    .dataframe thead th {\n",
       "        text-align: right;\n",
       "    }\n",
       "</style>\n",
       "<table border=\"1\" class=\"dataframe\">\n",
       "  <thead>\n",
       "    <tr style=\"text-align: right;\">\n",
       "      <th></th>\n",
       "      <th>sub_primaryspaceusage</th>\n",
       "      <th>sqm</th>\n",
       "      <th>airTemperature</th>\n",
       "      <th>month</th>\n",
       "      <th>weekday</th>\n",
       "      <th>site_id</th>\n",
       "    </tr>\n",
       "    <tr>\n",
       "      <th>building_id</th>\n",
       "      <th></th>\n",
       "      <th></th>\n",
       "      <th></th>\n",
       "      <th></th>\n",
       "      <th></th>\n",
       "      <th></th>\n",
       "    </tr>\n",
       "  </thead>\n",
       "  <tbody>\n",
       "    <tr>\n",
       "      <th>68</th>\n",
       "      <td>Academic</td>\n",
       "      <td>0.584485</td>\n",
       "      <td>-1.158341</td>\n",
       "      <td>1</td>\n",
       "      <td>6</td>\n",
       "      <td>2</td>\n",
       "    </tr>\n",
       "    <tr>\n",
       "      <th>68</th>\n",
       "      <td>Academic</td>\n",
       "      <td>0.584485</td>\n",
       "      <td>-1.307638</td>\n",
       "      <td>1</td>\n",
       "      <td>0</td>\n",
       "      <td>2</td>\n",
       "    </tr>\n",
       "    <tr>\n",
       "      <th>68</th>\n",
       "      <td>Academic</td>\n",
       "      <td>0.584485</td>\n",
       "      <td>-1.208727</td>\n",
       "      <td>1</td>\n",
       "      <td>1</td>\n",
       "      <td>2</td>\n",
       "    </tr>\n",
       "    <tr>\n",
       "      <th>68</th>\n",
       "      <td>Academic</td>\n",
       "      <td>0.584485</td>\n",
       "      <td>-1.210297</td>\n",
       "      <td>1</td>\n",
       "      <td>2</td>\n",
       "      <td>2</td>\n",
       "    </tr>\n",
       "    <tr>\n",
       "      <th>68</th>\n",
       "      <td>Academic</td>\n",
       "      <td>0.584485</td>\n",
       "      <td>-1.833772</td>\n",
       "      <td>1</td>\n",
       "      <td>3</td>\n",
       "      <td>2</td>\n",
       "    </tr>\n",
       "  </tbody>\n",
       "</table>\n",
       "</div>"
      ],
      "text/plain": [
       "            sub_primaryspaceusage       sqm  airTemperature month weekday  \\\n",
       "building_id                                                                 \n",
       "68                       Academic  0.584485       -1.158341     1       6   \n",
       "68                       Academic  0.584485       -1.307638     1       0   \n",
       "68                       Academic  0.584485       -1.208727     1       1   \n",
       "68                       Academic  0.584485       -1.210297     1       2   \n",
       "68                       Academic  0.584485       -1.833772     1       3   \n",
       "\n",
       "            site_id  \n",
       "building_id          \n",
       "68                2  \n",
       "68                2  \n",
       "68                2  \n",
       "68                2  \n",
       "68                2  "
      ]
     },
     "execution_count": 21,
     "metadata": {},
     "output_type": "execute_result"
    }
   ],
   "source": [
    "X_test_processed.head()"
   ]
  },
  {
   "cell_type": "code",
   "execution_count": 23,
   "metadata": {},
   "outputs": [
    {
     "name": "stdout",
     "output_type": "stream",
     "text": [
      "<class 'pandas.core.frame.DataFrame'>\n",
      "Index: 42625 entries, 68 to 886\n",
      "Data columns (total 6 columns):\n",
      " #   Column                 Non-Null Count  Dtype   \n",
      "---  ------                 --------------  -----   \n",
      " 0   sub_primaryspaceusage  42625 non-null  category\n",
      " 1   sqm                    42625 non-null  float64 \n",
      " 2   airTemperature         42625 non-null  float64 \n",
      " 3   month                  42625 non-null  category\n",
      " 4   weekday                42625 non-null  category\n",
      " 5   site_id                42625 non-null  category\n",
      "dtypes: category(4), float64(2)\n",
      "memory usage: 1.1 MB\n"
     ]
    }
   ],
   "source": [
    "X_test_processed.info() "
   ]
  },
  {
   "cell_type": "markdown",
   "metadata": {},
   "source": [
    "### Define Parameters\n",
    "\n",
    "* Ideally, we would use the parameters obtained from the model optimization process described above.\n",
    "* However, to save time, we’ve opted to skip the hyperparameter tuning step and instead directly define a set of parameters."
   ]
  },
  {
   "cell_type": "code",
   "execution_count": 24,
   "metadata": {},
   "outputs": [],
   "source": [
    "best_params = {\n",
    "    'num_leaves': 1000,                # Reduce to limit complexity\n",
    "    'learning_rate': 0.01,           # Lower learning rate\n",
    "    'max_bin': 512,                   # Reduce max_bin\n",
    "    'lambda_l1': 0.01,                 # Add L1 regularization\n",
    "    'lambda_l2': 0.01,                 # Add L2 regularization\n",
    "    'min_child_samples': 20,          # Increase min_child_samples\n",
    "    'max_depth': 15,                  # Limit max_depth\n",
    "}"
   ]
  },
  {
   "cell_type": "markdown",
   "metadata": {},
   "source": [
    "### Define functions to train the model"
   ]
  },
  {
   "cell_type": "code",
   "execution_count": 25,
   "metadata": {},
   "outputs": [],
   "source": [
    "# Custom callback to log progress with estimated remaining time\n",
    "class TimeEstimatorCallback:\n",
    "    def __init__(self, num_boost_round, display_interval=50):\n",
    "        self.num_boost_round = num_boost_round\n",
    "        self.display_interval = display_interval\n",
    "        self.start_time = None\n",
    "\n",
    "    def __call__(self, env):\n",
    "        if env.iteration == 0:\n",
    "            self.start_time = time.time()\n",
    "        \n",
    "        if env.iteration % self.display_interval == 0:\n",
    "            elapsed_time = time.time() - self.start_time\n",
    "            average_time_per_iter = elapsed_time / (env.iteration + 1)\n",
    "            remaining_iters = self.num_boost_round - env.iteration\n",
    "            estimated_remaining_time = remaining_iters * average_time_per_iter\n",
    "            \n",
    "            # Check if evaluation results are available\n",
    "            if env.evaluation_result_list:\n",
    "                rmse = env.evaluation_result_list[0][2]\n",
    "                print(f\"[Iteration {env.iteration}] RMSE: {rmse:.4f} \"\n",
    "                      f\"| Elapsed: {elapsed_time:.2f}s \"\n",
    "                      f\"| Estimated Remaining: {estimated_remaining_time:.2f}s\")\n",
    "            else:\n",
    "                print(f\"[Iteration {env.iteration}] No evaluation results \"\n",
    "                      f\"| Elapsed: {elapsed_time:.2f}s \"\n",
    "                      f\"| Estimated Remaining: {estimated_remaining_time:.2f}s\")\n",
    "\n",
    "# Function to train the final model with tuned parameters (no validation set)\n",
    "def train_final_model(X_train, y_train, best_params):\n",
    "    final_params = {\n",
    "        'objective': 'regression',\n",
    "        'metric': 'rmse',\n",
    "        'boosting_type': 'gbdt',\n",
    "        'device': 'cpu',\n",
    "        'verbosity': -1,\n",
    "    }\n",
    "    final_params.update(best_params)\n",
    "\n",
    "    # Create the LightGBM training dataset\n",
    "    lgb_train = lgb.Dataset(X_train, label=y_train, categorical_feature=categorical_features)\n",
    "    \n",
    "    num_boost_round = 1000\n",
    "\n",
    "    # Train the model only on the training set, without validation logging\n",
    "    model = lgb.train(\n",
    "        final_params,\n",
    "        lgb_train,\n",
    "        num_boost_round=num_boost_round,\n",
    "        valid_sets=[lgb_train],  # Only use the training set here\n",
    "        callbacks=[\n",
    "            lgb.log_evaluation(100),            # Log training metrics every 100 rounds\n",
    "            TimeEstimatorCallback(num_boost_round, 100)  # Estimate time every 50 iterations\n",
    "        ]\n",
    "    )\n",
    "\n",
    "    return model"
   ]
  },
  {
   "cell_type": "markdown",
   "metadata": {},
   "source": [
    "### Train the model"
   ]
  },
  {
   "cell_type": "code",
   "execution_count": null,
   "metadata": {
    "colab": {
     "base_uri": "https://localhost:8080/",
     "height": 237
    },
    "collapsed": true,
    "executionInfo": {
     "elapsed": 395,
     "status": "error",
     "timestamp": 1730577281776,
     "user": {
      "displayName": "Felix Le",
      "userId": "06899890425444909729"
     },
     "user_tz": -420
    },
    "id": "ERGFbEX_-g2v",
    "outputId": "6c6ec7c9-7d47-40bb-dc10-8745ce54b2fb"
   },
   "outputs": [
    {
     "name": "stdout",
     "output_type": "stream",
     "text": [
      "========== Training the final model ==========================\n",
      "[Iteration 0] RMSE: 0.9912 | Elapsed: 0.00s | Estimated Remaining: 0.00s\n",
      "[100]\ttraining's rmse: 0.470025\n",
      "[Iteration 100] RMSE: 0.4673 | Elapsed: 2.98s | Estimated Remaining: 26.56s\n",
      "[200]\ttraining's rmse: 0.315297\n",
      "[Iteration 200] RMSE: 0.3146 | Elapsed: 120.10s | Estimated Remaining: 478.02s\n",
      "[300]\ttraining's rmse: 0.272787\n",
      "[Iteration 300] RMSE: 0.2725 | Elapsed: 185.30s | Estimated Remaining: 430.93s\n",
      "[400]\ttraining's rmse: 0.255082\n",
      "[Iteration 400] RMSE: 0.2550 | Elapsed: 196.83s | Estimated Remaining: 294.51s\n",
      "[500]\ttraining's rmse: 0.243209\n",
      "[Iteration 500] RMSE: 0.2431 | Elapsed: 200.15s | Estimated Remaining: 199.76s\n",
      "[600]\ttraining's rmse: 0.235101\n",
      "[Iteration 600] RMSE: 0.2350 | Elapsed: 203.87s | Estimated Remaining: 135.68s\n",
      "[700]\ttraining's rmse: 0.229161\n",
      "[Iteration 700] RMSE: 0.2291 | Elapsed: 224.06s | Estimated Remaining: 95.89s\n",
      "[800]\ttraining's rmse: 0.22498\n",
      "[Iteration 800] RMSE: 0.2250 | Elapsed: 226.93s | Estimated Remaining: 56.66s\n",
      "[900]\ttraining's rmse: 0.22163\n",
      "[Iteration 900] RMSE: 0.2216 | Elapsed: 228.19s | Estimated Remaining: 25.33s\n",
      "[1000]\ttraining's rmse: 0.217629\n"
     ]
    },
    {
     "data": {
      "image/png": "[encoded data removed]",
      "text/plain": [
       "<Figure size 640x480 with 1 Axes>"
      ]
     },
     "metadata": {},
     "output_type": "display_data"
    }
   ],
   "source": [
    "print(\"========== Training the final model ==========================\")\n",
    "\n",
    "final_model = train_final_model(X_train_full_processed, y_train_full_scaled, best_params)"
   ]
  },
  {
   "cell_type": "code",
   "execution_count": 31,
   "metadata": {},
   "outputs": [
    {
     "data": {
      "image/png": "[encoded data removed]",
      "text/plain": [
       "<Figure size 640x480 with 1 Axes>"
      ]
     },
     "metadata": {},
     "output_type": "display_data"
    }
   ],
   "source": [
    "# Plot the feature importance\n",
    "ax = lgb.plot_importance(final_model, max_num_features=20, importance_type='gain')\n",
    "plt.title(f\"Feature Importance for Meter {meter_value}\")\n",
    "plt.show()"
   ]
  },
  {
   "cell_type": "markdown",
   "metadata": {},
   "source": [
    "## Check Model Performance on training dataset"
   ]
  },
  {
   "cell_type": "markdown",
   "metadata": {},
   "source": [
    "### Define functions to evaluate model"
   ]
  },
  {
   "cell_type": "code",
   "execution_count": 32,
   "metadata": {},
   "outputs": [],
   "source": [
    "def evaluate_model(model, X_test, y_test, y_scaler):\n",
    "    # Get predictions\n",
    "    y_pred_scaled = model.predict(X_test)\n",
    "    y_pred_log = y_scaler.inverse_transform(y_pred_scaled.reshape(-1, 1))\n",
    "    y_pred = np.expm1(y_pred_log).flatten()  # Transform back from log scale\n",
    "\n",
    "    # Since y_test is already in original scale, no transformation needed\n",
    "    y_true = y_test\n",
    "\n",
    "    # Calculate metrics\n",
    "    rmse = root_mean_squared_error(y_true, y_pred)\n",
    "    cvrmse = coefficient_of_variation_root_mean_squared_error(y_true, y_pred)\n",
    "    mbe = mean_bias_error(y_true, y_pred)\n",
    "    nmbe = normalized_mean_bias_error(y_true, y_pred)\n",
    "    r2 = r_squared(y_true, y_pred)\n",
    "\n",
    "    # Create the results DataFrame including X_test features\n",
    "    results_df = pd.DataFrame(X_test).copy()\n",
    "    results_df['y_true'] = y_true\n",
    "    results_df['y_pred'] = y_pred\n",
    "\n",
    "    return rmse, cvrmse, nmbe, mbe, r2, results_df"
   ]
  },
  {
   "cell_type": "markdown",
   "metadata": {},
   "source": [
    "### Evaluate model on training dataset"
   ]
  },
  {
   "cell_type": "code",
   "execution_count": null,
   "metadata": {},
   "outputs": [
    {
     "name": "stdout",
     "output_type": "stream",
     "text": [
      "Evaluating the model on training set\n",
      "Results for meter hotwater on train set:\n",
      "       RMSE=1233215.679,\n",
      "       CV-RMSE=129.1221 %,\n",
      "       NMBE=9.5489 %,\n",
      "       MBE=91198.8713,\n",
      "       R2=0.71\n"
     ]
    }
   ],
   "source": [
    "print(\"Evaluating the model on training set\")\n",
    "# Evaluate the model\n",
    "rmse, cvrmse, nmbe, mbe, r2, results_df_training = evaluate_model(final_model, X_train_full_processed, y_meter, y_scaler)\n",
    "\n",
    "# append metrics to \n",
    "results_training = []\n",
    "results_training.append({\n",
    "    'meter_value': meter_value,\n",
    "    'best_params': best_params,\n",
    "    'rmse': rmse,\n",
    "    'cv-rmse': cvrmse,\n",
    "    'nmbe': nmbe,\n",
    "})\n",
    "\n",
    "print(f\"Results for meter {meter_value} on train set:\\n \\\n",
    "      RMSE={round(rmse, 4)},\\n \\\n",
    "      CV-RMSE={round(cvrmse, 4)} %,\\n \\\n",
    "      NMBE={round(nmbe, 4)} %,\\n \\\n",
    "      MBE={round(mbe, 4)},\\n \\\n",
    "      R2={round(r2, 4)}\")\n"
   ]
  },
  {
   "cell_type": "markdown",
   "metadata": {},
   "source": [
    "### Visualize Prediction versus Actual on training set"
   ]
  },
  {
   "cell_type": "code",
   "execution_count": 38,
   "metadata": {},
   "outputs": [
    {
     "data": {
      "image/png": "[encoded data removed]",
      "text/plain": [
       "<Figure size 1200x600 with 1 Axes>"
      ]
     },
     "metadata": {},
     "output_type": "display_data"
    }
   ],
   "source": [
    "plt.figure(figsize=(12, 6))\n",
    "\n",
    "# Use contrasting colors and adjust the line width for better visibility\n",
    "plt.plot(results_df_training['y_true'], label=\"Actual\", color=\"blue\", alpha=0.6, linewidth=1.5)\n",
    "plt.plot(results_df_training['y_pred'], label=\"Predicted\", color=\"orange\", alpha=0.6, linewidth=1.5)\n",
    "\n",
    "plt.xlabel(\"Sample\")\n",
    "plt.ylabel(\"Value\")\n",
    "plt.legend()\n",
    "plt.title(\"Actual vs. Predicted Values\")\n",
    "plt.grid(True, linestyle='--', alpha=0.5)  # Add a light grid for better readability\n",
    "\n",
    "plt.show()"
   ]
  },
  {
   "cell_type": "markdown",
   "metadata": {
    "id": "bK4QwaZZAoc_"
   },
   "source": [
    "## Evaluate model on test set"
   ]
  },
  {
   "cell_type": "code",
   "execution_count": 39,
   "metadata": {
    "id": "wEx5MgKS_FLL"
   },
   "outputs": [
    {
     "name": "stdout",
     "output_type": "stream",
     "text": [
      "Evaluating the model on test set\n",
      "Results for meter hotwater on train set:\n",
      "       RMSE=2255618.2176,\n",
      "       CV-RMSE=235.735 %,\n",
      "       NMBE=11.1347 %,\n",
      "       MBE=106541.9005,\n",
      "       R2=0.2719\n"
     ]
    }
   ],
   "source": [
    "print(\"Evaluating the model on test set\")\n",
    "# Evaluate the model\n",
    "rmse, cvrmse, nmbe, mbe,r2 ,results_df = evaluate_model(final_model, X_test_processed, y_test_meter, y_scaler)\n",
    "\n",
    "# append metrics to \n",
    "results.append({\n",
    "    'meter_value': meter_value,\n",
    "    'best_params': best_params,\n",
    "    'rmse': rmse,\n",
    "    'cv-rmse': cvrmse,\n",
    "    'nmbe': nmbe,\n",
    "    'r2_score': r2\n",
    "})\n",
    "\n",
    "print(f\"Results for meter {meter_value} on train set:\\n \\\n",
    "      RMSE={round(rmse, 4)},\\n \\\n",
    "      CV-RMSE={round(cvrmse, 4)} %,\\n \\\n",
    "      NMBE={round(nmbe, 4)} %,\\n \\\n",
    "      MBE={round(mbe, 4)},\\n \\\n",
    "      R2={round(r2, 4)}\")"
   ]
  },
  {
   "cell_type": "code",
   "execution_count": 40,
   "metadata": {},
   "outputs": [
    {
     "data": {
      "text/html": [
       "<div>\n",
       "<style scoped>\n",
       "    .dataframe tbody tr th:only-of-type {\n",
       "        vertical-align: middle;\n",
       "    }\n",
       "\n",
       "    .dataframe tbody tr th {\n",
       "        vertical-align: top;\n",
       "    }\n",
       "\n",
       "    .dataframe thead th {\n",
       "        text-align: right;\n",
       "    }\n",
       "</style>\n",
       "<table border=\"1\" class=\"dataframe\">\n",
       "  <thead>\n",
       "    <tr style=\"text-align: right;\">\n",
       "      <th></th>\n",
       "      <th>sub_primaryspaceusage</th>\n",
       "      <th>sqm</th>\n",
       "      <th>airTemperature</th>\n",
       "      <th>month</th>\n",
       "      <th>weekday</th>\n",
       "      <th>site_id</th>\n",
       "      <th>y_true</th>\n",
       "      <th>y_pred</th>\n",
       "    </tr>\n",
       "    <tr>\n",
       "      <th>building_id</th>\n",
       "      <th></th>\n",
       "      <th></th>\n",
       "      <th></th>\n",
       "      <th></th>\n",
       "      <th></th>\n",
       "      <th></th>\n",
       "      <th></th>\n",
       "      <th></th>\n",
       "    </tr>\n",
       "  </thead>\n",
       "  <tbody>\n",
       "    <tr>\n",
       "      <th>344</th>\n",
       "      <td>College Laboratory</td>\n",
       "      <td>-0.116796</td>\n",
       "      <td>-0.066936</td>\n",
       "      <td>4</td>\n",
       "      <td>2</td>\n",
       "      <td>7</td>\n",
       "      <td>3.315378e+05</td>\n",
       "      <td>3.112019e+05</td>\n",
       "    </tr>\n",
       "    <tr>\n",
       "      <th>284</th>\n",
       "      <td>Office</td>\n",
       "      <td>-1.225161</td>\n",
       "      <td>0.898311</td>\n",
       "      <td>6</td>\n",
       "      <td>4</td>\n",
       "      <td>6</td>\n",
       "      <td>1.534515e+06</td>\n",
       "      <td>3.445548e+04</td>\n",
       "    </tr>\n",
       "    <tr>\n",
       "      <th>240</th>\n",
       "      <td>Academic</td>\n",
       "      <td>0.292353</td>\n",
       "      <td>1.072201</td>\n",
       "      <td>8</td>\n",
       "      <td>6</td>\n",
       "      <td>5</td>\n",
       "      <td>1.288369e+02</td>\n",
       "      <td>2.913608e+01</td>\n",
       "    </tr>\n",
       "    <tr>\n",
       "      <th>73</th>\n",
       "      <td>Academic</td>\n",
       "      <td>-0.318783</td>\n",
       "      <td>-1.465057</td>\n",
       "      <td>1</td>\n",
       "      <td>6</td>\n",
       "      <td>2</td>\n",
       "      <td>0.000000e+00</td>\n",
       "      <td>4.234728e+02</td>\n",
       "    </tr>\n",
       "    <tr>\n",
       "      <th>258</th>\n",
       "      <td>Research</td>\n",
       "      <td>0.703055</td>\n",
       "      <td>0.120782</td>\n",
       "      <td>10</td>\n",
       "      <td>2</td>\n",
       "      <td>6</td>\n",
       "      <td>3.067347e+06</td>\n",
       "      <td>3.242743e+06</td>\n",
       "    </tr>\n",
       "    <tr>\n",
       "      <th>291</th>\n",
       "      <td>Office</td>\n",
       "      <td>-0.354810</td>\n",
       "      <td>0.403855</td>\n",
       "      <td>10</td>\n",
       "      <td>2</td>\n",
       "      <td>6</td>\n",
       "      <td>8.517202e+05</td>\n",
       "      <td>6.621057e-01</td>\n",
       "    </tr>\n",
       "    <tr>\n",
       "      <th>293</th>\n",
       "      <td>Office</td>\n",
       "      <td>-2.331766</td>\n",
       "      <td>-0.762532</td>\n",
       "      <td>3</td>\n",
       "      <td>4</td>\n",
       "      <td>6</td>\n",
       "      <td>3.262069e+05</td>\n",
       "      <td>2.215925e+05</td>\n",
       "    </tr>\n",
       "    <tr>\n",
       "      <th>848</th>\n",
       "      <td>College Laboratory</td>\n",
       "      <td>-1.054885</td>\n",
       "      <td>-0.758438</td>\n",
       "      <td>11</td>\n",
       "      <td>5</td>\n",
       "      <td>15</td>\n",
       "      <td>0.000000e+00</td>\n",
       "      <td>-2.830416e-01</td>\n",
       "    </tr>\n",
       "    <tr>\n",
       "      <th>260</th>\n",
       "      <td>Research</td>\n",
       "      <td>0.420899</td>\n",
       "      <td>-0.119519</td>\n",
       "      <td>4</td>\n",
       "      <td>1</td>\n",
       "      <td>6</td>\n",
       "      <td>4.624901e+06</td>\n",
       "      <td>3.080355e+06</td>\n",
       "    </tr>\n",
       "    <tr>\n",
       "      <th>359</th>\n",
       "      <td>College Classroom</td>\n",
       "      <td>-0.538820</td>\n",
       "      <td>-0.849429</td>\n",
       "      <td>12</td>\n",
       "      <td>4</td>\n",
       "      <td>7</td>\n",
       "      <td>0.000000e+00</td>\n",
       "      <td>1.725035e+05</td>\n",
       "    </tr>\n",
       "  </tbody>\n",
       "</table>\n",
       "</div>"
      ],
      "text/plain": [
       "            sub_primaryspaceusage       sqm  airTemperature month weekday  \\\n",
       "building_id                                                                 \n",
       "344            College Laboratory -0.116796       -0.066936     4       2   \n",
       "284                        Office -1.225161        0.898311     6       4   \n",
       "240                      Academic  0.292353        1.072201     8       6   \n",
       "73                       Academic -0.318783       -1.465057     1       6   \n",
       "258                      Research  0.703055        0.120782    10       2   \n",
       "291                        Office -0.354810        0.403855    10       2   \n",
       "293                        Office -2.331766       -0.762532     3       4   \n",
       "848            College Laboratory -1.054885       -0.758438    11       5   \n",
       "260                      Research  0.420899       -0.119519     4       1   \n",
       "359             College Classroom -0.538820       -0.849429    12       4   \n",
       "\n",
       "            site_id        y_true        y_pred  \n",
       "building_id                                      \n",
       "344               7  3.315378e+05  3.112019e+05  \n",
       "284               6  1.534515e+06  3.445548e+04  \n",
       "240               5  1.288369e+02  2.913608e+01  \n",
       "73                2  0.000000e+00  4.234728e+02  \n",
       "258               6  3.067347e+06  3.242743e+06  \n",
       "291               6  8.517202e+05  6.621057e-01  \n",
       "293               6  3.262069e+05  2.215925e+05  \n",
       "848              15  0.000000e+00 -2.830416e-01  \n",
       "260               6  4.624901e+06  3.080355e+06  \n",
       "359               7  0.000000e+00  1.725035e+05  "
      ]
     },
     "execution_count": 40,
     "metadata": {},
     "output_type": "execute_result"
    }
   ],
   "source": [
    "results_df.sample(10)"
   ]
  },
  {
   "cell_type": "code",
   "execution_count": null,
   "metadata": {
    "colab": {
     "base_uri": "https://localhost:8080/"
    },
    "executionInfo": {
     "elapsed": 365,
     "status": "ok",
     "timestamp": 1730570845396,
     "user": {
      "displayName": "Felix Le",
      "userId": "06899890425444909729"
     },
     "user_tz": -420
    },
    "id": "ZHyYJ4HKsU4e",
    "outputId": "d656e28e-5d2f-4b25-ae0f-279977de59b4"
   },
   "outputs": [],
   "source": [
    "# Convert results to a DataFrame for further analysis\n",
    "results_df = pd.DataFrame(results)\n",
    "print(\"Metrics DataFrame:\")\n",
    "print(results_df)\n"
   ]
  },
  {
   "cell_type": "markdown",
   "metadata": {},
   "source": [
    "### Visualize actual versus predictions on test set"
   ]
  },
  {
   "cell_type": "code",
   "execution_count": null,
   "metadata": {},
   "outputs": [
    {
     "data": {
      "image/png": "[encoded data removed]",
      "text/plain": [
       "<Figure size 1200x800 with 1 Axes>"
      ]
     },
     "metadata": {},
     "output_type": "display_data"
    },
    {
     "ename": "",
     "evalue": "",
     "output_type": "error",
     "traceback": [
      "\u001b[1;31mThe Kernel crashed while executing code in the current cell or a previous cell. \n",
      "\u001b[1;31mPlease review the code in the cell(s) to identify a possible cause of the failure. \n",
      "\u001b[1;31mClick <a href='https://aka.ms/vscodeJupyterKernelCrash'>here</a> for more info. \n",
      "\u001b[1;31mView Jupyter <a href='command:jupyter.viewOutput'>log</a> for further details."
     ]
    }
   ],
   "source": [
    "plt.figure(figsize=(12, 8))\n",
    "\n",
    "# Use contrasting colors and adjust the line width for better visibility\n",
    "plt.plot(results_df['y_true'], label=\"Actual\", color=\"blue\", alpha=0.6, linewidth=1.5)\n",
    "plt.plot(results_df['y_pred'], label=\"Predicted\", color=\"orange\", alpha=0.6, linewidth=1.5)\n",
    "\n",
    "plt.xlabel(\"Sample\")\n",
    "plt.ylabel(\"Value\")\n",
    "plt.legend()\n",
    "plt.title(\"Actual vs. Predicted Values\")\n",
    "plt.grid(True, linestyle='--', alpha=0.5)  # Add a light grid for better readability\n",
    "\n",
    "plt.show()"
   ]
  }
 ],
 "metadata": {
  "accelerator": "GPU",
  "colab": {
   "gpuType": "T4",
   "provenance": []
  },
  "kernelspec": {
   "display_name": "env",
   "language": "python",
   "name": "python3"
  },
  "language_info": {
   "codemirror_mode": {
    "name": "ipython",
    "version": 3
   },
   "file_extension": ".py",
   "mimetype": "text/x-python",
   "name": "python",
   "nbconvert_exporter": "python",
   "pygments_lexer": "ipython3",
   "version": "3.10.12"
  }
 },
 "nbformat": 4,
 "nbformat_minor": 0
}
