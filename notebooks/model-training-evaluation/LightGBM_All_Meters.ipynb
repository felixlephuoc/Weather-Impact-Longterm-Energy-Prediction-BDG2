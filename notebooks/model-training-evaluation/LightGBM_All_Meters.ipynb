{
 "cells": [
  {
   "cell_type": "code",
   "execution_count": 48,
   "metadata": {
    "collapsed": true,
    "executionInfo": {
     "elapsed": 621,
     "status": "ok",
     "timestamp": 1730568854985,
     "user": {
      "displayName": "Felix Le",
      "userId": "06899890425444909729"
     },
     "user_tz": -420
    },
    "id": "F29gYEY-sU4Y"
   },
   "outputs": [],
   "source": [
    "import time\n",
    "import pandas as pd\n",
    "import numpy as np\n",
    "import math\n",
    "import optuna\n",
    "import joblib\n",
    "import lightgbm as lgb\n",
    "from sklearn.preprocessing import MinMaxScaler, StandardScaler\n",
    "from sklearn.metrics import mean_squared_error, r2_score\n",
    "import matplotlib.pyplot as plt\n",
    "from pandas.tseries.offsets import DateOffset"
   ]
  },
  {
   "cell_type": "markdown",
   "metadata": {},
   "source": [
    "## Load datasets"
   ]
  },
  {
   "cell_type": "code",
   "execution_count": 49,
   "metadata": {
    "executionInfo": {
     "elapsed": 4502,
     "status": "ok",
     "timestamp": 1730568864452,
     "user": {
      "displayName": "Felix Le",
      "userId": "06899890425444909729"
     },
     "user_tz": -420
    },
    "id": "2ZuLFCAZsU4b"
   },
   "outputs": [],
   "source": [
    "# Load datasets\n",
    "# Train Data\n",
    "temp_df = pd.read_csv(\"../data/cleaned/train.csv\", nrows=0)  # Read only the header\n",
    "total_columns = len(temp_df.columns)\n",
    "columns_to_use = temp_df.columns[1:total_columns]\n",
    "train_data = pd.read_csv(\"../data/cleaned/train.csv\", usecols=columns_to_use)\n",
    "\n",
    "# Test Data\n",
    "test_data = pd.read_csv(\"../data/cleaned/test.csv\", usecols=columns_to_use)"
   ]
  },
  {
   "cell_type": "markdown",
   "metadata": {
    "id": "3FxWCwXYtlJv"
   },
   "source": [
    "## Process datasets"
   ]
  },
  {
   "cell_type": "code",
   "execution_count": 50,
   "metadata": {
    "executionInfo": {
     "elapsed": 586,
     "status": "ok",
     "timestamp": 1730568869265,
     "user": {
      "displayName": "Felix Le",
      "userId": "06899890425444909729"
     },
     "user_tz": -420
    },
    "id": "2PhUIOTesU4b"
   },
   "outputs": [],
   "source": [
    "# *** Do not drop 'date' column yet ***\n",
    "train_data = train_data.drop(columns=['building_name', 'site_name', 'sqft'])\n",
    "test_data = test_data.drop(columns=['building_name', 'site_name', 'sqft'])\n",
    "\n",
    "# Convert 'date' column to datetime\n",
    "train_data['date'] = pd.to_datetime(train_data['date'])\n",
    "test_data['date'] = pd.to_datetime(test_data['date'])\n",
    "\n",
    "\n",
    "# Building index on building_id for further assessment\n",
    "train_data.set_index('building_id', inplace=True)\n",
    "test_data.set_index('building_id', inplace=True)\n",
    "\n",
    "# Define features and types based on dataset\n",
    "numerical_features = ['sqm', 'airTemperature']\n",
    "categorical_features = ['meter', 'primaryspaceusage', 'site_id', 'weekday', 'month']\n",
    "\n",
    "results = []"
   ]
  },
  {
   "cell_type": "markdown",
   "metadata": {
    "id": "rF9G-3R-y74v"
   },
   "source": [
    "### Drop the columns that we may not use during training"
   ]
  },
  {
   "cell_type": "code",
   "execution_count": 51,
   "metadata": {
    "executionInfo": {
     "elapsed": 360,
     "status": "ok",
     "timestamp": 1730568873223,
     "user": {
      "displayName": "Felix Le",
      "userId": "06899890425444909729"
     },
     "user_tz": -420
    },
    "id": "LbH3pMvsyFmR"
   },
   "outputs": [],
   "source": [
    "train_data.drop(columns=['sub_primaryspaceusage', 'timezone', 'season'], inplace=True)\n",
    "test_data.drop(columns=['sub_primaryspaceusage', 'timezone', 'season'], inplace=True)"
   ]
  },
  {
   "cell_type": "code",
   "execution_count": 77,
   "metadata": {
    "colab": {
     "base_uri": "https://localhost:8080/",
     "height": 344
    },
    "collapsed": true,
    "executionInfo": {
     "elapsed": 352,
     "status": "ok",
     "timestamp": 1730568874691,
     "user": {
      "displayName": "Felix Le",
      "userId": "06899890425444909729"
     },
     "user_tz": -420
    },
    "id": "YQnbxiTdtpuN",
    "outputId": "6ccade4c-f3be-4d9a-9dc9-002c7f5e7dc3"
   },
   "outputs": [
    {
     "data": {
      "text/html": [
       "<div>\n",
       "<style scoped>\n",
       "    .dataframe tbody tr th:only-of-type {\n",
       "        vertical-align: middle;\n",
       "    }\n",
       "\n",
       "    .dataframe tbody tr th {\n",
       "        vertical-align: top;\n",
       "    }\n",
       "\n",
       "    .dataframe thead th {\n",
       "        text-align: right;\n",
       "    }\n",
       "</style>\n",
       "<table border=\"1\" class=\"dataframe\">\n",
       "  <thead>\n",
       "    <tr style=\"text-align: right;\">\n",
       "      <th></th>\n",
       "      <th>meter</th>\n",
       "      <th>date</th>\n",
       "      <th>meter_reading</th>\n",
       "      <th>primaryspaceusage</th>\n",
       "      <th>sqm</th>\n",
       "      <th>airTemperature</th>\n",
       "      <th>month</th>\n",
       "      <th>weekday</th>\n",
       "      <th>site_id</th>\n",
       "    </tr>\n",
       "    <tr>\n",
       "      <th>building_id</th>\n",
       "      <th></th>\n",
       "      <th></th>\n",
       "      <th></th>\n",
       "      <th></th>\n",
       "      <th></th>\n",
       "      <th></th>\n",
       "      <th></th>\n",
       "      <th></th>\n",
       "      <th></th>\n",
       "    </tr>\n",
       "  </thead>\n",
       "  <tbody>\n",
       "    <tr>\n",
       "      <th>1</th>\n",
       "      <td>electricity</td>\n",
       "      <td>2016-01-01</td>\n",
       "      <td>2.9050</td>\n",
       "      <td>Education</td>\n",
       "      <td>609.8</td>\n",
       "      <td>5.246861</td>\n",
       "      <td>1</td>\n",
       "      <td>4</td>\n",
       "      <td>1</td>\n",
       "    </tr>\n",
       "    <tr>\n",
       "      <th>1</th>\n",
       "      <td>electricity</td>\n",
       "      <td>2016-01-02</td>\n",
       "      <td>2.7700</td>\n",
       "      <td>Education</td>\n",
       "      <td>609.8</td>\n",
       "      <td>5.993973</td>\n",
       "      <td>1</td>\n",
       "      <td>5</td>\n",
       "      <td>1</td>\n",
       "    </tr>\n",
       "    <tr>\n",
       "      <th>1</th>\n",
       "      <td>electricity</td>\n",
       "      <td>2016-01-03</td>\n",
       "      <td>2.6725</td>\n",
       "      <td>Education</td>\n",
       "      <td>609.8</td>\n",
       "      <td>5.660314</td>\n",
       "      <td>1</td>\n",
       "      <td>6</td>\n",
       "      <td>1</td>\n",
       "    </tr>\n",
       "    <tr>\n",
       "      <th>1</th>\n",
       "      <td>electricity</td>\n",
       "      <td>2016-01-04</td>\n",
       "      <td>4.5650</td>\n",
       "      <td>Education</td>\n",
       "      <td>609.8</td>\n",
       "      <td>5.048507</td>\n",
       "      <td>1</td>\n",
       "      <td>0</td>\n",
       "      <td>1</td>\n",
       "    </tr>\n",
       "    <tr>\n",
       "      <th>1</th>\n",
       "      <td>electricity</td>\n",
       "      <td>2016-01-05</td>\n",
       "      <td>4.7825</td>\n",
       "      <td>Education</td>\n",
       "      <td>609.8</td>\n",
       "      <td>4.745567</td>\n",
       "      <td>1</td>\n",
       "      <td>1</td>\n",
       "      <td>1</td>\n",
       "    </tr>\n",
       "  </tbody>\n",
       "</table>\n",
       "</div>"
      ],
      "text/plain": [
       "                   meter       date  meter_reading primaryspaceusage    sqm  \\\n",
       "building_id                                                                   \n",
       "1            electricity 2016-01-01         2.9050         Education  609.8   \n",
       "1            electricity 2016-01-02         2.7700         Education  609.8   \n",
       "1            electricity 2016-01-03         2.6725         Education  609.8   \n",
       "1            electricity 2016-01-04         4.5650         Education  609.8   \n",
       "1            electricity 2016-01-05         4.7825         Education  609.8   \n",
       "\n",
       "             airTemperature  month  weekday  site_id  \n",
       "building_id                                           \n",
       "1                  5.246861      1        4        1  \n",
       "1                  5.993973      1        5        1  \n",
       "1                  5.660314      1        6        1  \n",
       "1                  5.048507      1        0        1  \n",
       "1                  4.745567      1        1        1  "
      ]
     },
     "execution_count": 77,
     "metadata": {},
     "output_type": "execute_result"
    }
   ],
   "source": [
    "train_data.head()"
   ]
  },
  {
   "cell_type": "code",
   "execution_count": 78,
   "metadata": {},
   "outputs": [
    {
     "data": {
      "text/html": [
       "<div>\n",
       "<style scoped>\n",
       "    .dataframe tbody tr th:only-of-type {\n",
       "        vertical-align: middle;\n",
       "    }\n",
       "\n",
       "    .dataframe tbody tr th {\n",
       "        vertical-align: top;\n",
       "    }\n",
       "\n",
       "    .dataframe thead th {\n",
       "        text-align: right;\n",
       "    }\n",
       "</style>\n",
       "<table border=\"1\" class=\"dataframe\">\n",
       "  <thead>\n",
       "    <tr style=\"text-align: right;\">\n",
       "      <th></th>\n",
       "      <th>site_id</th>\n",
       "      <th>meter</th>\n",
       "      <th>date</th>\n",
       "      <th>primaryspaceusage</th>\n",
       "      <th>sqm</th>\n",
       "      <th>airTemperature</th>\n",
       "    </tr>\n",
       "    <tr>\n",
       "      <th>building_id</th>\n",
       "      <th></th>\n",
       "      <th></th>\n",
       "      <th></th>\n",
       "      <th></th>\n",
       "      <th></th>\n",
       "      <th></th>\n",
       "    </tr>\n",
       "  </thead>\n",
       "  <tbody>\n",
       "    <tr>\n",
       "      <th>1</th>\n",
       "      <td>1</td>\n",
       "      <td>electricity</td>\n",
       "      <td>2016-01-01</td>\n",
       "      <td>Education</td>\n",
       "      <td>609.8</td>\n",
       "      <td>5.246861</td>\n",
       "    </tr>\n",
       "    <tr>\n",
       "      <th>1</th>\n",
       "      <td>1</td>\n",
       "      <td>electricity</td>\n",
       "      <td>2016-01-02</td>\n",
       "      <td>Education</td>\n",
       "      <td>609.8</td>\n",
       "      <td>5.993973</td>\n",
       "    </tr>\n",
       "    <tr>\n",
       "      <th>1</th>\n",
       "      <td>1</td>\n",
       "      <td>electricity</td>\n",
       "      <td>2016-01-03</td>\n",
       "      <td>Education</td>\n",
       "      <td>609.8</td>\n",
       "      <td>5.660314</td>\n",
       "    </tr>\n",
       "    <tr>\n",
       "      <th>1</th>\n",
       "      <td>1</td>\n",
       "      <td>electricity</td>\n",
       "      <td>2016-01-04</td>\n",
       "      <td>Education</td>\n",
       "      <td>609.8</td>\n",
       "      <td>5.048507</td>\n",
       "    </tr>\n",
       "    <tr>\n",
       "      <th>1</th>\n",
       "      <td>1</td>\n",
       "      <td>electricity</td>\n",
       "      <td>2016-01-05</td>\n",
       "      <td>Education</td>\n",
       "      <td>609.8</td>\n",
       "      <td>4.745567</td>\n",
       "    </tr>\n",
       "  </tbody>\n",
       "</table>\n",
       "</div>"
      ],
      "text/plain": [
       "             site_id        meter       date primaryspaceusage    sqm  \\\n",
       "building_id                                                             \n",
       "1                  1  electricity 2016-01-01         Education  609.8   \n",
       "1                  1  electricity 2016-01-02         Education  609.8   \n",
       "1                  1  electricity 2016-01-03         Education  609.8   \n",
       "1                  1  electricity 2016-01-04         Education  609.8   \n",
       "1                  1  electricity 2016-01-05         Education  609.8   \n",
       "\n",
       "             airTemperature  \n",
       "building_id                  \n",
       "1                  5.246861  \n",
       "1                  5.993973  \n",
       "1                  5.660314  \n",
       "1                  5.048507  \n",
       "1                  4.745567  "
      ]
     },
     "execution_count": 78,
     "metadata": {},
     "output_type": "execute_result"
    }
   ],
   "source": [
    "cols = ['site_id', 'meter', 'date', 'primaryspaceusage', 'sqm', 'airTemperature']\n",
    "train_data[cols].head()"
   ]
  },
  {
   "cell_type": "code",
   "execution_count": 80,
   "metadata": {},
   "outputs": [
    {
     "data": {
      "text/plain": [
       "array(['Education', 'Office'], dtype=object)"
      ]
     },
     "execution_count": 80,
     "metadata": {},
     "output_type": "execute_result"
    }
   ],
   "source": [
    "train_data['primaryspaceusage'].unique()"
   ]
  },
  {
   "cell_type": "code",
   "execution_count": 53,
   "metadata": {
    "colab": {
     "base_uri": "https://localhost:8080/",
     "height": 344
    },
    "collapsed": true,
    "executionInfo": {
     "elapsed": 377,
     "status": "ok",
     "timestamp": 1730568877390,
     "user": {
      "displayName": "Felix Le",
      "userId": "06899890425444909729"
     },
     "user_tz": -420
    },
    "id": "zDkiEcB1tspg",
    "outputId": "ab92e354-eb4b-4d89-882c-35847eba72ea"
   },
   "outputs": [
    {
     "data": {
      "text/html": [
       "<div>\n",
       "<style scoped>\n",
       "    .dataframe tbody tr th:only-of-type {\n",
       "        vertical-align: middle;\n",
       "    }\n",
       "\n",
       "    .dataframe tbody tr th {\n",
       "        vertical-align: top;\n",
       "    }\n",
       "\n",
       "    .dataframe thead th {\n",
       "        text-align: right;\n",
       "    }\n",
       "</style>\n",
       "<table border=\"1\" class=\"dataframe\">\n",
       "  <thead>\n",
       "    <tr style=\"text-align: right;\">\n",
       "      <th></th>\n",
       "      <th>meter</th>\n",
       "      <th>date</th>\n",
       "      <th>meter_reading</th>\n",
       "      <th>primaryspaceusage</th>\n",
       "      <th>sqm</th>\n",
       "      <th>airTemperature</th>\n",
       "      <th>month</th>\n",
       "      <th>weekday</th>\n",
       "      <th>site_id</th>\n",
       "    </tr>\n",
       "    <tr>\n",
       "      <th>building_id</th>\n",
       "      <th></th>\n",
       "      <th></th>\n",
       "      <th></th>\n",
       "      <th></th>\n",
       "      <th></th>\n",
       "      <th></th>\n",
       "      <th></th>\n",
       "      <th></th>\n",
       "      <th></th>\n",
       "    </tr>\n",
       "  </thead>\n",
       "  <tbody>\n",
       "    <tr>\n",
       "      <th>1</th>\n",
       "      <td>electricity</td>\n",
       "      <td>2017-01-01</td>\n",
       "      <td>2.1775</td>\n",
       "      <td>Education</td>\n",
       "      <td>609.8</td>\n",
       "      <td>6.313140</td>\n",
       "      <td>1</td>\n",
       "      <td>6</td>\n",
       "      <td>1</td>\n",
       "    </tr>\n",
       "    <tr>\n",
       "      <th>1</th>\n",
       "      <td>electricity</td>\n",
       "      <td>2017-01-02</td>\n",
       "      <td>2.7925</td>\n",
       "      <td>Education</td>\n",
       "      <td>609.8</td>\n",
       "      <td>5.297363</td>\n",
       "      <td>1</td>\n",
       "      <td>0</td>\n",
       "      <td>1</td>\n",
       "    </tr>\n",
       "    <tr>\n",
       "      <th>1</th>\n",
       "      <td>electricity</td>\n",
       "      <td>2017-01-03</td>\n",
       "      <td>7.1100</td>\n",
       "      <td>Education</td>\n",
       "      <td>609.8</td>\n",
       "      <td>5.970330</td>\n",
       "      <td>1</td>\n",
       "      <td>1</td>\n",
       "      <td>1</td>\n",
       "    </tr>\n",
       "    <tr>\n",
       "      <th>1</th>\n",
       "      <td>electricity</td>\n",
       "      <td>2017-01-04</td>\n",
       "      <td>6.8450</td>\n",
       "      <td>Education</td>\n",
       "      <td>609.8</td>\n",
       "      <td>5.959649</td>\n",
       "      <td>1</td>\n",
       "      <td>2</td>\n",
       "      <td>1</td>\n",
       "    </tr>\n",
       "    <tr>\n",
       "      <th>1</th>\n",
       "      <td>electricity</td>\n",
       "      <td>2017-01-05</td>\n",
       "      <td>3.9500</td>\n",
       "      <td>Education</td>\n",
       "      <td>609.8</td>\n",
       "      <td>1.717660</td>\n",
       "      <td>1</td>\n",
       "      <td>3</td>\n",
       "      <td>1</td>\n",
       "    </tr>\n",
       "  </tbody>\n",
       "</table>\n",
       "</div>"
      ],
      "text/plain": [
       "                   meter       date  meter_reading primaryspaceusage    sqm  \\\n",
       "building_id                                                                   \n",
       "1            electricity 2017-01-01         2.1775         Education  609.8   \n",
       "1            electricity 2017-01-02         2.7925         Education  609.8   \n",
       "1            electricity 2017-01-03         7.1100         Education  609.8   \n",
       "1            electricity 2017-01-04         6.8450         Education  609.8   \n",
       "1            electricity 2017-01-05         3.9500         Education  609.8   \n",
       "\n",
       "             airTemperature  month  weekday  site_id  \n",
       "building_id                                           \n",
       "1                  6.313140      1        6        1  \n",
       "1                  5.297363      1        0        1  \n",
       "1                  5.970330      1        1        1  \n",
       "1                  5.959649      1        2        1  \n",
       "1                  1.717660      1        3        1  "
      ]
     },
     "execution_count": 53,
     "metadata": {},
     "output_type": "execute_result"
    }
   ],
   "source": [
    "test_data.head()"
   ]
  },
  {
   "cell_type": "code",
   "execution_count": 54,
   "metadata": {},
   "outputs": [
    {
     "name": "stdout",
     "output_type": "stream",
     "text": [
      "<class 'pandas.core.frame.DataFrame'>\n",
      "Index: 672708 entries, 1 to 924\n",
      "Data columns (total 9 columns):\n",
      " #   Column             Non-Null Count   Dtype         \n",
      "---  ------             --------------   -----         \n",
      " 0   meter              672708 non-null  object        \n",
      " 1   date               672708 non-null  datetime64[ns]\n",
      " 2   meter_reading      672708 non-null  float64       \n",
      " 3   primaryspaceusage  672708 non-null  object        \n",
      " 4   sqm                672708 non-null  float64       \n",
      " 5   airTemperature     672708 non-null  float64       \n",
      " 6   month              672708 non-null  int64         \n",
      " 7   weekday            672708 non-null  int64         \n",
      " 8   site_id            672708 non-null  int64         \n",
      "dtypes: datetime64[ns](1), float64(3), int64(3), object(2)\n",
      "memory usage: 51.3+ MB\n"
     ]
    }
   ],
   "source": [
    "train_data.info()"
   ]
  },
  {
   "cell_type": "code",
   "execution_count": 55,
   "metadata": {},
   "outputs": [
    {
     "name": "stdout",
     "output_type": "stream",
     "text": [
      "<class 'pandas.core.frame.DataFrame'>\n",
      "Index: 670290 entries, 1 to 924\n",
      "Data columns (total 9 columns):\n",
      " #   Column             Non-Null Count   Dtype         \n",
      "---  ------             --------------   -----         \n",
      " 0   meter              670290 non-null  object        \n",
      " 1   date               670290 non-null  datetime64[ns]\n",
      " 2   meter_reading      670290 non-null  float64       \n",
      " 3   primaryspaceusage  670290 non-null  object        \n",
      " 4   sqm                670290 non-null  float64       \n",
      " 5   airTemperature     670290 non-null  float64       \n",
      " 6   month              670290 non-null  int64         \n",
      " 7   weekday            670290 non-null  int64         \n",
      " 8   site_id            670290 non-null  int64         \n",
      "dtypes: datetime64[ns](1), float64(3), int64(3), object(2)\n",
      "memory usage: 51.1+ MB\n"
     ]
    }
   ],
   "source": [
    "test_data.info()"
   ]
  },
  {
   "cell_type": "code",
   "execution_count": 84,
   "metadata": {},
   "outputs": [
    {
     "data": {
      "text/html": [
       "<div>\n",
       "<style scoped>\n",
       "    .dataframe tbody tr th:only-of-type {\n",
       "        vertical-align: middle;\n",
       "    }\n",
       "\n",
       "    .dataframe tbody tr th {\n",
       "        vertical-align: top;\n",
       "    }\n",
       "\n",
       "    .dataframe thead th {\n",
       "        text-align: right;\n",
       "    }\n",
       "</style>\n",
       "<table border=\"1\" class=\"dataframe\">\n",
       "  <thead>\n",
       "    <tr style=\"text-align: right;\">\n",
       "      <th></th>\n",
       "      <th>meter</th>\n",
       "      <th>date</th>\n",
       "      <th>meter_reading</th>\n",
       "      <th>primaryspaceusage</th>\n",
       "      <th>sqm</th>\n",
       "      <th>airTemperature</th>\n",
       "      <th>month</th>\n",
       "      <th>weekday</th>\n",
       "      <th>site_id</th>\n",
       "    </tr>\n",
       "    <tr>\n",
       "      <th>building_id</th>\n",
       "      <th></th>\n",
       "      <th></th>\n",
       "      <th></th>\n",
       "      <th></th>\n",
       "      <th></th>\n",
       "      <th></th>\n",
       "      <th></th>\n",
       "      <th></th>\n",
       "      <th></th>\n",
       "    </tr>\n",
       "  </thead>\n",
       "  <tbody>\n",
       "    <tr>\n",
       "      <th>491</th>\n",
       "      <td>electricity</td>\n",
       "      <td>2017-06-20</td>\n",
       "      <td>10899.0000</td>\n",
       "      <td>Office</td>\n",
       "      <td>18033.5</td>\n",
       "      <td>24.238393</td>\n",
       "      <td>6</td>\n",
       "      <td>1</td>\n",
       "      <td>9</td>\n",
       "    </tr>\n",
       "    <tr>\n",
       "      <th>377</th>\n",
       "      <td>chilledwater</td>\n",
       "      <td>2017-12-05</td>\n",
       "      <td>2737.4607</td>\n",
       "      <td>Office</td>\n",
       "      <td>2766.5</td>\n",
       "      <td>9.660965</td>\n",
       "      <td>12</td>\n",
       "      <td>1</td>\n",
       "      <td>7</td>\n",
       "    </tr>\n",
       "    <tr>\n",
       "      <th>697</th>\n",
       "      <td>steam</td>\n",
       "      <td>2017-03-25</td>\n",
       "      <td>23016.0060</td>\n",
       "      <td>Education</td>\n",
       "      <td>5416.9</td>\n",
       "      <td>11.240570</td>\n",
       "      <td>3</td>\n",
       "      <td>5</td>\n",
       "      <td>13</td>\n",
       "    </tr>\n",
       "    <tr>\n",
       "      <th>625</th>\n",
       "      <td>water</td>\n",
       "      <td>2017-08-18</td>\n",
       "      <td>1400.6017</td>\n",
       "      <td>Education</td>\n",
       "      <td>2200.4</td>\n",
       "      <td>21.950439</td>\n",
       "      <td>8</td>\n",
       "      <td>4</td>\n",
       "      <td>12</td>\n",
       "    </tr>\n",
       "    <tr>\n",
       "      <th>472</th>\n",
       "      <td>electricity</td>\n",
       "      <td>2017-01-31</td>\n",
       "      <td>2196.7530</td>\n",
       "      <td>Office</td>\n",
       "      <td>5332.1</td>\n",
       "      <td>4.523516</td>\n",
       "      <td>1</td>\n",
       "      <td>1</td>\n",
       "      <td>9</td>\n",
       "    </tr>\n",
       "  </tbody>\n",
       "</table>\n",
       "</div>"
      ],
      "text/plain": [
       "                    meter       date  meter_reading primaryspaceusage  \\\n",
       "building_id                                                             \n",
       "491           electricity 2017-06-20     10899.0000            Office   \n",
       "377          chilledwater 2017-12-05      2737.4607            Office   \n",
       "697                 steam 2017-03-25     23016.0060         Education   \n",
       "625                 water 2017-08-18      1400.6017         Education   \n",
       "472           electricity 2017-01-31      2196.7530            Office   \n",
       "\n",
       "                 sqm  airTemperature  month  weekday  site_id  \n",
       "building_id                                                    \n",
       "491          18033.5       24.238393      6        1        9  \n",
       "377           2766.5        9.660965     12        1        7  \n",
       "697           5416.9       11.240570      3        5       13  \n",
       "625           2200.4       21.950439      8        4       12  \n",
       "472           5332.1        4.523516      1        1        9  "
      ]
     },
     "execution_count": 84,
     "metadata": {},
     "output_type": "execute_result"
    }
   ],
   "source": [
    "test_data.sample(5)"
   ]
  },
  {
   "cell_type": "code",
   "execution_count": 56,
   "metadata": {},
   "outputs": [
    {
     "data": {
      "text/plain": [
       "array(['electricity', 'chilledwater', 'gas', 'hotwater', 'solar', 'water',\n",
       "       'steam', 'irrigation'], dtype=object)"
      ]
     },
     "execution_count": 56,
     "metadata": {},
     "output_type": "execute_result"
    }
   ],
   "source": [
    "unique_meters = train_data['meter'].unique()\n",
    "unique_meters"
   ]
  },
  {
   "cell_type": "markdown",
   "metadata": {
    "id": "Gk-6J0FttxiG"
   },
   "source": [
    "## Define Evaluation metrics"
   ]
  },
  {
   "cell_type": "code",
   "execution_count": 57,
   "metadata": {
    "executionInfo": {
     "elapsed": 396,
     "status": "ok",
     "timestamp": 1730568885545,
     "user": {
      "displayName": "Felix Le",
      "userId": "06899890425444909729"
     },
     "user_tz": -420
    },
    "id": "OhGE8p96sU4d"
   },
   "outputs": [],
   "source": [
    "# Define custom evaluation metrics\n",
    "def root_mean_squared_error(y_true, y_pred):\n",
    "    mse = mean_squared_error(y_true, y_pred)\n",
    "    return math.sqrt(mse)\n",
    "\n",
    "def coefficient_of_variation_root_mean_squared_error(y_true, y_pred):\n",
    "    rmse = root_mean_squared_error(y_true, y_pred)\n",
    "    return rmse / np.mean(y_true) * 100\n",
    "\n",
    "def mean_bias_error(y_true, y_pred):\n",
    "    dif = y_true - y_pred\n",
    "    return np.mean(dif)\n",
    "\n",
    "def normalized_mean_bias_error(y_true, y_pred):\n",
    "    dif = y_true - y_pred\n",
    "    return (np.sum(dif) / (len(y_true) * np.mean(y_true))) * 100\n",
    "\n",
    "def r_squared(y_true, y_pred):\n",
    "    return r2_score(y_true, y_pred)"
   ]
  },
  {
   "cell_type": "markdown",
   "metadata": {},
   "source": [
    "## Data Preprocessing Functions for Model Training\n"
   ]
  },
  {
   "cell_type": "code",
   "execution_count": 58,
   "metadata": {},
   "outputs": [],
   "source": [
    "# Function to preprocess data\n",
    "def preprocess_data(X, y=None, fit_scaler=False, scaler=None, y_scaler=None):\n",
    "    # Convert categorical features to 'category' type\n",
    "    for cat_col in categorical_features:\n",
    "        X[cat_col] = X[cat_col].astype('category')\n",
    "\n",
    "    # Log-transform 'sqm' if it's a highly skewed feature\n",
    "    if 'sqm' in X.columns:\n",
    "        X['sqm'] = np.log1p(X['sqm'])\n",
    "\n",
    "    # Scale numerical features\n",
    "    if fit_scaler:\n",
    "        scaler = StandardScaler()\n",
    "        X[numerical_features] = scaler.fit_transform(X[numerical_features])\n",
    "        \n",
    "        if y is not None:\n",
    "            \n",
    "            # Cap y at the 99th percentile to handle outliers\n",
    "            cap_value = np.percentile(y, 99)\n",
    "            y = np.clip(y, None, cap_value)  # Cap extreme values\n",
    "            \n",
    "            # Log-transform and scale the target\n",
    "            y_log = np.log1p(y)\n",
    "            y_scaler = StandardScaler()\n",
    "            y_scaled = y_scaler.fit_transform(y_log.values.reshape(-1, 1)).flatten()\n",
    "            return X, y_scaled, scaler, y_scaler\n",
    "        else:\n",
    "            return X, scaler\n",
    "    else:\n",
    "        X[numerical_features] = scaler.transform(X[numerical_features])\n",
    "        \n",
    "        if y is not None:\n",
    "            # Log-transform and scale the target using the provided scaler\n",
    "            y_log = np.log1p(y)\n",
    "            y_scaled = y_scaler.transform(y_log.values.reshape(-1, 1)).flatten()\n",
    "            return X, y_scaled\n",
    "        else:\n",
    "            return X"
   ]
  },
  {
   "cell_type": "markdown",
   "metadata": {
    "id": "R8GWsHWgt5UK"
   },
   "source": [
    "## Model Optimization: Hyper-parameter Tuning Using Optuna"
   ]
  },
  {
   "cell_type": "code",
   "execution_count": null,
   "metadata": {
    "executionInfo": {
     "elapsed": 382,
     "status": "ok",
     "timestamp": 1730571338546,
     "user": {
      "displayName": "Felix Le",
      "userId": "06899890425444909729"
     },
     "user_tz": -420
    },
    "id": "g7i32kIvsU4d"
   },
   "outputs": [],
   "source": [
    "# Optuna objective function for hyperparameter tuning\n",
    "def objective(trial, X_train, y_train, X_valid, y_valid):\n",
    "    param = {\n",
    "        'objective': 'regression',\n",
    "        'metric': 'rmse',\n",
    "        \"random_state\": 42,\n",
    "        'boosting_type': 'gbdt',\n",
    "        'device': 'cpu',\n",
    "        'verbosity': -1,\n",
    "        'lambda_l1': trial.suggest_float('lambda_l1', 1e-8, 10.0, log=True),\n",
    "        'lambda_l2': trial.suggest_float('lambda_l2', 1e-8, 10.0, log=True),\n",
    "        'num_leaves': trial.suggest_int('num_leaves', 2000, 3000),\n",
    "        'feature_fraction': trial.suggest_float('feature_fraction', 0.4, 1.0),\n",
    "        'bagging_fraction': trial.suggest_float('bagging_fraction', 0.4, 1.0),\n",
    "        'bagging_freq': trial.suggest_int('bagging_freq', 1, 7),\n",
    "        'min_child_samples': trial.suggest_int('min_child_samples', 1, 50),\n",
    "        'learning_rate': 0.01,\n",
    "        'max_depth': trial.suggest_int('max_depth', 100, 500),\n",
    "        'max_bin': trial.suggest_int('max_bin', 500, 1000)\n",
    "    }\n",
    "\n",
    "    lgb_train = lgb.Dataset(X_train,\n",
    "                            label=y_train,\n",
    "                            categorical_feature=categorical_features)\n",
    "    lgb_valid = lgb.Dataset(X_valid,\n",
    "                            label=y_valid,\n",
    "                            categorical_feature=categorical_features,\n",
    "                            reference=lgb_train)\n",
    "\n",
    "    model = lgb.train(\n",
    "        param,\n",
    "        lgb_train,\n",
    "        valid_sets=[lgb_valid],\n",
    "        num_boost_round=1000,\n",
    "        callbacks=[\n",
    "        lgb.early_stopping(stopping_rounds=50),\n",
    "        lgb.log_evaluation(10)\n",
    "        ]\n",
    "    )\n",
    "\n",
    "    preds = model.predict(X_valid, num_iteration=model.best_iteration)\n",
    "    rmse = mean_squared_error(y_valid, preds, squared=False)\n",
    "    return rmse\n",
    "\n",
    "\n",
    "n_trials = 50\n",
    "def progress_callback(study, trial):\n",
    "    # Calculate the progress percentage\n",
    "    progress = (len(study.trials) / n_trials) * 100\n",
    "    print(f\"Progress: {progress:.2f}% - Trial {len(study.trials)} of {n_trials}\")\n"
   ]
  },
  {
   "cell_type": "markdown",
   "metadata": {},
   "source": [
    "#### Process data for model optimization"
   ]
  },
  {
   "cell_type": "code",
   "execution_count": null,
   "metadata": {},
   "outputs": [],
   "source": [
    "print(f\"==============  Processing meter value: {meter_value} =====================\")\n",
    "# Filter data and preprocess\n",
    "meter_filter = train_data['meter'] == meter_value\n",
    "X_meter = train_data.loc[meter_filter].drop(columns=['meter_reading', 'meter', 'date'])\n",
    "y_meter = train_data.loc[meter_filter, 'meter_reading']\n",
    "\n",
    "\n",
    "# Split Train set (2016) to train and validation set\n",
    "split_index = int(len(X_meter) * 0.8)\n",
    "X_train_meter = X_meter.iloc[:split_index]\n",
    "X_valid_meter = X_meter.iloc[split_index:]\n",
    "y_train_meter = y_meter.iloc[:split_index]\n",
    "y_valid_meter = y_meter.iloc[split_index:]\n",
    "\n",
    "X_train_processed, y_train_scaled, scaler, y_scaler = preprocess_data(\n",
    "     X_train_meter.copy(), y_train_meter, fit_scaler=True\n",
    ")\n",
    "X_valid_processed, y_valid_scaled = preprocess_data(\n",
    "     X_valid_meter.copy(), y_valid_meter, fit_scaler=False, scaler=scaler, y_scaler=y_scaler\n",
    ")"
   ]
  },
  {
   "cell_type": "code",
   "execution_count": null,
   "metadata": {},
   "outputs": [],
   "source": [
    "print(\"================= Tunning hyperparameters with Optuna...=====================\")\n",
    "# Hyperparameter tuning with Optuna\n",
    "study = optuna.create_study(direction='minimize')\n",
    "study.optimize(lambda trial: objective(trial, X_train_processed, y_train_scaled, X_valid_processed, y_valid_scaled),\n",
    "                n_trials=n_trials,\n",
    "                callbacks=[progress_callback])\n",
    "best_params = study.best_params\n",
    "\n",
    "print(f\"================= Best parameters found by Optuna:{best_params} ============\")"
   ]
  },
  {
   "cell_type": "markdown",
   "metadata": {
    "id": "pPB_FaFOxtDC"
   },
   "source": [
    "## Training Models"
   ]
  },
  {
   "cell_type": "markdown",
   "metadata": {
    "id": "-iE_JNoYxvuA"
   },
   "source": [
    "### Process training data (2016)"
   ]
  },
  {
   "cell_type": "code",
   "execution_count": 59,
   "metadata": {},
   "outputs": [],
   "source": [
    "# Filter data and preprocess\n",
    "X_meter = train_data.drop(columns=['meter_reading', 'date'])\n",
    "y_meter = train_data['meter_reading']\n",
    "\n",
    "X_train_full_processed, y_train_full_scaled, scaler, y_scaler = preprocess_data(\n",
    "    X_meter.copy(), y_meter, fit_scaler=True\n",
    ")\n",
    "\n",
    "for col in categorical_features:\n",
    "    X_train_full_processed[col] = X_train_full_processed[col].astype('category')"
   ]
  },
  {
   "cell_type": "code",
   "execution_count": 60,
   "metadata": {},
   "outputs": [
    {
     "data": {
      "text/html": [
       "<div>\n",
       "<style scoped>\n",
       "    .dataframe tbody tr th:only-of-type {\n",
       "        vertical-align: middle;\n",
       "    }\n",
       "\n",
       "    .dataframe tbody tr th {\n",
       "        vertical-align: top;\n",
       "    }\n",
       "\n",
       "    .dataframe thead th {\n",
       "        text-align: right;\n",
       "    }\n",
       "</style>\n",
       "<table border=\"1\" class=\"dataframe\">\n",
       "  <thead>\n",
       "    <tr style=\"text-align: right;\">\n",
       "      <th></th>\n",
       "      <th>meter</th>\n",
       "      <th>primaryspaceusage</th>\n",
       "      <th>sqm</th>\n",
       "      <th>airTemperature</th>\n",
       "      <th>month</th>\n",
       "      <th>weekday</th>\n",
       "      <th>site_id</th>\n",
       "    </tr>\n",
       "    <tr>\n",
       "      <th>building_id</th>\n",
       "      <th></th>\n",
       "      <th></th>\n",
       "      <th></th>\n",
       "      <th></th>\n",
       "      <th></th>\n",
       "      <th></th>\n",
       "      <th></th>\n",
       "    </tr>\n",
       "  </thead>\n",
       "  <tbody>\n",
       "    <tr>\n",
       "      <th>1</th>\n",
       "      <td>electricity</td>\n",
       "      <td>Education</td>\n",
       "      <td>-2.269816</td>\n",
       "      <td>-1.315060</td>\n",
       "      <td>1</td>\n",
       "      <td>4</td>\n",
       "      <td>1</td>\n",
       "    </tr>\n",
       "    <tr>\n",
       "      <th>1</th>\n",
       "      <td>electricity</td>\n",
       "      <td>Education</td>\n",
       "      <td>-2.269816</td>\n",
       "      <td>-1.205252</td>\n",
       "      <td>1</td>\n",
       "      <td>5</td>\n",
       "      <td>1</td>\n",
       "    </tr>\n",
       "    <tr>\n",
       "      <th>1</th>\n",
       "      <td>electricity</td>\n",
       "      <td>Education</td>\n",
       "      <td>-2.269816</td>\n",
       "      <td>-1.254292</td>\n",
       "      <td>1</td>\n",
       "      <td>6</td>\n",
       "      <td>1</td>\n",
       "    </tr>\n",
       "    <tr>\n",
       "      <th>1</th>\n",
       "      <td>electricity</td>\n",
       "      <td>Education</td>\n",
       "      <td>-2.269816</td>\n",
       "      <td>-1.344214</td>\n",
       "      <td>1</td>\n",
       "      <td>0</td>\n",
       "      <td>1</td>\n",
       "    </tr>\n",
       "    <tr>\n",
       "      <th>1</th>\n",
       "      <td>electricity</td>\n",
       "      <td>Education</td>\n",
       "      <td>-2.269816</td>\n",
       "      <td>-1.388739</td>\n",
       "      <td>1</td>\n",
       "      <td>1</td>\n",
       "      <td>1</td>\n",
       "    </tr>\n",
       "  </tbody>\n",
       "</table>\n",
       "</div>"
      ],
      "text/plain": [
       "                   meter primaryspaceusage       sqm  airTemperature month  \\\n",
       "building_id                                                                  \n",
       "1            electricity         Education -2.269816       -1.315060     1   \n",
       "1            electricity         Education -2.269816       -1.205252     1   \n",
       "1            electricity         Education -2.269816       -1.254292     1   \n",
       "1            electricity         Education -2.269816       -1.344214     1   \n",
       "1            electricity         Education -2.269816       -1.388739     1   \n",
       "\n",
       "            weekday site_id  \n",
       "building_id                  \n",
       "1                 4       1  \n",
       "1                 5       1  \n",
       "1                 6       1  \n",
       "1                 0       1  \n",
       "1                 1       1  "
      ]
     },
     "execution_count": 60,
     "metadata": {},
     "output_type": "execute_result"
    }
   ],
   "source": [
    "X_train_full_processed.head()"
   ]
  },
  {
   "cell_type": "code",
   "execution_count": 61,
   "metadata": {},
   "outputs": [
    {
     "name": "stdout",
     "output_type": "stream",
     "text": [
      "<class 'pandas.core.frame.DataFrame'>\n",
      "Index: 672708 entries, 1 to 924\n",
      "Data columns (total 7 columns):\n",
      " #   Column             Non-Null Count   Dtype   \n",
      "---  ------             --------------   -----   \n",
      " 0   meter              672708 non-null  category\n",
      " 1   primaryspaceusage  672708 non-null  category\n",
      " 2   sqm                672708 non-null  float64 \n",
      " 3   airTemperature     672708 non-null  float64 \n",
      " 4   month              672708 non-null  category\n",
      " 5   weekday            672708 non-null  category\n",
      " 6   site_id            672708 non-null  category\n",
      "dtypes: category(5), float64(2)\n",
      "memory usage: 18.6 MB\n"
     ]
    }
   ],
   "source": [
    "X_train_full_processed.info()"
   ]
  },
  {
   "cell_type": "markdown",
   "metadata": {},
   "source": [
    "### Process test data (2017)"
   ]
  },
  {
   "cell_type": "code",
   "execution_count": 62,
   "metadata": {},
   "outputs": [],
   "source": [
    "X_test = test_data.drop(columns=['meter_reading', 'date'])\n",
    "y_test = test_data['meter_reading']\n",
    "\n",
    "X_test_processed, y_test_scaled = preprocess_data(\n",
    "    X_test.copy(), y_test, fit_scaler=False, scaler=scaler, y_scaler=y_scaler  \n",
    ")  # Must use the same scaler as the training set to prevent data leakage\n",
    "\n",
    "# Ensure that categorical columns in X_test_processed have the same levels as in X_train_processed\n",
    "for col in categorical_features:\n",
    "    X_test_processed[col] = X_test_processed[col].astype('category')"
   ]
  },
  {
   "cell_type": "code",
   "execution_count": 63,
   "metadata": {},
   "outputs": [
    {
     "data": {
      "text/html": [
       "<div>\n",
       "<style scoped>\n",
       "    .dataframe tbody tr th:only-of-type {\n",
       "        vertical-align: middle;\n",
       "    }\n",
       "\n",
       "    .dataframe tbody tr th {\n",
       "        vertical-align: top;\n",
       "    }\n",
       "\n",
       "    .dataframe thead th {\n",
       "        text-align: right;\n",
       "    }\n",
       "</style>\n",
       "<table border=\"1\" class=\"dataframe\">\n",
       "  <thead>\n",
       "    <tr style=\"text-align: right;\">\n",
       "      <th></th>\n",
       "      <th>meter</th>\n",
       "      <th>primaryspaceusage</th>\n",
       "      <th>sqm</th>\n",
       "      <th>airTemperature</th>\n",
       "      <th>month</th>\n",
       "      <th>weekday</th>\n",
       "      <th>site_id</th>\n",
       "    </tr>\n",
       "    <tr>\n",
       "      <th>building_id</th>\n",
       "      <th></th>\n",
       "      <th></th>\n",
       "      <th></th>\n",
       "      <th></th>\n",
       "      <th></th>\n",
       "      <th></th>\n",
       "      <th></th>\n",
       "    </tr>\n",
       "  </thead>\n",
       "  <tbody>\n",
       "    <tr>\n",
       "      <th>1</th>\n",
       "      <td>electricity</td>\n",
       "      <td>Education</td>\n",
       "      <td>-2.269816</td>\n",
       "      <td>-1.158341</td>\n",
       "      <td>1</td>\n",
       "      <td>6</td>\n",
       "      <td>1</td>\n",
       "    </tr>\n",
       "    <tr>\n",
       "      <th>1</th>\n",
       "      <td>electricity</td>\n",
       "      <td>Education</td>\n",
       "      <td>-2.269816</td>\n",
       "      <td>-1.307638</td>\n",
       "      <td>1</td>\n",
       "      <td>0</td>\n",
       "      <td>1</td>\n",
       "    </tr>\n",
       "    <tr>\n",
       "      <th>1</th>\n",
       "      <td>electricity</td>\n",
       "      <td>Education</td>\n",
       "      <td>-2.269816</td>\n",
       "      <td>-1.208727</td>\n",
       "      <td>1</td>\n",
       "      <td>1</td>\n",
       "      <td>1</td>\n",
       "    </tr>\n",
       "    <tr>\n",
       "      <th>1</th>\n",
       "      <td>electricity</td>\n",
       "      <td>Education</td>\n",
       "      <td>-2.269816</td>\n",
       "      <td>-1.210297</td>\n",
       "      <td>1</td>\n",
       "      <td>2</td>\n",
       "      <td>1</td>\n",
       "    </tr>\n",
       "    <tr>\n",
       "      <th>1</th>\n",
       "      <td>electricity</td>\n",
       "      <td>Education</td>\n",
       "      <td>-2.269816</td>\n",
       "      <td>-1.833772</td>\n",
       "      <td>1</td>\n",
       "      <td>3</td>\n",
       "      <td>1</td>\n",
       "    </tr>\n",
       "  </tbody>\n",
       "</table>\n",
       "</div>"
      ],
      "text/plain": [
       "                   meter primaryspaceusage       sqm  airTemperature month  \\\n",
       "building_id                                                                  \n",
       "1            electricity         Education -2.269816       -1.158341     1   \n",
       "1            electricity         Education -2.269816       -1.307638     1   \n",
       "1            electricity         Education -2.269816       -1.208727     1   \n",
       "1            electricity         Education -2.269816       -1.210297     1   \n",
       "1            electricity         Education -2.269816       -1.833772     1   \n",
       "\n",
       "            weekday site_id  \n",
       "building_id                  \n",
       "1                 6       1  \n",
       "1                 0       1  \n",
       "1                 1       1  \n",
       "1                 2       1  \n",
       "1                 3       1  "
      ]
     },
     "execution_count": 63,
     "metadata": {},
     "output_type": "execute_result"
    }
   ],
   "source": [
    "X_test_processed.head()"
   ]
  },
  {
   "cell_type": "code",
   "execution_count": 64,
   "metadata": {},
   "outputs": [
    {
     "name": "stdout",
     "output_type": "stream",
     "text": [
      "<class 'pandas.core.frame.DataFrame'>\n",
      "Index: 670290 entries, 1 to 924\n",
      "Data columns (total 7 columns):\n",
      " #   Column             Non-Null Count   Dtype   \n",
      "---  ------             --------------   -----   \n",
      " 0   meter              670290 non-null  category\n",
      " 1   primaryspaceusage  670290 non-null  category\n",
      " 2   sqm                670290 non-null  float64 \n",
      " 3   airTemperature     670290 non-null  float64 \n",
      " 4   month              670290 non-null  category\n",
      " 5   weekday            670290 non-null  category\n",
      " 6   site_id            670290 non-null  category\n",
      "dtypes: category(5), float64(2)\n",
      "memory usage: 18.5 MB\n"
     ]
    }
   ],
   "source": [
    "X_test_processed.info() "
   ]
  },
  {
   "cell_type": "markdown",
   "metadata": {},
   "source": [
    "### Define Parameters\n",
    "\n",
    "* Ideally, we would use the parameters obtained from the model optimization process described above.\n",
    "* However, to save time, we’ve opted to skip the hyperparameter tuning step and instead directly define a set of parameters."
   ]
  },
  {
   "cell_type": "code",
   "execution_count": 65,
   "metadata": {},
   "outputs": [],
   "source": [
    "best_params = {\n",
    "    'num_leaves': 1000,                # Reduce to limit complexity\n",
    "    'learning_rate': 0.01,           # Lower learning rate\n",
    "    'max_bin': 512,                   # Reduce max_bin\n",
    "    'lambda_l1': 0.01,                 # Add L1 regularization\n",
    "    'lambda_l2': 0.01,                 # Add L2 regularization\n",
    "    'min_child_samples': 20,          # Increase min_child_samples\n",
    "    'max_depth': 15,                  # Limit max_depth\n",
    "}"
   ]
  },
  {
   "cell_type": "markdown",
   "metadata": {},
   "source": [
    "### Define functions to train the model"
   ]
  },
  {
   "cell_type": "code",
   "execution_count": 66,
   "metadata": {},
   "outputs": [],
   "source": [
    "# Custom callback to log progress with estimated remaining time\n",
    "class TimeEstimatorCallback:\n",
    "    def __init__(self, num_boost_round, display_interval=50):\n",
    "        self.num_boost_round = num_boost_round\n",
    "        self.display_interval = display_interval\n",
    "        self.start_time = None\n",
    "\n",
    "    def __call__(self, env):\n",
    "        if env.iteration == 0:\n",
    "            self.start_time = time.time()\n",
    "        \n",
    "        if env.iteration % self.display_interval == 0:\n",
    "            elapsed_time = time.time() - self.start_time\n",
    "            average_time_per_iter = elapsed_time / (env.iteration + 1)\n",
    "            remaining_iters = self.num_boost_round - env.iteration\n",
    "            estimated_remaining_time = remaining_iters * average_time_per_iter\n",
    "            \n",
    "            # Check if evaluation results are available\n",
    "            if env.evaluation_result_list:\n",
    "                rmse = env.evaluation_result_list[0][2]\n",
    "                print(f\"[Iteration {env.iteration}] RMSE: {rmse:.4f} \"\n",
    "                      f\"| Elapsed: {elapsed_time:.2f}s \"\n",
    "                      f\"| Estimated Remaining: {estimated_remaining_time:.2f}s\")\n",
    "            else:\n",
    "                print(f\"[Iteration {env.iteration}] No evaluation results \"\n",
    "                      f\"| Elapsed: {elapsed_time:.2f}s \"\n",
    "                      f\"| Estimated Remaining: {estimated_remaining_time:.2f}s\")\n",
    "\n",
    "# Function to train the final model with tuned parameters (no validation set)\n",
    "def train_final_model(X_train, y_train, best_params):\n",
    "    final_params = {\n",
    "        'objective': 'regression',\n",
    "        'metric': 'rmse',\n",
    "        'boosting_type': 'gbdt',\n",
    "        'device': 'cpu',\n",
    "        'verbosity': -1,\n",
    "    }\n",
    "    final_params.update(best_params)\n",
    "\n",
    "    # Create the LightGBM training dataset\n",
    "    lgb_train = lgb.Dataset(X_train, label=y_train, categorical_feature=categorical_features)\n",
    "    \n",
    "    num_boost_round = 1000\n",
    "\n",
    "    # Train the model only on the training set, without validation logging\n",
    "    model = lgb.train(\n",
    "        final_params,\n",
    "        lgb_train,\n",
    "        num_boost_round=num_boost_round,\n",
    "        valid_sets=[lgb_train],  # Only use the training set here\n",
    "        callbacks=[\n",
    "            lgb.log_evaluation(100),            # Log training metrics every 100 rounds\n",
    "            TimeEstimatorCallback(num_boost_round, 100)  # Estimate time every 50 iterations\n",
    "        ]\n",
    "    )\n",
    "\n",
    "    return model"
   ]
  },
  {
   "cell_type": "markdown",
   "metadata": {},
   "source": [
    "### Train the model"
   ]
  },
  {
   "cell_type": "code",
   "execution_count": 67,
   "metadata": {
    "colab": {
     "base_uri": "https://localhost:8080/",
     "height": 237
    },
    "collapsed": true,
    "executionInfo": {
     "elapsed": 395,
     "status": "error",
     "timestamp": 1730577281776,
     "user": {
      "displayName": "Felix Le",
      "userId": "06899890425444909729"
     },
     "user_tz": -420
    },
    "id": "ERGFbEX_-g2v",
    "outputId": "6c6ec7c9-7d47-40bb-dc10-8745ce54b2fb"
   },
   "outputs": [
    {
     "name": "stdout",
     "output_type": "stream",
     "text": [
      "========== Training the final model ==========================\n",
      "[Iteration 0] RMSE: 0.9924 | Elapsed: 0.00s | Estimated Remaining: 0.00s\n",
      "[100]\ttraining's rmse: 0.552009\n",
      "[Iteration 100] RMSE: 0.5497 | Elapsed: 14.31s | Estimated Remaining: 127.55s\n",
      "[200]\ttraining's rmse: 0.418582\n",
      "[Iteration 200] RMSE: 0.4179 | Elapsed: 24.29s | Estimated Remaining: 96.67s\n",
      "[300]\ttraining's rmse: 0.37051\n",
      "[Iteration 300] RMSE: 0.3702 | Elapsed: 31.58s | Estimated Remaining: 73.44s\n",
      "[400]\ttraining's rmse: 0.343602\n",
      "[Iteration 400] RMSE: 0.3434 | Elapsed: 38.46s | Estimated Remaining: 57.54s\n",
      "[500]\ttraining's rmse: 0.32685\n",
      "[Iteration 500] RMSE: 0.3267 | Elapsed: 114.13s | Estimated Remaining: 113.90s\n",
      "[600]\ttraining's rmse: 0.315589\n",
      "[Iteration 600] RMSE: 0.3155 | Elapsed: 119.95s | Estimated Remaining: 79.84s\n",
      "[700]\ttraining's rmse: 0.307935\n",
      "[Iteration 700] RMSE: 0.3079 | Elapsed: 125.44s | Estimated Remaining: 53.68s\n",
      "[800]\ttraining's rmse: 0.30196\n",
      "[Iteration 800] RMSE: 0.3019 | Elapsed: 130.95s | Estimated Remaining: 32.70s\n",
      "[900]\ttraining's rmse: 0.297265\n",
      "[Iteration 900] RMSE: 0.2972 | Elapsed: 135.46s | Estimated Remaining: 15.03s\n",
      "[1000]\ttraining's rmse: 0.292693\n"
     ]
    }
   ],
   "source": [
    "print(\"========== Training the final model ==========================\")\n",
    "\n",
    "final_model = train_final_model(X_train_full_processed, y_train_full_scaled, best_params)"
   ]
  },
  {
   "cell_type": "code",
   "execution_count": 68,
   "metadata": {},
   "outputs": [
    {
     "data": {
      "image/png": "[encoded data removed]",
      "text/plain": [
       "<Figure size 640x480 with 1 Axes>"
      ]
     },
     "metadata": {},
     "output_type": "display_data"
    }
   ],
   "source": [
    "# Plot the feature importance\n",
    "ax = lgb.plot_importance(final_model, max_num_features=20, importance_type='gain')\n",
    "plt.title(f\"Feature Importance for All Meter\")\n",
    "plt.show()"
   ]
  },
  {
   "cell_type": "markdown",
   "metadata": {},
   "source": [
    "## Check Model Performance on training dataset"
   ]
  },
  {
   "cell_type": "markdown",
   "metadata": {},
   "source": [
    "### Define functions to evaluate model"
   ]
  },
  {
   "cell_type": "code",
   "execution_count": 69,
   "metadata": {},
   "outputs": [],
   "source": [
    "def evaluate_model(model, X_test, y_test, y_scaler):\n",
    "    # Get predictions\n",
    "    y_pred_scaled = model.predict(X_test)\n",
    "    y_pred_log = y_scaler.inverse_transform(y_pred_scaled.reshape(-1, 1))\n",
    "    y_pred = np.expm1(y_pred_log).flatten()  # Transform back from log scale\n",
    "\n",
    "    # Since y_test is already in original scale, no transformation needed\n",
    "    y_true = y_test\n",
    "\n",
    "    # Calculate metrics\n",
    "    rmse = root_mean_squared_error(y_true, y_pred)\n",
    "    cvrmse = coefficient_of_variation_root_mean_squared_error(y_true, y_pred)\n",
    "    mbe = mean_bias_error(y_true, y_pred)\n",
    "    nmbe = normalized_mean_bias_error(y_true, y_pred)\n",
    "    r2 = r_squared(y_true, y_pred)\n",
    "\n",
    "    # Create the results DataFrame including X_test features\n",
    "    results_df = pd.DataFrame(X_test).copy()\n",
    "    results_df['y_true'] = y_true\n",
    "    results_df['y_pred'] = y_pred\n",
    "\n",
    "    return rmse, cvrmse, nmbe, mbe, r2, results_df"
   ]
  },
  {
   "cell_type": "markdown",
   "metadata": {},
   "source": [
    "### Evaluate model on training dataset"
   ]
  },
  {
   "cell_type": "code",
   "execution_count": 70,
   "metadata": {},
   "outputs": [
    {
     "name": "stdout",
     "output_type": "stream",
     "text": [
      "Evaluating the model on training set\n",
      "Results for all meters on train set:\n",
      "       RMSE=3132995.0253,\n",
      "       CV-RMSE=942.4418 %,\n",
      "       NMBE=58.9857 %,\n",
      "       MBE=196088.4835,\n",
      "       R2=0.216\n"
     ]
    }
   ],
   "source": [
    "print(\"Evaluating the model on training set\")\n",
    "# Evaluate the model\n",
    "rmse, cvrmse, nmbe, mbe, r2, results_df_training = evaluate_model(final_model, X_train_full_processed, y_meter, y_scaler)\n",
    "\n",
    "# append metrics to \n",
    "results_training = []\n",
    "results_training.append({\n",
    "    'meter_value': 'all_meter',\n",
    "    'best_params': best_params,\n",
    "    'rmse': rmse,\n",
    "    'cv-rmse': cvrmse,\n",
    "    'nmbe': nmbe,\n",
    "})\n",
    "\n",
    "print(f\"Results for all meters on train set:\\n \\\n",
    "      RMSE={round(rmse, 4)},\\n \\\n",
    "      CV-RMSE={round(cvrmse, 4)} %,\\n \\\n",
    "      NMBE={round(nmbe, 4)} %,\\n \\\n",
    "      MBE={round(mbe, 4)},\\n \\\n",
    "      R2={round(r2, 4)}\")\n"
   ]
  },
  {
   "cell_type": "markdown",
   "metadata": {},
   "source": [
    "### Visualize Prediction versus Actual on training set"
   ]
  },
  {
   "cell_type": "code",
   "execution_count": 71,
   "metadata": {},
   "outputs": [
    {
     "data": {
      "image/png": "[encoded data removed]",
      "text/plain": [
       "<Figure size 1200x600 with 1 Axes>"
      ]
     },
     "metadata": {},
     "output_type": "display_data"
    }
   ],
   "source": [
    "plt.figure(figsize=(12, 6))\n",
    "\n",
    "# Use contrasting colors and adjust the line width for better visibility\n",
    "plt.plot(results_df_training['y_true'], label=\"Actual\", color=\"blue\", alpha=0.6, linewidth=1.5)\n",
    "plt.plot(results_df_training['y_pred'], label=\"Predicted\", color=\"orange\", alpha=0.6, linewidth=1.5)\n",
    "\n",
    "plt.xlabel(\"Sample\")\n",
    "plt.ylabel(\"Value\")\n",
    "plt.legend()\n",
    "plt.title(\"Actual vs. Predicted Values\")\n",
    "plt.grid(True, linestyle='--', alpha=0.5)  # Add a light grid for better readability\n",
    "\n",
    "plt.show()"
   ]
  },
  {
   "cell_type": "markdown",
   "metadata": {
    "id": "bK4QwaZZAoc_"
   },
   "source": [
    "## Evaluate model on test set"
   ]
  },
  {
   "cell_type": "code",
   "execution_count": 72,
   "metadata": {
    "id": "wEx5MgKS_FLL"
   },
   "outputs": [
    {
     "name": "stdout",
     "output_type": "stream",
     "text": [
      "Evaluating the model on test set\n",
      "Results for all meter on test set:\n",
      "       RMSE=2416184.8852,\n",
      "       CV-RMSE=815.5956 %,\n",
      "       NMBE=54.2474 %,\n",
      "       MBE=160706.7045,\n",
      "       R2=0.2682\n"
     ]
    }
   ],
   "source": [
    "print(\"Evaluating the model on test set\")\n",
    "# Evaluate the model\n",
    "rmse, cvrmse, nmbe, mbe,r2 ,results_df = evaluate_model(final_model, X_test_processed, y_test, y_scaler)\n",
    "\n",
    "# append metrics to \n",
    "results.append({\n",
    "    'meter_value': \"All meters\",\n",
    "    'best_params': best_params,\n",
    "    'rmse': rmse,\n",
    "    'cv-rmse': cvrmse,\n",
    "    'nmbe': nmbe,\n",
    "    'r2_score': r2\n",
    "})\n",
    "\n",
    "print(f\"Results for all meter on test set:\\n \\\n",
    "      RMSE={round(rmse, 4)},\\n \\\n",
    "      CV-RMSE={round(cvrmse, 4)} %,\\n \\\n",
    "      NMBE={round(nmbe, 4)} %,\\n \\\n",
    "      MBE={round(mbe, 4)},\\n \\\n",
    "      R2={round(r2, 4)}\")"
   ]
  },
  {
   "cell_type": "code",
   "execution_count": 73,
   "metadata": {},
   "outputs": [
    {
     "data": {
      "text/html": [
       "<div>\n",
       "<style scoped>\n",
       "    .dataframe tbody tr th:only-of-type {\n",
       "        vertical-align: middle;\n",
       "    }\n",
       "\n",
       "    .dataframe tbody tr th {\n",
       "        vertical-align: top;\n",
       "    }\n",
       "\n",
       "    .dataframe thead th {\n",
       "        text-align: right;\n",
       "    }\n",
       "</style>\n",
       "<table border=\"1\" class=\"dataframe\">\n",
       "  <thead>\n",
       "    <tr style=\"text-align: right;\">\n",
       "      <th></th>\n",
       "      <th>meter</th>\n",
       "      <th>primaryspaceusage</th>\n",
       "      <th>sqm</th>\n",
       "      <th>airTemperature</th>\n",
       "      <th>month</th>\n",
       "      <th>weekday</th>\n",
       "      <th>site_id</th>\n",
       "      <th>y_true</th>\n",
       "      <th>y_pred</th>\n",
       "    </tr>\n",
       "    <tr>\n",
       "      <th>building_id</th>\n",
       "      <th></th>\n",
       "      <th></th>\n",
       "      <th></th>\n",
       "      <th></th>\n",
       "      <th></th>\n",
       "      <th></th>\n",
       "      <th></th>\n",
       "      <th></th>\n",
       "      <th></th>\n",
       "    </tr>\n",
       "  </thead>\n",
       "  <tbody>\n",
       "    <tr>\n",
       "      <th>238</th>\n",
       "      <td>electricity</td>\n",
       "      <td>Education</td>\n",
       "      <td>0.207419</td>\n",
       "      <td>0.759295</td>\n",
       "      <td>9</td>\n",
       "      <td>6</td>\n",
       "      <td>5</td>\n",
       "      <td>8195.3750</td>\n",
       "      <td>6348.010660</td>\n",
       "    </tr>\n",
       "    <tr>\n",
       "      <th>700</th>\n",
       "      <td>electricity</td>\n",
       "      <td>Education</td>\n",
       "      <td>-0.502754</td>\n",
       "      <td>-0.322889</td>\n",
       "      <td>3</td>\n",
       "      <td>4</td>\n",
       "      <td>13</td>\n",
       "      <td>957.3898</td>\n",
       "      <td>726.856930</td>\n",
       "    </tr>\n",
       "    <tr>\n",
       "      <th>374</th>\n",
       "      <td>hotwater</td>\n",
       "      <td>Office</td>\n",
       "      <td>0.116100</td>\n",
       "      <td>1.101468</td>\n",
       "      <td>8</td>\n",
       "      <td>5</td>\n",
       "      <td>7</td>\n",
       "      <td>0.0000</td>\n",
       "      <td>14925.049926</td>\n",
       "    </tr>\n",
       "    <tr>\n",
       "      <th>765</th>\n",
       "      <td>electricity</td>\n",
       "      <td>Education</td>\n",
       "      <td>1.571121</td>\n",
       "      <td>-0.728627</td>\n",
       "      <td>11</td>\n",
       "      <td>6</td>\n",
       "      <td>14</td>\n",
       "      <td>10549.4000</td>\n",
       "      <td>7154.371671</td>\n",
       "    </tr>\n",
       "    <tr>\n",
       "      <th>667</th>\n",
       "      <td>electricity</td>\n",
       "      <td>Office</td>\n",
       "      <td>0.237989</td>\n",
       "      <td>-1.064075</td>\n",
       "      <td>2</td>\n",
       "      <td>3</td>\n",
       "      <td>12</td>\n",
       "      <td>1949.4762</td>\n",
       "      <td>0.612803</td>\n",
       "    </tr>\n",
       "    <tr>\n",
       "      <th>211</th>\n",
       "      <td>chilledwater</td>\n",
       "      <td>Education</td>\n",
       "      <td>-1.259152</td>\n",
       "      <td>0.142635</td>\n",
       "      <td>4</td>\n",
       "      <td>3</td>\n",
       "      <td>4</td>\n",
       "      <td>2129.2677</td>\n",
       "      <td>311.874572</td>\n",
       "    </tr>\n",
       "    <tr>\n",
       "      <th>103</th>\n",
       "      <td>electricity</td>\n",
       "      <td>Education</td>\n",
       "      <td>1.090656</td>\n",
       "      <td>-1.208727</td>\n",
       "      <td>1</td>\n",
       "      <td>1</td>\n",
       "      <td>3</td>\n",
       "      <td>7775.0000</td>\n",
       "      <td>1058.722739</td>\n",
       "    </tr>\n",
       "    <tr>\n",
       "      <th>768</th>\n",
       "      <td>electricity</td>\n",
       "      <td>Education</td>\n",
       "      <td>-0.057274</td>\n",
       "      <td>-2.061496</td>\n",
       "      <td>12</td>\n",
       "      <td>4</td>\n",
       "      <td>14</td>\n",
       "      <td>0.0000</td>\n",
       "      <td>45.610751</td>\n",
       "    </tr>\n",
       "    <tr>\n",
       "      <th>720</th>\n",
       "      <td>electricity</td>\n",
       "      <td>Education</td>\n",
       "      <td>-0.160633</td>\n",
       "      <td>-0.122375</td>\n",
       "      <td>5</td>\n",
       "      <td>1</td>\n",
       "      <td>14</td>\n",
       "      <td>0.0000</td>\n",
       "      <td>1.388158</td>\n",
       "    </tr>\n",
       "    <tr>\n",
       "      <th>557</th>\n",
       "      <td>gas</td>\n",
       "      <td>Education</td>\n",
       "      <td>-0.765164</td>\n",
       "      <td>-0.208144</td>\n",
       "      <td>10</td>\n",
       "      <td>6</td>\n",
       "      <td>10</td>\n",
       "      <td>418.2790</td>\n",
       "      <td>65.276925</td>\n",
       "    </tr>\n",
       "  </tbody>\n",
       "</table>\n",
       "</div>"
      ],
      "text/plain": [
       "                    meter primaryspaceusage       sqm  airTemperature month  \\\n",
       "building_id                                                                   \n",
       "238           electricity         Education  0.207419        0.759295     9   \n",
       "700           electricity         Education -0.502754       -0.322889     3   \n",
       "374              hotwater            Office  0.116100        1.101468     8   \n",
       "765           electricity         Education  1.571121       -0.728627    11   \n",
       "667           electricity            Office  0.237989       -1.064075     2   \n",
       "211          chilledwater         Education -1.259152        0.142635     4   \n",
       "103           electricity         Education  1.090656       -1.208727     1   \n",
       "768           electricity         Education -0.057274       -2.061496    12   \n",
       "720           electricity         Education -0.160633       -0.122375     5   \n",
       "557                   gas         Education -0.765164       -0.208144    10   \n",
       "\n",
       "            weekday site_id      y_true        y_pred  \n",
       "building_id                                            \n",
       "238               6       5   8195.3750   6348.010660  \n",
       "700               4      13    957.3898    726.856930  \n",
       "374               5       7      0.0000  14925.049926  \n",
       "765               6      14  10549.4000   7154.371671  \n",
       "667               3      12   1949.4762      0.612803  \n",
       "211               3       4   2129.2677    311.874572  \n",
       "103               1       3   7775.0000   1058.722739  \n",
       "768               4      14      0.0000     45.610751  \n",
       "720               1      14      0.0000      1.388158  \n",
       "557               6      10    418.2790     65.276925  "
      ]
     },
     "execution_count": 73,
     "metadata": {},
     "output_type": "execute_result"
    }
   ],
   "source": [
    "results_df.sample(10)"
   ]
  },
  {
   "cell_type": "markdown",
   "metadata": {},
   "source": [
    "### Visualize actual versus predictions on test set"
   ]
  },
  {
   "cell_type": "code",
   "execution_count": 74,
   "metadata": {},
   "outputs": [
    {
     "data": {
      "image/png": "[encoded data removed]",
      "text/plain": [
       "<Figure size 1200x800 with 1 Axes>"
      ]
     },
     "metadata": {},
     "output_type": "display_data"
    }
   ],
   "source": [
    "plt.figure(figsize=(12, 8))\n",
    "\n",
    "# Use contrasting colors and adjust the line width for better visibility\n",
    "plt.plot(results_df['y_true'], label=\"Actual\", color=\"blue\", alpha=0.6, linewidth=1.5)\n",
    "plt.plot(results_df['y_pred'], label=\"Predicted\", color=\"orange\", alpha=0.6, linewidth=1.5)\n",
    "\n",
    "plt.xlabel(\"Sample\")\n",
    "plt.ylabel(\"Value\")\n",
    "plt.legend()\n",
    "plt.title(\"Actual vs. Predicted Values\")\n",
    "plt.grid(True, linestyle='--', alpha=0.5)  # Add a light grid for better readability\n",
    "\n",
    "plt.show()"
   ]
  },
  {
   "cell_type": "markdown",
   "metadata": {},
   "source": [
    "## Save model checkpoint"
   ]
  },
  {
   "cell_type": "markdown",
   "metadata": {},
   "source": [
    "#### Save the scaler as well"
   ]
  },
  {
   "cell_type": "code",
   "execution_count": 82,
   "metadata": {},
   "outputs": [
    {
     "name": "stdout",
     "output_type": "stream",
     "text": [
      "Model and scalers saved successfully.\n"
     ]
    }
   ],
   "source": [
    "model_data = {\n",
    "    \"model\": final_model,\n",
    "    \"scaler\": scaler,\n",
    "    \"y_scaler\": y_scaler\n",
    "}\n",
    "\n",
    "# Save everything in a single file\n",
    "joblib.dump(model_data, \"../models/lgbm_all_meter.joblib\")\n",
    "print(\"Model and scalers saved successfully.\")"
   ]
  }
 ],
 "metadata": {
  "accelerator": "GPU",
  "colab": {
   "gpuType": "T4",
   "provenance": []
  },
  "kernelspec": {
   "display_name": "env",
   "language": "python",
   "name": "python3"
  },
  "language_info": {
   "codemirror_mode": {
    "name": "ipython",
    "version": 3
   },
   "file_extension": ".py",
   "mimetype": "text/x-python",
   "name": "python",
   "nbconvert_exporter": "python",
   "pygments_lexer": "ipython3",
   "version": "3.10.12"
  }
 },
 "nbformat": 4,
 "nbformat_minor": 0
}
